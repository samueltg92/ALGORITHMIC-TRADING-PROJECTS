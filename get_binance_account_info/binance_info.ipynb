{
 "cells": [
  {
   "cell_type": "code",
   "execution_count": 1,
   "metadata": {},
   "outputs": [],
   "source": [
    "import ccxt\n",
    "from binance.client import Client\n",
    "from dotenv import load_dotenv\n",
    "import os"
   ]
  },
  {
   "cell_type": "code",
   "execution_count": 28,
   "metadata": {},
   "outputs": [
    {
     "name": "stdout",
     "output_type": "stream",
     "text": [
      "2543.52646666073\n"
     ]
    }
   ],
   "source": [
    "load_dotenv()\n",
    "\n",
    "publicsam = os.getenv('PUBLIC1')\n",
    "privatesam = os.getenv('SECRET1')\n",
    "client = Client(privatesam, privatesam)\n",
    "\n",
    "def main(API_KEY,PRIVATE_KEY, symbol):\n",
    "    binance = ccxt.binance({\n",
    "        'apiKey': API_KEY,\n",
    "        'secret': PRIVATE_KEY,\n",
    "        'verbose': False,\n",
    "    })\n",
    "        \n",
    "    balance_free = (binance.fetch_balance().get(symbol).get('free'))\n",
    "    \n",
    "    \n",
    "    return float(balance_free)\n",
    "    \n",
    "def current_price(symbols):\n",
    "    current_price = (client.get_symbol_ticker(symbol= symbols)[\"price\"])\n",
    "    \n",
    "    return float(current_price)\n",
    "        \n",
    "\n",
    "if __name__ == '__main__':\n",
    "    \n",
    "    def convert(symbol, symbols):\n",
    "        return main(publicsam, privatesam, symbol) * current_price(symbols)\n",
    "    \n",
    "    sum = convert('ETH', 'ETHUSDT') + convert('BTC', 'BTCUSDT') + convert('LINK', 'LINKUSDT') + main(publicsam, privatesam, 'USDT')\n",
    "    print(sum)     \n",
    "    \n"
   ]
  },
  {
   "cell_type": "code",
   "execution_count": null,
   "metadata": {},
   "outputs": [],
   "source": []
  }
 ],
 "metadata": {
  "kernelspec": {
   "display_name": "Python 3.9.7 ('TRADING')",
   "language": "python",
   "name": "python3"
  },
  "language_info": {
   "codemirror_mode": {
    "name": "ipython",
    "version": 3
   },
   "file_extension": ".py",
   "mimetype": "text/x-python",
   "name": "python",
   "nbconvert_exporter": "python",
   "pygments_lexer": "ipython3",
   "version": "3.9.7"
  },
  "orig_nbformat": 4,
  "vscode": {
   "interpreter": {
    "hash": "d5bf52178c2f6b385ff01200ba56c20879e9f5bf036653deba3ae3a93ee7aba2"
   }
  }
 },
 "nbformat": 4,
 "nbformat_minor": 2
}
