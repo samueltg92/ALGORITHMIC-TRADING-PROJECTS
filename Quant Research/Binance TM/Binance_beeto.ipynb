{
 "cells": [
  {
   "cell_type": "code",
   "execution_count": 1,
   "metadata": {},
   "outputs": [],
   "source": [
    "%matplotlib inline\n",
    "import quantstats as qs\n",
    "import pandas as pd\n",
    "import numpy as np"
   ]
  },
  {
   "cell_type": "code",
   "execution_count": null,
   "metadata": {},
   "outputs": [],
   "source": [
    "# leer archivo de excel \n",
    "\n",
    "bnc = pd.read_excel('ReportHistory-2112117.xlsx') # leer dataframe de binance\n",
    "#roboforex_history =roboforex_history.replace(0.00,np.nan).dropna(axis=1,how=\"all\")\n",
    "bnc.head()"
   ]
  },
  {
   "cell_type": "code",
   "execution_count": null,
   "metadata": {},
   "outputs": [],
   "source": [
    "# crear columna con nombre de \"pct\" y aplicarle un calculo de cambio porcentual a la columna de balance \n",
    "\n",
    "bnc['pct'] = bnc['Balance'].pct_change()\n",
    "bnc.head()"
   ]
  },
  {
   "cell_type": "code",
   "execution_count": null,
   "metadata": {},
   "outputs": [],
   "source": [
    "# to datetime a la columna \"Time\"\n",
    "\n",
    "bnc['Time'] = pd.to_datetime(bnc['Time'])"
   ]
  },
  {
   "cell_type": "code",
   "execution_count": null,
   "metadata": {},
   "outputs": [],
   "source": [
    "# seteo la columna \"Time\" como indice\n",
    "\n",
    "bnc = bnc.set_index('Time')"
   ]
  },
  {
   "cell_type": "code",
   "execution_count": null,
   "metadata": {},
   "outputs": [],
   "source": [
    "# aplico calculos de quantstats a la columna \"pct\"\n",
    "\n",
    "qs.reports.full((bnc['pct']))"
   ]
  }
 ],
 "metadata": {
  "kernelspec": {
   "display_name": "Python 3.9.7 ('TRADING')",
   "language": "python",
   "name": "python3"
  },
  "language_info": {
   "codemirror_mode": {
    "name": "ipython",
    "version": 3
   },
   "file_extension": ".py",
   "mimetype": "text/x-python",
   "name": "python",
   "nbconvert_exporter": "python",
   "pygments_lexer": "ipython3",
   "version": "3.9.7"
  },
  "orig_nbformat": 4,
  "vscode": {
   "interpreter": {
    "hash": "d5bf52178c2f6b385ff01200ba56c20879e9f5bf036653deba3ae3a93ee7aba2"
   }
  }
 },
 "nbformat": 4,
 "nbformat_minor": 2
}
