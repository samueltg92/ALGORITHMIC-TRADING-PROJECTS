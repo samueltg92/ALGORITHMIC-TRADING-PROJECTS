{
 "cells": [
  {
   "cell_type": "code",
   "execution_count": 1,
   "metadata": {},
   "outputs": [
    {
     "name": "stderr",
     "output_type": "stream",
     "text": [
      "2023-05-03 08:29:58.361777: I tensorflow/tsl/cuda/cudart_stub.cc:28] Could not find cuda drivers on your machine, GPU will not be used.\n",
      "2023-05-03 08:29:58.437848: I tensorflow/tsl/cuda/cudart_stub.cc:28] Could not find cuda drivers on your machine, GPU will not be used.\n",
      "2023-05-03 08:29:58.439313: I tensorflow/core/platform/cpu_feature_guard.cc:182] This TensorFlow binary is optimized to use available CPU instructions in performance-critical operations.\n",
      "To enable the following instructions: AVX2 FMA, in other operations, rebuild TensorFlow with the appropriate compiler flags.\n",
      "2023-05-03 08:29:59.370851: W tensorflow/compiler/tf2tensorrt/utils/py_utils.cc:38] TF-TRT Warning: Could not find TensorRT\n",
      "2023-05-03 08:30:01.170948: I tensorflow/compiler/xla/stream_executor/cuda/cuda_gpu_executor.cc:982] could not open file to read NUMA node: /sys/bus/pci/devices/0000:01:00.0/numa_node\n",
      "Your kernel may have been built without NUMA support.\n",
      "2023-05-03 08:30:01.171284: W tensorflow/core/common_runtime/gpu/gpu_device.cc:1956] Cannot dlopen some GPU libraries. Please make sure the missing libraries mentioned above are installed properly if you would like to use GPU. Follow the guide at https://www.tensorflow.org/install/gpu for how to download and setup the required libraries for your platform.\n",
      "Skipping registering GPU devices...\n",
      "2023-05-03 08:30:01.529584: I tensorflow/core/common_runtime/executor.cc:1197] [/device:CPU:0] (DEBUG INFO) Executor start aborting (this does not indicate an error and you can ignore this message): INVALID_ARGUMENT: You must feed a value for placeholder tensor 'gradients/split_2_grad/concat/split_2/split_dim' with dtype int32\n",
      "\t [[{{node gradients/split_2_grad/concat/split_2/split_dim}}]]\n",
      "2023-05-03 08:30:01.532856: I tensorflow/core/common_runtime/executor.cc:1197] [/device:CPU:0] (DEBUG INFO) Executor start aborting (this does not indicate an error and you can ignore this message): INVALID_ARGUMENT: You must feed a value for placeholder tensor 'gradients/split_grad/concat/split/split_dim' with dtype int32\n",
      "\t [[{{node gradients/split_grad/concat/split/split_dim}}]]\n",
      "2023-05-03 08:30:01.536674: I tensorflow/core/common_runtime/executor.cc:1197] [/device:CPU:0] (DEBUG INFO) Executor start aborting (this does not indicate an error and you can ignore this message): INVALID_ARGUMENT: You must feed a value for placeholder tensor 'gradients/split_1_grad/concat/split_1/split_dim' with dtype int32\n",
      "\t [[{{node gradients/split_1_grad/concat/split_1/split_dim}}]]\n",
      "/tmp/ipykernel_7466/752109013.py:44: FutureWarning: The frame.append method is deprecated and will be removed from pandas in a future version. Use pandas.concat instead.\n",
      "  data = data.append({'timestamp': pd.to_datetime(timestamp, unit='ms'), 'close': close_price}, ignore_index=True)\n"
     ]
    },
    {
     "name": "stdout",
     "output_type": "stream",
     "text": [
      "1/1 [==============================] - 0s 413ms/step\n"
     ]
    },
    {
     "name": "stderr",
     "output_type": "stream",
     "text": [
      "2023-05-03 08:30:02.489411: I tensorflow/core/common_runtime/executor.cc:1197] [/device:CPU:0] (DEBUG INFO) Executor start aborting (this does not indicate an error and you can ignore this message): INVALID_ARGUMENT: You must feed a value for placeholder tensor 'gradients/split_2_grad/concat/split_2/split_dim' with dtype int32\n",
      "\t [[{{node gradients/split_2_grad/concat/split_2/split_dim}}]]\n",
      "2023-05-03 08:30:02.492467: I tensorflow/core/common_runtime/executor.cc:1197] [/device:CPU:0] (DEBUG INFO) Executor start aborting (this does not indicate an error and you can ignore this message): INVALID_ARGUMENT: You must feed a value for placeholder tensor 'gradients/split_grad/concat/split/split_dim' with dtype int32\n",
      "\t [[{{node gradients/split_grad/concat/split/split_dim}}]]\n",
      "2023-05-03 08:30:02.495500: I tensorflow/core/common_runtime/executor.cc:1197] [/device:CPU:0] (DEBUG INFO) Executor start aborting (this does not indicate an error and you can ignore this message): INVALID_ARGUMENT: You must feed a value for placeholder tensor 'gradients/split_1_grad/concat/split_1/split_dim' with dtype int32\n",
      "\t [[{{node gradients/split_1_grad/concat/split_1/split_dim}}]]\n"
     ]
    },
    {
     "name": "stdout",
     "output_type": "stream",
     "text": [
      "Actual price: 28306.53, Predicted price: 27029.96\n"
     ]
    },
    {
     "ename": "KeyboardInterrupt",
     "evalue": "",
     "output_type": "error",
     "traceback": [
      "\u001b[0;31m---------------------------------------------------------------------------\u001b[0m",
      "\u001b[0;31mKeyboardInterrupt\u001b[0m                         Traceback (most recent call last)",
      "\u001b[0;32m/tmp/ipykernel_7466/752109013.py\u001b[0m in \u001b[0;36m<module>\u001b[0;34m\u001b[0m\n\u001b[1;32m     53\u001b[0m \u001b[0;34m\u001b[0m\u001b[0m\n\u001b[1;32m     54\u001b[0m     \u001b[0mprint\u001b[0m\u001b[0;34m(\u001b[0m\u001b[0;34mf'Actual price: {close_price:.2f}, Predicted price: {predicted_price:.2f}'\u001b[0m\u001b[0;34m)\u001b[0m\u001b[0;34m\u001b[0m\u001b[0;34m\u001b[0m\u001b[0m\n\u001b[0;32m---> 55\u001b[0;31m     \u001b[0mtime\u001b[0m\u001b[0;34m.\u001b[0m\u001b[0msleep\u001b[0m\u001b[0;34m(\u001b[0m\u001b[0;36m60\u001b[0m\u001b[0;34m*\u001b[0m\u001b[0;36m60\u001b[0m\u001b[0;34m)\u001b[0m  \u001b[0;31m# Esperamos una hora antes de realizar la siguiente predicción\u001b[0m\u001b[0;34m\u001b[0m\u001b[0;34m\u001b[0m\u001b[0m\n\u001b[0m",
      "\u001b[0;31mKeyboardInterrupt\u001b[0m: "
     ]
    }
   ],
   "source": [
    "import time\n",
    "import numpy as np\n",
    "import pandas as pd\n",
    "import matplotlib.pyplot as plt\n",
    "from binance.client import Client\n",
    "from tensorflow import keras\n",
    "\n",
    "# Conexión a la API de Binance\n",
    "api_key = 'T4Bw573BSJCbaHscSo8jn37lE1SOoGsNircF8f7B061WIKBxNkP5nx68vvAev9uk'\n",
    "api_secret = 'p7VN6HHKR6ZtGkfEeZC3FongJPkR2yr7AjPtPDC8IeaOkASdKZYCKyTuiIfGw57q'\n",
    "client = Client(api_key, api_secret)\n",
    "\n",
    "# Obtención de los datos históricos de precios de Bitcoin\n",
    "klines = client.get_historical_klines(\"BTCUSDT\", Client.KLINE_INTERVAL_1HOUR, \"2 days ago UTC\")\n",
    "\n",
    "# Conversión de los datos a un dataframe de pandas\n",
    "data = pd.DataFrame(klines, columns=['timestamp', 'open', 'high', 'low', 'close', 'volume', 'close_time', 'quote_asset_volume', 'number_of_trades', 'taker_buy_base_asset_volume', 'taker_buy_quote_asset_volume', 'ignore'])\n",
    "data = data[['timestamp', 'close']]\n",
    "data['timestamp'] = pd.to_datetime(data['timestamp'], unit='ms')\n",
    "data.set_index('timestamp', inplace=True)\n",
    "data['close'] = pd.to_numeric(data['close'], errors='coerce')\n",
    "\n",
    "# Normalización de los datos\n",
    "max_value = data['close'].max()\n",
    "min_value = data['close'].min()\n",
    "data['close'] = (data['close'] - min_value) / (max_value - min_value)\n",
    "\n",
    "# Procesamiento de los datos para la entrada del modelo\n",
    "data['t-1'] = data['close'].shift(1)\n",
    "data.dropna(inplace=True)\n",
    "\n",
    "X = np.array(data[['close', 't-1']])\n",
    "X = np.reshape(X, (X.shape[0], X.shape[1], 1))\n",
    "\n",
    "# Carga del modelo entrenado\n",
    "model = keras.models.load_model('ruta/para/guardar/el/modelo/btc_price_prediction_model.h5')\n",
    "\n",
    "# Predicción del precio de Bitcoin en tiempo real\n",
    "while True:\n",
    "    kline = client.get_klines(symbol='BTCUSDT', interval=Client.KLINE_INTERVAL_1HOUR)[-2]\n",
    "    timestamp = kline[0]\n",
    "    close_price = float(kline[4])\n",
    "\n",
    "    data = data.append({'timestamp': pd.to_datetime(timestamp, unit='ms'), 'close': close_price}, ignore_index=True)\n",
    "    data['close'] = (data['close'] - min_value) / (max_value - min_value)\n",
    "    data['t-1'] = data['close'].shift(1)\n",
    "    data.dropna(inplace=True)  # Eliminamos la primera fila que ya no es necesaria\n",
    "    X = np.array(data[['close', 't-1']])\n",
    "    X = np.reshape(X, (X.shape[0], X.shape[1], 1))\n",
    "\n",
    "    yhat = model.predict(X[-1].reshape(1, X[-1].shape[0], X[-1].shape[1]))\n",
    "    predicted_price = yhat[0][0] * (max_value - min_value) + min_value\n",
    "\n",
    "    print(f'Actual price: {close_price:.2f}, Predicted price: {predicted_price:.2f}')\n",
    "    time.sleep(60*60)  # Esperamos una hora antes de realizar la siguiente predicción\n"
   ]
  },
  {
   "attachments": {},
   "cell_type": "markdown",
   "metadata": {},
   "source": [
    "* Este script de Python utiliza la API de Binance para obtener datos históricos de precios de Bitcoin y realizar una predicción en tiempo real del precio de Bitcoin utilizando un modelo de redes neuronales previamente entrenado.\n",
    "\n",
    "En primer lugar, se importan las librerías necesarias: \"time\" para establecer un tiempo de espera antes de realizar la siguiente predicción, \"numpy\" y \"pandas\" para procesar los datos, \"matplotlib\" para visualizar los resultados y \"tensorflow.keras\" para cargar el modelo previamente entrenado.\n",
    "\n",
    "A continuación, se establece la conexión a la API de Binance utilizando las claves de acceso proporcionadas. Se obtienen los datos históricos de precios de Bitcoin utilizando el método \"get_historical_klines\" de la clase \"Client\" de la API de Binance, especificando el par de divisas \"BTCUSDT\" y el intervalo de tiempo de 1 hora. Los datos se almacenan en la variable \"klines\".\n",
    "\n",
    "Los datos se convierten a un dataframe de Pandas para facilitar su procesamiento y se eliminan las columnas que no son necesarias. La columna de tiempo se convierte a formato de fecha y hora y se establece como índice del dataframe. El precio de cierre se convierte a un número decimal utilizando el método \"to_numeric\" y se normaliza en un rango de 0 a 1 utilizando los valores máximos y mínimos.\n",
    "\n",
    "Se procesan los datos para la entrada del modelo, añadiendo una columna con el precio de cierre en el instante anterior y eliminando las filas con valores faltantes. Los datos se convierten a un array NumPy y se remodelan para tener la forma (número de muestras, número de pasos de tiempo, número de características).\n",
    "\n",
    "A continuación, se carga el modelo previamente entrenado utilizando la función \"keras.models.load_model\". El modelo se guarda en un archivo con extensión \".h5\" y se especifica la ruta donde se encuentra el archivo.\n",
    "\n",
    "Finalmente, se utiliza un bucle while True para realizar la predicción del precio de Bitcoin en tiempo real. En cada iteración del bucle, se obtiene el precio de cierre más reciente utilizando el método \"get_klines\" de la API de Binance. Se añade la nueva muestra al dataframe de datos, se normaliza el precio de cierre utilizando los valores máximos y mínimos de los datos de entrenamiento, se procesan los datos para la entrada del modelo y se realiza la predicción utilizando el método \"predict\" del modelo cargado. Se desnormaliza el valor de la predicción y se muestra junto con el valor actual del precio de cierre. Se espera una hora antes de realizar la siguiente predicción utilizando la función \"time.sleep\"."
   ]
  },
  {
   "cell_type": "markdown",
   "metadata": {},
   "source": []
  }
 ],
 "metadata": {
  "kernelspec": {
   "display_name": "TRADING",
   "language": "python",
   "name": "python3"
  },
  "language_info": {
   "codemirror_mode": {
    "name": "ipython",
    "version": 3
   },
   "file_extension": ".py",
   "mimetype": "text/x-python",
   "name": "python",
   "nbconvert_exporter": "python",
   "pygments_lexer": "ipython3",
   "version": "3.9.7"
  },
  "orig_nbformat": 4
 },
 "nbformat": 4,
 "nbformat_minor": 2
}
