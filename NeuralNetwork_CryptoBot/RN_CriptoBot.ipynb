{
 "cells": [
  {
   "cell_type": "code",
   "execution_count": 28,
   "metadata": {},
   "outputs": [
    {
     "name": "stderr",
     "output_type": "stream",
     "text": [
      "2023-05-02 16:46:01.672800: I tensorflow/core/common_runtime/executor.cc:1197] [/device:CPU:0] (DEBUG INFO) Executor start aborting (this does not indicate an error and you can ignore this message): INVALID_ARGUMENT: You must feed a value for placeholder tensor 'gradients/split_2_grad/concat/split_2/split_dim' with dtype int32\n",
      "\t [[{{node gradients/split_2_grad/concat/split_2/split_dim}}]]\n",
      "2023-05-02 16:46:01.683479: I tensorflow/core/common_runtime/executor.cc:1197] [/device:CPU:0] (DEBUG INFO) Executor start aborting (this does not indicate an error and you can ignore this message): INVALID_ARGUMENT: You must feed a value for placeholder tensor 'gradients/split_grad/concat/split/split_dim' with dtype int32\n",
      "\t [[{{node gradients/split_grad/concat/split/split_dim}}]]\n",
      "2023-05-02 16:46:01.692677: I tensorflow/core/common_runtime/executor.cc:1197] [/device:CPU:0] (DEBUG INFO) Executor start aborting (this does not indicate an error and you can ignore this message): INVALID_ARGUMENT: You must feed a value for placeholder tensor 'gradients/split_1_grad/concat/split_1/split_dim' with dtype int32\n",
      "\t [[{{node gradients/split_1_grad/concat/split_1/split_dim}}]]\n",
      "/tmp/ipykernel_2378/752109013.py:44: FutureWarning: The frame.append method is deprecated and will be removed from pandas in a future version. Use pandas.concat instead.\n",
      "  data = data.append({'timestamp': pd.to_datetime(timestamp, unit='ms'), 'close': close_price}, ignore_index=True)\n",
      "2023-05-02 16:46:02.932048: I tensorflow/core/common_runtime/executor.cc:1197] [/device:CPU:0] (DEBUG INFO) Executor start aborting (this does not indicate an error and you can ignore this message): INVALID_ARGUMENT: You must feed a value for placeholder tensor 'gradients/split_2_grad/concat/split_2/split_dim' with dtype int32\n",
      "\t [[{{node gradients/split_2_grad/concat/split_2/split_dim}}]]\n",
      "2023-05-02 16:46:02.937531: I tensorflow/core/common_runtime/executor.cc:1197] [/device:CPU:0] (DEBUG INFO) Executor start aborting (this does not indicate an error and you can ignore this message): INVALID_ARGUMENT: You must feed a value for placeholder tensor 'gradients/split_grad/concat/split/split_dim' with dtype int32\n",
      "\t [[{{node gradients/split_grad/concat/split/split_dim}}]]\n",
      "2023-05-02 16:46:02.941061: I tensorflow/core/common_runtime/executor.cc:1197] [/device:CPU:0] (DEBUG INFO) Executor start aborting (this does not indicate an error and you can ignore this message): INVALID_ARGUMENT: You must feed a value for placeholder tensor 'gradients/split_1_grad/concat/split_1/split_dim' with dtype int32\n",
      "\t [[{{node gradients/split_1_grad/concat/split_1/split_dim}}]]\n"
     ]
    },
    {
     "name": "stdout",
     "output_type": "stream",
     "text": [
      "1/1 [==============================] - 1s 902ms/step\n",
      "Actual price: 28675.98, Predicted price: 27188.13\n"
     ]
    }
   ],
   "source": [
    "import time\n",
    "import numpy as np\n",
    "import pandas as pd\n",
    "import matplotlib.pyplot as plt\n",
    "from binance.client import Client\n",
    "from tensorflow import keras\n",
    "\n",
    "# Conexión a la API de Binance\n",
    "api_key = 'T4Bw573BSJCbaHscSo8jn37lE1SOoGsNircF8f7B061WIKBxNkP5nx68vvAev9uk'\n",
    "api_secret = 'p7VN6HHKR6ZtGkfEeZC3FongJPkR2yr7AjPtPDC8IeaOkASdKZYCKyTuiIfGw57q'\n",
    "client = Client(api_key, api_secret)\n",
    "\n",
    "# Obtención de los datos históricos de precios de Bitcoin\n",
    "klines = client.get_historical_klines(\"BTCUSDT\", Client.KLINE_INTERVAL_1HOUR, \"2 days ago UTC\")\n",
    "\n",
    "# Conversión de los datos a un dataframe de pandas\n",
    "data = pd.DataFrame(klines, columns=['timestamp', 'open', 'high', 'low', 'close', 'volume', 'close_time', 'quote_asset_volume', 'number_of_trades', 'taker_buy_base_asset_volume', 'taker_buy_quote_asset_volume', 'ignore'])\n",
    "data = data[['timestamp', 'close']]\n",
    "data['timestamp'] = pd.to_datetime(data['timestamp'], unit='ms')\n",
    "data.set_index('timestamp', inplace=True)\n",
    "data['close'] = pd.to_numeric(data['close'], errors='coerce')\n",
    "\n",
    "# Normalización de los datos\n",
    "max_value = data['close'].max()\n",
    "min_value = data['close'].min()\n",
    "data['close'] = (data['close'] - min_value) / (max_value - min_value)\n",
    "\n",
    "# Procesamiento de los datos para la entrada del modelo\n",
    "data['t-1'] = data['close'].shift(1)\n",
    "data.dropna(inplace=True)\n",
    "\n",
    "X = np.array(data[['close', 't-1']])\n",
    "X = np.reshape(X, (X.shape[0], X.shape[1], 1))\n",
    "\n",
    "# Carga del modelo entrenado\n",
    "model = keras.models.load_model('ruta/para/guardar/el/modelo/btc_price_prediction_model.h5')\n",
    "\n",
    "# Predicción del precio de Bitcoin en tiempo real\n",
    "while True:\n",
    "    kline = client.get_klines(symbol='BTCUSDT', interval=Client.KLINE_INTERVAL_1HOUR)[-2]\n",
    "    timestamp = kline[0]\n",
    "    close_price = float(kline[4])\n",
    "\n",
    "    data = data.append({'timestamp': pd.to_datetime(timestamp, unit='ms'), 'close': close_price}, ignore_index=True)\n",
    "    data['close'] = (data['close'] - min_value) / (max_value - min_value)\n",
    "    data['t-1'] = data['close'].shift(1)\n",
    "    data.dropna(inplace=True)  # Eliminamos la primera fila que ya no es necesaria\n",
    "    X = np.array(data[['close', 't-1']])\n",
    "    X = np.reshape(X, (X.shape[0], X.shape[1], 1))\n",
    "\n",
    "    yhat = model.predict(X[-1].reshape(1, X[-1].shape[0], X[-1].shape[1]))\n",
    "    predicted_price = yhat[0][0] * (max_value - min_value) + min_value\n",
    "\n",
    "    print(f'Actual price: {close_price:.2f}, Predicted price: {predicted_price:.2f}')\n",
    "    time.sleep(60*60)  # Esperamos una hora antes de realizar la siguiente predicción\n"
   ]
  },
  {
   "cell_type": "code",
   "execution_count": null,
   "metadata": {},
   "outputs": [],
   "source": []
  }
 ],
 "metadata": {
  "language_info": {
   "name": "python"
  },
  "orig_nbformat": 4
 },
 "nbformat": 4,
 "nbformat_minor": 2
}
