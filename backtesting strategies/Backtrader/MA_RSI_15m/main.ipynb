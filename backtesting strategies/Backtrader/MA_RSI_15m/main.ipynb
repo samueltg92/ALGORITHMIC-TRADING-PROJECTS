{
 "cells": [
  {
   "cell_type": "code",
   "execution_count": 5,
   "metadata": {},
   "outputs": [],
   "source": [
    "from datetime import datetime\n",
    "import backtrader as bt\n",
    "import pandas as pd\n",
    "import matplotlib.pyplot as plt"
   ]
  },
  {
   "cell_type": "markdown",
   "metadata": {},
   "source": [
    "CREATE CEREBRO OBJECT"
   ]
  },
  {
   "cell_type": "code",
   "execution_count": 6,
   "metadata": {},
   "outputs": [],
   "source": [
    "cerebro = bt.Cerebro()"
   ]
  },
  {
   "cell_type": "markdown",
   "metadata": {},
   "source": [
    "SET DATA AND UPLOADING IT TO CEREBRO"
   ]
  },
  {
   "cell_type": "code",
   "execution_count": 16,
   "metadata": {},
   "outputs": [
    {
     "data": {
      "text/html": [
       "<div>\n",
       "<style scoped>\n",
       "    .dataframe tbody tr th:only-of-type {\n",
       "        vertical-align: middle;\n",
       "    }\n",
       "\n",
       "    .dataframe tbody tr th {\n",
       "        vertical-align: top;\n",
       "    }\n",
       "\n",
       "    .dataframe thead th {\n",
       "        text-align: right;\n",
       "    }\n",
       "</style>\n",
       "<table border=\"1\" class=\"dataframe\">\n",
       "  <thead>\n",
       "    <tr style=\"text-align: right;\">\n",
       "      <th></th>\n",
       "      <th>Open</th>\n",
       "      <th>High</th>\n",
       "      <th>Low</th>\n",
       "      <th>Close</th>\n",
       "      <th>Volume</th>\n",
       "    </tr>\n",
       "    <tr>\n",
       "      <th>Date</th>\n",
       "      <th></th>\n",
       "      <th></th>\n",
       "      <th></th>\n",
       "      <th></th>\n",
       "      <th></th>\n",
       "    </tr>\n",
       "  </thead>\n",
       "  <tbody>\n",
       "    <tr>\n",
       "      <th>09.04.2004 00:00:00.000 GMT-0500</th>\n",
       "      <td>1.20722</td>\n",
       "      <td>1.20820</td>\n",
       "      <td>1.20689</td>\n",
       "      <td>1.20794</td>\n",
       "      <td>7953.20</td>\n",
       "    </tr>\n",
       "    <tr>\n",
       "      <th>09.04.2004 00:15:00.000 GMT-0500</th>\n",
       "      <td>1.20796</td>\n",
       "      <td>1.20855</td>\n",
       "      <td>1.20752</td>\n",
       "      <td>1.20824</td>\n",
       "      <td>7377.60</td>\n",
       "    </tr>\n",
       "    <tr>\n",
       "      <th>09.04.2004 00:30:00.000 GMT-0500</th>\n",
       "      <td>1.20817</td>\n",
       "      <td>1.20838</td>\n",
       "      <td>1.20767</td>\n",
       "      <td>1.20790</td>\n",
       "      <td>8624.70</td>\n",
       "    </tr>\n",
       "    <tr>\n",
       "      <th>09.04.2004 00:45:00.000 GMT-0500</th>\n",
       "      <td>1.20807</td>\n",
       "      <td>1.20834</td>\n",
       "      <td>1.20719</td>\n",
       "      <td>1.20820</td>\n",
       "      <td>6816.70</td>\n",
       "    </tr>\n",
       "    <tr>\n",
       "      <th>09.04.2004 01:00:00.000 GMT-0500</th>\n",
       "      <td>1.20780</td>\n",
       "      <td>1.20941</td>\n",
       "      <td>1.20773</td>\n",
       "      <td>1.20888</td>\n",
       "      <td>8339.30</td>\n",
       "    </tr>\n",
       "    <tr>\n",
       "      <th>...</th>\n",
       "      <td>...</td>\n",
       "      <td>...</td>\n",
       "      <td>...</td>\n",
       "      <td>...</td>\n",
       "      <td>...</td>\n",
       "    </tr>\n",
       "    <tr>\n",
       "      <th>04.04.2022 17:45:00.000 GMT-0500</th>\n",
       "      <td>1.09742</td>\n",
       "      <td>1.09742</td>\n",
       "      <td>1.09717</td>\n",
       "      <td>1.09724</td>\n",
       "      <td>154.88</td>\n",
       "    </tr>\n",
       "    <tr>\n",
       "      <th>04.04.2022 18:00:00.000 GMT-0500</th>\n",
       "      <td>1.09727</td>\n",
       "      <td>1.09735</td>\n",
       "      <td>1.09716</td>\n",
       "      <td>1.09722</td>\n",
       "      <td>148.93</td>\n",
       "    </tr>\n",
       "    <tr>\n",
       "      <th>04.04.2022 18:15:00.000 GMT-0500</th>\n",
       "      <td>1.09722</td>\n",
       "      <td>1.09730</td>\n",
       "      <td>1.09710</td>\n",
       "      <td>1.09723</td>\n",
       "      <td>199.63</td>\n",
       "    </tr>\n",
       "    <tr>\n",
       "      <th>04.04.2022 18:30:00.000 GMT-0500</th>\n",
       "      <td>1.09723</td>\n",
       "      <td>1.09761</td>\n",
       "      <td>1.09722</td>\n",
       "      <td>1.09745</td>\n",
       "      <td>184.76</td>\n",
       "    </tr>\n",
       "    <tr>\n",
       "      <th>04.04.2022 18:45:00.000 GMT-0500</th>\n",
       "      <td>1.09746</td>\n",
       "      <td>1.09757</td>\n",
       "      <td>1.09726</td>\n",
       "      <td>1.09749</td>\n",
       "      <td>254.23</td>\n",
       "    </tr>\n",
       "  </tbody>\n",
       "</table>\n",
       "<p>630124 rows × 5 columns</p>\n",
       "</div>"
      ],
      "text/plain": [
       "                                     Open     High      Low    Close   Volume\n",
       "Date                                                                         \n",
       "09.04.2004 00:00:00.000 GMT-0500  1.20722  1.20820  1.20689  1.20794  7953.20\n",
       "09.04.2004 00:15:00.000 GMT-0500  1.20796  1.20855  1.20752  1.20824  7377.60\n",
       "09.04.2004 00:30:00.000 GMT-0500  1.20817  1.20838  1.20767  1.20790  8624.70\n",
       "09.04.2004 00:45:00.000 GMT-0500  1.20807  1.20834  1.20719  1.20820  6816.70\n",
       "09.04.2004 01:00:00.000 GMT-0500  1.20780  1.20941  1.20773  1.20888  8339.30\n",
       "...                                   ...      ...      ...      ...      ...\n",
       "04.04.2022 17:45:00.000 GMT-0500  1.09742  1.09742  1.09717  1.09724   154.88\n",
       "04.04.2022 18:00:00.000 GMT-0500  1.09727  1.09735  1.09716  1.09722   148.93\n",
       "04.04.2022 18:15:00.000 GMT-0500  1.09722  1.09730  1.09710  1.09723   199.63\n",
       "04.04.2022 18:30:00.000 GMT-0500  1.09723  1.09761  1.09722  1.09745   184.76\n",
       "04.04.2022 18:45:00.000 GMT-0500  1.09746  1.09757  1.09726  1.09749   254.23\n",
       "\n",
       "[630124 rows x 5 columns]"
      ]
     },
     "execution_count": 16,
     "metadata": {},
     "output_type": "execute_result"
    }
   ],
   "source": [
    "df = pd.read_csv('/mnt/c/Users/samue/Documents/ALGORITHMIC-TRADING-PROJECTS/backtesting strategies/data_sets/EURUSD_Candlestick_15_M_BID_09.04.2004-04.04.2022.csv')\n",
    "df.rename(columns={'Local time': 'Date'}, inplace=True)\n",
    "df.set_index('Date', inplace=True)\n",
    "df.drop(columns='Unnamed: 0', inplace=True)\n",
    "df\n",
    "\n",
    "\n",
    "\n",
    "# data = bt.feeds.PandasData(dataname=df)\n",
    "# cerebro.adddata(data)"
   ]
  },
  {
   "cell_type": "markdown",
   "metadata": {},
   "source": [
    "SET STRATEGY AND UPLOADING IT TO CEREBRO"
   ]
  },
  {
   "cell_type": "code",
   "execution_count": 8,
   "metadata": {},
   "outputs": [
    {
     "ename": "SyntaxError",
     "evalue": "invalid syntax (1341781904.py, line 1)",
     "output_type": "error",
     "traceback": [
      "\u001b[0;36m  File \u001b[0;32m\"/tmp/ipykernel_477/1341781904.py\"\u001b[0;36m, line \u001b[0;32m1\u001b[0m\n\u001b[0;31m    cerebro.addstrategy(pass)\u001b[0m\n\u001b[0m                        ^\u001b[0m\n\u001b[0;31mSyntaxError\u001b[0m\u001b[0;31m:\u001b[0m invalid syntax\n"
     ]
    }
   ],
   "source": [
    "cerebro.addstrategy(pass)"
   ]
  },
  {
   "cell_type": "markdown",
   "metadata": {},
   "source": [
    "SET POSITION SIZER AND UPLOADING IT TO CEREBRO"
   ]
  },
  {
   "cell_type": "code",
   "execution_count": 7,
   "metadata": {},
   "outputs": [
    {
     "ename": "SyntaxError",
     "evalue": "invalid syntax (735237512.py, line 1)",
     "output_type": "error",
     "traceback": [
      "\u001b[0;36m  File \u001b[0;32m\"/tmp/ipykernel_2844/735237512.py\"\u001b[0;36m, line \u001b[0;32m1\u001b[0m\n\u001b[0;31m    cerebro.addsizer(pass)\u001b[0m\n\u001b[0m                     ^\u001b[0m\n\u001b[0;31mSyntaxError\u001b[0m\u001b[0;31m:\u001b[0m invalid syntax\n"
     ]
    }
   ],
   "source": [
    "cerebro.addsizer(pass)"
   ]
  },
  {
   "cell_type": "markdown",
   "metadata": {},
   "source": [
    "RUN CEREBRO"
   ]
  },
  {
   "cell_type": "code",
   "execution_count": 15,
   "metadata": {},
   "outputs": [
    {
     "ename": "AttributeError",
     "evalue": "'str' object has no attribute 'to_pydatetime'",
     "output_type": "error",
     "traceback": [
      "\u001b[0;31m---------------------------------------------------------------------------\u001b[0m",
      "\u001b[0;31mAttributeError\u001b[0m                            Traceback (most recent call last)",
      "\u001b[0;32m/tmp/ipykernel_477/595145119.py\u001b[0m in \u001b[0;36m<module>\u001b[0;34m\u001b[0m\n\u001b[1;32m      1\u001b[0m \u001b[0mstart_portfolio_value\u001b[0m \u001b[0;34m=\u001b[0m \u001b[0mcerebro\u001b[0m\u001b[0;34m.\u001b[0m\u001b[0mbroker\u001b[0m\u001b[0;34m.\u001b[0m\u001b[0mgetvalue\u001b[0m\u001b[0;34m(\u001b[0m\u001b[0;34m)\u001b[0m\u001b[0;34m\u001b[0m\u001b[0;34m\u001b[0m\u001b[0m\n\u001b[0;32m----> 2\u001b[0;31m \u001b[0mcerebro\u001b[0m\u001b[0;34m.\u001b[0m\u001b[0mrun\u001b[0m\u001b[0;34m(\u001b[0m\u001b[0;34m)\u001b[0m\u001b[0;34m\u001b[0m\u001b[0;34m\u001b[0m\u001b[0m\n\u001b[0m\u001b[1;32m      3\u001b[0m \u001b[0mend_portfolio_value\u001b[0m \u001b[0;34m=\u001b[0m \u001b[0mcerebro\u001b[0m\u001b[0;34m.\u001b[0m\u001b[0mbroker\u001b[0m\u001b[0;34m.\u001b[0m\u001b[0mgetvalue\u001b[0m\u001b[0;34m(\u001b[0m\u001b[0;34m)\u001b[0m\u001b[0;34m\u001b[0m\u001b[0;34m\u001b[0m\u001b[0m\n\u001b[1;32m      4\u001b[0m \u001b[0mprint\u001b[0m\u001b[0;34m(\u001b[0m\u001b[0;34mf'Starting Portfolio Value: {start_portfolio_value:2f}'\u001b[0m\u001b[0;34m)\u001b[0m\u001b[0;34m\u001b[0m\u001b[0;34m\u001b[0m\u001b[0m\n\u001b[1;32m      5\u001b[0m \u001b[0mprint\u001b[0m\u001b[0;34m(\u001b[0m\u001b[0;34mf'Final Portfolio Value: {end_portfolio_value:2f}'\u001b[0m\u001b[0;34m)\u001b[0m\u001b[0;34m\u001b[0m\u001b[0;34m\u001b[0m\u001b[0m\n",
      "\u001b[0;32m~/miniconda3/envs/TRADING/lib/python3.9/site-packages/backtrader/cerebro.py\u001b[0m in \u001b[0;36mrun\u001b[0;34m(self, **kwargs)\u001b[0m\n\u001b[1;32m   1125\u001b[0m             \u001b[0;31m# let's skip process \"spawning\"\u001b[0m\u001b[0;34m\u001b[0m\u001b[0;34m\u001b[0m\u001b[0m\n\u001b[1;32m   1126\u001b[0m             \u001b[0;32mfor\u001b[0m \u001b[0miterstrat\u001b[0m \u001b[0;32min\u001b[0m \u001b[0miterstrats\u001b[0m\u001b[0;34m:\u001b[0m\u001b[0;34m\u001b[0m\u001b[0;34m\u001b[0m\u001b[0m\n\u001b[0;32m-> 1127\u001b[0;31m                 \u001b[0mrunstrat\u001b[0m \u001b[0;34m=\u001b[0m \u001b[0mself\u001b[0m\u001b[0;34m.\u001b[0m\u001b[0mrunstrategies\u001b[0m\u001b[0;34m(\u001b[0m\u001b[0miterstrat\u001b[0m\u001b[0;34m)\u001b[0m\u001b[0;34m\u001b[0m\u001b[0;34m\u001b[0m\u001b[0m\n\u001b[0m\u001b[1;32m   1128\u001b[0m                 \u001b[0mself\u001b[0m\u001b[0;34m.\u001b[0m\u001b[0mrunstrats\u001b[0m\u001b[0;34m.\u001b[0m\u001b[0mappend\u001b[0m\u001b[0;34m(\u001b[0m\u001b[0mrunstrat\u001b[0m\u001b[0;34m)\u001b[0m\u001b[0;34m\u001b[0m\u001b[0;34m\u001b[0m\u001b[0m\n\u001b[1;32m   1129\u001b[0m                 \u001b[0;32mif\u001b[0m \u001b[0mself\u001b[0m\u001b[0;34m.\u001b[0m\u001b[0m_dooptimize\u001b[0m\u001b[0;34m:\u001b[0m\u001b[0;34m\u001b[0m\u001b[0;34m\u001b[0m\u001b[0m\n",
      "\u001b[0;32m~/miniconda3/envs/TRADING/lib/python3.9/site-packages/backtrader/cerebro.py\u001b[0m in \u001b[0;36mrunstrategies\u001b[0;34m(self, iterstrat, predata)\u001b[0m\n\u001b[1;32m   1210\u001b[0m                 \u001b[0mdata\u001b[0m\u001b[0;34m.\u001b[0m\u001b[0m_start\u001b[0m\u001b[0;34m(\u001b[0m\u001b[0;34m)\u001b[0m\u001b[0;34m\u001b[0m\u001b[0;34m\u001b[0m\u001b[0m\n\u001b[1;32m   1211\u001b[0m                 \u001b[0;32mif\u001b[0m \u001b[0mself\u001b[0m\u001b[0;34m.\u001b[0m\u001b[0m_dopreload\u001b[0m\u001b[0;34m:\u001b[0m\u001b[0;34m\u001b[0m\u001b[0;34m\u001b[0m\u001b[0m\n\u001b[0;32m-> 1212\u001b[0;31m                     \u001b[0mdata\u001b[0m\u001b[0;34m.\u001b[0m\u001b[0mpreload\u001b[0m\u001b[0;34m(\u001b[0m\u001b[0;34m)\u001b[0m\u001b[0;34m\u001b[0m\u001b[0;34m\u001b[0m\u001b[0m\n\u001b[0m\u001b[1;32m   1213\u001b[0m \u001b[0;34m\u001b[0m\u001b[0m\n\u001b[1;32m   1214\u001b[0m         \u001b[0;32mfor\u001b[0m \u001b[0mstratcls\u001b[0m\u001b[0;34m,\u001b[0m \u001b[0msargs\u001b[0m\u001b[0;34m,\u001b[0m \u001b[0mskwargs\u001b[0m \u001b[0;32min\u001b[0m \u001b[0miterstrat\u001b[0m\u001b[0;34m:\u001b[0m\u001b[0;34m\u001b[0m\u001b[0;34m\u001b[0m\u001b[0m\n",
      "\u001b[0;32m~/miniconda3/envs/TRADING/lib/python3.9/site-packages/backtrader/feed.py\u001b[0m in \u001b[0;36mpreload\u001b[0;34m(self)\u001b[0m\n\u001b[1;32m    436\u001b[0m \u001b[0;34m\u001b[0m\u001b[0m\n\u001b[1;32m    437\u001b[0m     \u001b[0;32mdef\u001b[0m \u001b[0mpreload\u001b[0m\u001b[0;34m(\u001b[0m\u001b[0mself\u001b[0m\u001b[0;34m)\u001b[0m\u001b[0;34m:\u001b[0m\u001b[0;34m\u001b[0m\u001b[0;34m\u001b[0m\u001b[0m\n\u001b[0;32m--> 438\u001b[0;31m         \u001b[0;32mwhile\u001b[0m \u001b[0mself\u001b[0m\u001b[0;34m.\u001b[0m\u001b[0mload\u001b[0m\u001b[0;34m(\u001b[0m\u001b[0;34m)\u001b[0m\u001b[0;34m:\u001b[0m\u001b[0;34m\u001b[0m\u001b[0;34m\u001b[0m\u001b[0m\n\u001b[0m\u001b[1;32m    439\u001b[0m             \u001b[0;32mpass\u001b[0m\u001b[0;34m\u001b[0m\u001b[0;34m\u001b[0m\u001b[0m\n\u001b[1;32m    440\u001b[0m \u001b[0;34m\u001b[0m\u001b[0m\n",
      "\u001b[0;32m~/miniconda3/envs/TRADING/lib/python3.9/site-packages/backtrader/feed.py\u001b[0m in \u001b[0;36mload\u001b[0;34m(self)\u001b[0m\n\u001b[1;32m    477\u001b[0m \u001b[0;34m\u001b[0m\u001b[0m\n\u001b[1;32m    478\u001b[0m             \u001b[0;32mif\u001b[0m \u001b[0;32mnot\u001b[0m \u001b[0mself\u001b[0m\u001b[0;34m.\u001b[0m\u001b[0m_fromstack\u001b[0m\u001b[0;34m(\u001b[0m\u001b[0mstash\u001b[0m\u001b[0;34m=\u001b[0m\u001b[0;32mTrue\u001b[0m\u001b[0;34m)\u001b[0m\u001b[0;34m:\u001b[0m\u001b[0;34m\u001b[0m\u001b[0;34m\u001b[0m\u001b[0m\n\u001b[0;32m--> 479\u001b[0;31m                 \u001b[0m_loadret\u001b[0m \u001b[0;34m=\u001b[0m \u001b[0mself\u001b[0m\u001b[0;34m.\u001b[0m\u001b[0m_load\u001b[0m\u001b[0;34m(\u001b[0m\u001b[0;34m)\u001b[0m\u001b[0;34m\u001b[0m\u001b[0;34m\u001b[0m\u001b[0m\n\u001b[0m\u001b[1;32m    480\u001b[0m                 \u001b[0;32mif\u001b[0m \u001b[0;32mnot\u001b[0m \u001b[0m_loadret\u001b[0m\u001b[0;34m:\u001b[0m  \u001b[0;31m# no bar use force to make sure in exactbars\u001b[0m\u001b[0;34m\u001b[0m\u001b[0;34m\u001b[0m\u001b[0m\n\u001b[1;32m    481\u001b[0m                     \u001b[0;31m# the pointer is undone this covers especially (but not\u001b[0m\u001b[0;34m\u001b[0m\u001b[0;34m\u001b[0m\u001b[0m\n",
      "\u001b[0;32m~/miniconda3/envs/TRADING/lib/python3.9/site-packages/backtrader/feeds/pandafeed.py\u001b[0m in \u001b[0;36m_load\u001b[0;34m(self)\u001b[0m\n\u001b[1;32m    266\u001b[0m \u001b[0;34m\u001b[0m\u001b[0m\n\u001b[1;32m    267\u001b[0m         \u001b[0;31m# convert to float via datetime and store it\u001b[0m\u001b[0;34m\u001b[0m\u001b[0;34m\u001b[0m\u001b[0m\n\u001b[0;32m--> 268\u001b[0;31m         \u001b[0mdt\u001b[0m \u001b[0;34m=\u001b[0m \u001b[0mtstamp\u001b[0m\u001b[0;34m.\u001b[0m\u001b[0mto_pydatetime\u001b[0m\u001b[0;34m(\u001b[0m\u001b[0;34m)\u001b[0m\u001b[0;34m\u001b[0m\u001b[0;34m\u001b[0m\u001b[0m\n\u001b[0m\u001b[1;32m    269\u001b[0m         \u001b[0mdtnum\u001b[0m \u001b[0;34m=\u001b[0m \u001b[0mdate2num\u001b[0m\u001b[0;34m(\u001b[0m\u001b[0mdt\u001b[0m\u001b[0;34m)\u001b[0m\u001b[0;34m\u001b[0m\u001b[0;34m\u001b[0m\u001b[0m\n\u001b[1;32m    270\u001b[0m         \u001b[0mself\u001b[0m\u001b[0;34m.\u001b[0m\u001b[0mlines\u001b[0m\u001b[0;34m.\u001b[0m\u001b[0mdatetime\u001b[0m\u001b[0;34m[\u001b[0m\u001b[0;36m0\u001b[0m\u001b[0;34m]\u001b[0m \u001b[0;34m=\u001b[0m \u001b[0mdtnum\u001b[0m\u001b[0;34m\u001b[0m\u001b[0;34m\u001b[0m\u001b[0m\n",
      "\u001b[0;31mAttributeError\u001b[0m: 'str' object has no attribute 'to_pydatetime'"
     ]
    }
   ],
   "source": [
    "start_portfolio_value = cerebro.broker.getvalue()\n",
    "cerebro.run()\n",
    "end_portfolio_value = cerebro.broker.getvalue()\n",
    "print(f'Starting Portfolio Value: {start_portfolio_value:2f}')\n",
    "print(f'Final Portfolio Value: {end_portfolio_value:2f}')"
   ]
  },
  {
   "cell_type": "code",
   "execution_count": null,
   "metadata": {},
   "outputs": [],
   "source": [
    "\n"
   ]
  }
 ],
 "metadata": {
  "interpreter": {
   "hash": "d5bf52178c2f6b385ff01200ba56c20879e9f5bf036653deba3ae3a93ee7aba2"
  },
  "kernelspec": {
   "display_name": "Python 3.9.7 ('TRADING')",
   "language": "python",
   "name": "python3"
  },
  "language_info": {
   "codemirror_mode": {
    "name": "ipython",
    "version": 3
   },
   "file_extension": ".py",
   "mimetype": "text/x-python",
   "name": "python",
   "nbconvert_exporter": "python",
   "pygments_lexer": "ipython3",
   "version": "3.9.7"
  },
  "orig_nbformat": 4
 },
 "nbformat": 4,
 "nbformat_minor": 2
}
