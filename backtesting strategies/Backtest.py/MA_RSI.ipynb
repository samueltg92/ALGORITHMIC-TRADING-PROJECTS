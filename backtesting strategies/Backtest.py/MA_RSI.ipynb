{
 "cells": [
  {
   "cell_type": "code",
   "execution_count": 2,
   "metadata": {},
   "outputs": [],
   "source": [
    "import pandas as pd\n",
    "import yfinance as yf\n",
    "import talib as talib\n",
    "import matplotlib.pyplot as plt\n",
    "import numpy as np\n",
    "from backtesting import Strategy, Backtest"
   ]
  },
  {
   "cell_type": "code",
   "execution_count": 3,
   "metadata": {},
   "outputs": [
    {
     "data": {
      "text/plain": [
       "'\\n    Market: BTC-USD\\n    Entry: Price above 500-day SMA & 10-period RSI below 30 \\n    Exit: close price below 500-day SMA\\n'"
      ]
     },
     "execution_count": 3,
     "metadata": {},
     "output_type": "execute_result"
    }
   ],
   "source": [
    "\"\"\"\n",
    "    Market: BTC-USD\n",
    "    Entry: Price above 500-day SMA & 10-period RSI below 30 \n",
    "    Exit: close price below 500-day SMA\n",
    "\"\"\""
   ]
  },
  {
   "cell_type": "code",
   "execution_count": 6,
   "metadata": {},
   "outputs": [],
   "source": [
    "pd.options.mode.chained_assignment = None"
   ]
  },
  {
   "cell_type": "code",
   "execution_count": 7,
   "metadata": {},
   "outputs": [
    {
     "name": "stdout",
     "output_type": "stream",
     "text": [
      "[*********************100%***********************]  1 of 1 completed\n"
     ]
    },
    {
     "data": {
      "text/html": [
       "<div>\n",
       "<style scoped>\n",
       "    .dataframe tbody tr th:only-of-type {\n",
       "        vertical-align: middle;\n",
       "    }\n",
       "\n",
       "    .dataframe tbody tr th {\n",
       "        vertical-align: top;\n",
       "    }\n",
       "\n",
       "    .dataframe thead th {\n",
       "        text-align: right;\n",
       "    }\n",
       "</style>\n",
       "<table border=\"1\" class=\"dataframe\">\n",
       "  <thead>\n",
       "    <tr style=\"text-align: right;\">\n",
       "      <th></th>\n",
       "      <th>Open</th>\n",
       "      <th>High</th>\n",
       "      <th>Low</th>\n",
       "      <th>Close</th>\n",
       "      <th>Adj Close</th>\n",
       "      <th>Volume</th>\n",
       "    </tr>\n",
       "    <tr>\n",
       "      <th>Date</th>\n",
       "      <th></th>\n",
       "      <th></th>\n",
       "      <th></th>\n",
       "      <th></th>\n",
       "      <th></th>\n",
       "      <th></th>\n",
       "    </tr>\n",
       "  </thead>\n",
       "  <tbody>\n",
       "    <tr>\n",
       "      <th>2014-09-17</th>\n",
       "      <td>465.864014</td>\n",
       "      <td>468.174011</td>\n",
       "      <td>452.421997</td>\n",
       "      <td>457.334015</td>\n",
       "      <td>457.334015</td>\n",
       "      <td>21056800</td>\n",
       "    </tr>\n",
       "    <tr>\n",
       "      <th>2014-09-18</th>\n",
       "      <td>456.859985</td>\n",
       "      <td>456.859985</td>\n",
       "      <td>413.104004</td>\n",
       "      <td>424.440002</td>\n",
       "      <td>424.440002</td>\n",
       "      <td>34483200</td>\n",
       "    </tr>\n",
       "    <tr>\n",
       "      <th>2014-09-19</th>\n",
       "      <td>424.102997</td>\n",
       "      <td>427.834991</td>\n",
       "      <td>384.532013</td>\n",
       "      <td>394.795990</td>\n",
       "      <td>394.795990</td>\n",
       "      <td>37919700</td>\n",
       "    </tr>\n",
       "    <tr>\n",
       "      <th>2014-09-20</th>\n",
       "      <td>394.673004</td>\n",
       "      <td>423.295990</td>\n",
       "      <td>389.882996</td>\n",
       "      <td>408.903992</td>\n",
       "      <td>408.903992</td>\n",
       "      <td>36863600</td>\n",
       "    </tr>\n",
       "    <tr>\n",
       "      <th>2014-09-21</th>\n",
       "      <td>408.084991</td>\n",
       "      <td>412.425995</td>\n",
       "      <td>393.181000</td>\n",
       "      <td>398.821014</td>\n",
       "      <td>398.821014</td>\n",
       "      <td>26580100</td>\n",
       "    </tr>\n",
       "    <tr>\n",
       "      <th>...</th>\n",
       "      <td>...</td>\n",
       "      <td>...</td>\n",
       "      <td>...</td>\n",
       "      <td>...</td>\n",
       "      <td>...</td>\n",
       "      <td>...</td>\n",
       "    </tr>\n",
       "    <tr>\n",
       "      <th>2022-03-15</th>\n",
       "      <td>39664.250000</td>\n",
       "      <td>39794.628906</td>\n",
       "      <td>38310.210938</td>\n",
       "      <td>39338.785156</td>\n",
       "      <td>39338.785156</td>\n",
       "      <td>23934000868</td>\n",
       "    </tr>\n",
       "    <tr>\n",
       "      <th>2022-03-16</th>\n",
       "      <td>39335.570312</td>\n",
       "      <td>41465.453125</td>\n",
       "      <td>39022.347656</td>\n",
       "      <td>41143.929688</td>\n",
       "      <td>41143.929688</td>\n",
       "      <td>39616916192</td>\n",
       "    </tr>\n",
       "    <tr>\n",
       "      <th>2022-03-17</th>\n",
       "      <td>41140.843750</td>\n",
       "      <td>41287.535156</td>\n",
       "      <td>40662.871094</td>\n",
       "      <td>40951.378906</td>\n",
       "      <td>40951.378906</td>\n",
       "      <td>22009601093</td>\n",
       "    </tr>\n",
       "    <tr>\n",
       "      <th>2022-03-18</th>\n",
       "      <td>40944.839844</td>\n",
       "      <td>42195.746094</td>\n",
       "      <td>40302.398438</td>\n",
       "      <td>41801.156250</td>\n",
       "      <td>41801.156250</td>\n",
       "      <td>34421564942</td>\n",
       "    </tr>\n",
       "    <tr>\n",
       "      <th>2022-03-19</th>\n",
       "      <td>41789.253906</td>\n",
       "      <td>42028.929688</td>\n",
       "      <td>41602.667969</td>\n",
       "      <td>42026.148438</td>\n",
       "      <td>42026.148438</td>\n",
       "      <td>20686704640</td>\n",
       "    </tr>\n",
       "  </tbody>\n",
       "</table>\n",
       "<p>2741 rows × 6 columns</p>\n",
       "</div>"
      ],
      "text/plain": [
       "                    Open          High           Low         Close  \\\n",
       "Date                                                                 \n",
       "2014-09-17    465.864014    468.174011    452.421997    457.334015   \n",
       "2014-09-18    456.859985    456.859985    413.104004    424.440002   \n",
       "2014-09-19    424.102997    427.834991    384.532013    394.795990   \n",
       "2014-09-20    394.673004    423.295990    389.882996    408.903992   \n",
       "2014-09-21    408.084991    412.425995    393.181000    398.821014   \n",
       "...                  ...           ...           ...           ...   \n",
       "2022-03-15  39664.250000  39794.628906  38310.210938  39338.785156   \n",
       "2022-03-16  39335.570312  41465.453125  39022.347656  41143.929688   \n",
       "2022-03-17  41140.843750  41287.535156  40662.871094  40951.378906   \n",
       "2022-03-18  40944.839844  42195.746094  40302.398438  41801.156250   \n",
       "2022-03-19  41789.253906  42028.929688  41602.667969  42026.148438   \n",
       "\n",
       "               Adj Close       Volume  \n",
       "Date                                   \n",
       "2014-09-17    457.334015     21056800  \n",
       "2014-09-18    424.440002     34483200  \n",
       "2014-09-19    394.795990     37919700  \n",
       "2014-09-20    408.903992     36863600  \n",
       "2014-09-21    398.821014     26580100  \n",
       "...                  ...          ...  \n",
       "2022-03-15  39338.785156  23934000868  \n",
       "2022-03-16  41143.929688  39616916192  \n",
       "2022-03-17  40951.378906  22009601093  \n",
       "2022-03-18  41801.156250  34421564942  \n",
       "2022-03-19  42026.148438  20686704640  \n",
       "\n",
       "[2741 rows x 6 columns]"
      ]
     },
     "execution_count": 7,
     "metadata": {},
     "output_type": "execute_result"
    }
   ],
   "source": [
    "# create the DataFrame using YahooFinance\n",
    "df = yf.download('BTC-USD', start='1995-01-01')\n",
    "df"
   ]
  },
  {
   "cell_type": "code",
   "execution_count": 8,
   "metadata": {},
   "outputs": [],
   "source": [
    "class MA_RSI(Strategy):\n",
    "    sma_window = 500\n",
    "    rsi_window = 10\n",
    "    atr_window = 14\n",
    "    stop_loss = 5\n",
    "    \n",
    "    \n",
    "    def init(self):\n",
    "        self.sma = self.I(talib.SMA, self.data.Close, self.sma_window)\n",
    "        self.rsi = self.I(talib.RSI, self.data.Close, self.rsi_window)\n",
    "        self.atr = self.I(talib.ATR, self.data.High, self.data.Low, self.data.Close, self.atr_window)\n",
    "        \n",
    "    def next(self):\n",
    "        if self.data.Close > self.sma and self.rsi < 25:\n",
    "            self.buy(sl = self.data.Low - self.data.Low * self.stop_loss/100)\n",
    "        elif self.data.Close < self.sma:\n",
    "            self.position.close()\n",
    "            \n",
    "        \n",
    "        \n",
    "        \n",
    "                "
   ]
  },
  {
   "cell_type": "code",
   "execution_count": 9,
   "metadata": {},
   "outputs": [
    {
     "name": "stderr",
     "output_type": "stream",
     "text": [
      "/tmp/ipykernel_7790/1916854544.py:1: UserWarning: Some prices are larger than initial cash value. Note that fractional trading is not supported. If you want to trade Bitcoin, increase initial cash, or trade μBTC or satoshis instead (GH-134).\n",
      "  bt = Backtest(df, MA_RSI, cash=10000, commission=0.04, exclusive_orders=True)\n"
     ]
    },
    {
     "name": "stdout",
     "output_type": "stream",
     "text": [
      "Start                     2014-09-17 00:00:00\n",
      "End                       2022-03-19 00:00:00\n",
      "Duration                   2740 days 00:00:00\n",
      "Exposure Time [%]                   20.138636\n",
      "Equity Final [$]                 13480.607725\n",
      "Equity Peak [$]                  74502.381689\n",
      "Return [%]                          34.806077\n",
      "Buy & Hold Return [%]             9089.377363\n",
      "Return (Ann.) [%]                     4.05729\n",
      "Volatility (Ann.) [%]               32.691696\n",
      "Sharpe Ratio                         0.124108\n",
      "Sortino Ratio                        0.183432\n",
      "Calmar Ratio                          0.04953\n",
      "Max. Drawdown [%]                  -81.915444\n",
      "Avg. Drawdown [%]                   -7.797449\n",
      "Max. Drawdown Duration     1660 days 00:00:00\n",
      "Avg. Drawdown Duration       61 days 00:00:00\n",
      "# Trades                                   25\n",
      "Win Rate [%]                             12.0\n",
      "Best Trade [%]                     249.101321\n",
      "Worst Trade [%]                    -12.476088\n",
      "Avg. Trade [%]                        0.30918\n",
      "Max. Trade Duration         347 days 00:00:00\n",
      "Avg. Trade Duration          22 days 00:00:00\n",
      "Profit Factor                        1.966207\n",
      "Expectancy [%]                       6.030272\n",
      "SQN                                  0.108651\n",
      "_strategy                              MA_RSI\n",
      "_equity_curve                             ...\n",
      "_trades                       Size  EntryB...\n",
      "dtype: object\n"
     ]
    },
    {
     "data": {
      "text/html": [
       "<div style=\"display: table;\"><div style=\"display: table-row;\"><div style=\"display: table-cell;\"><b title=\"bokeh.models.layouts.Row\">Row</b>(</div><div style=\"display: table-cell;\">id&nbsp;=&nbsp;'1552', <span id=\"2426\" style=\"cursor: pointer;\">&hellip;)</span></div></div><div class=\"2425\" style=\"display: none;\"><div style=\"display: table-cell;\"></div><div style=\"display: table-cell;\">align&nbsp;=&nbsp;'start',</div></div><div class=\"2425\" style=\"display: none;\"><div style=\"display: table-cell;\"></div><div style=\"display: table-cell;\">aspect_ratio&nbsp;=&nbsp;None,</div></div><div class=\"2425\" style=\"display: none;\"><div style=\"display: table-cell;\"></div><div style=\"display: table-cell;\">background&nbsp;=&nbsp;None,</div></div><div class=\"2425\" style=\"display: none;\"><div style=\"display: table-cell;\"></div><div style=\"display: table-cell;\">children&nbsp;=&nbsp;[GridBox(id='1549', ...), ToolbarBox(id='1551', ...)],</div></div><div class=\"2425\" style=\"display: none;\"><div style=\"display: table-cell;\"></div><div style=\"display: table-cell;\">cols&nbsp;=&nbsp;'auto',</div></div><div class=\"2425\" style=\"display: none;\"><div style=\"display: table-cell;\"></div><div style=\"display: table-cell;\">css_classes&nbsp;=&nbsp;[],</div></div><div class=\"2425\" style=\"display: none;\"><div style=\"display: table-cell;\"></div><div style=\"display: table-cell;\">disabled&nbsp;=&nbsp;False,</div></div><div class=\"2425\" style=\"display: none;\"><div style=\"display: table-cell;\"></div><div style=\"display: table-cell;\">height&nbsp;=&nbsp;None,</div></div><div class=\"2425\" style=\"display: none;\"><div style=\"display: table-cell;\"></div><div style=\"display: table-cell;\">height_policy&nbsp;=&nbsp;'auto',</div></div><div class=\"2425\" style=\"display: none;\"><div style=\"display: table-cell;\"></div><div style=\"display: table-cell;\">js_event_callbacks&nbsp;=&nbsp;{},</div></div><div class=\"2425\" style=\"display: none;\"><div style=\"display: table-cell;\"></div><div style=\"display: table-cell;\">js_property_callbacks&nbsp;=&nbsp;{},</div></div><div class=\"2425\" style=\"display: none;\"><div style=\"display: table-cell;\"></div><div style=\"display: table-cell;\">margin&nbsp;=&nbsp;(0, 0, 0, 0),</div></div><div class=\"2425\" style=\"display: none;\"><div style=\"display: table-cell;\"></div><div style=\"display: table-cell;\">max_height&nbsp;=&nbsp;None,</div></div><div class=\"2425\" style=\"display: none;\"><div style=\"display: table-cell;\"></div><div style=\"display: table-cell;\">max_width&nbsp;=&nbsp;None,</div></div><div class=\"2425\" style=\"display: none;\"><div style=\"display: table-cell;\"></div><div style=\"display: table-cell;\">min_height&nbsp;=&nbsp;None,</div></div><div class=\"2425\" style=\"display: none;\"><div style=\"display: table-cell;\"></div><div style=\"display: table-cell;\">min_width&nbsp;=&nbsp;None,</div></div><div class=\"2425\" style=\"display: none;\"><div style=\"display: table-cell;\"></div><div style=\"display: table-cell;\">name&nbsp;=&nbsp;None,</div></div><div class=\"2425\" style=\"display: none;\"><div style=\"display: table-cell;\"></div><div style=\"display: table-cell;\">sizing_mode&nbsp;=&nbsp;'stretch_width',</div></div><div class=\"2425\" style=\"display: none;\"><div style=\"display: table-cell;\"></div><div style=\"display: table-cell;\">spacing&nbsp;=&nbsp;0,</div></div><div class=\"2425\" style=\"display: none;\"><div style=\"display: table-cell;\"></div><div style=\"display: table-cell;\">subscribed_events&nbsp;=&nbsp;[],</div></div><div class=\"2425\" style=\"display: none;\"><div style=\"display: table-cell;\"></div><div style=\"display: table-cell;\">syncable&nbsp;=&nbsp;True,</div></div><div class=\"2425\" style=\"display: none;\"><div style=\"display: table-cell;\"></div><div style=\"display: table-cell;\">tags&nbsp;=&nbsp;[],</div></div><div class=\"2425\" style=\"display: none;\"><div style=\"display: table-cell;\"></div><div style=\"display: table-cell;\">visible&nbsp;=&nbsp;True,</div></div><div class=\"2425\" style=\"display: none;\"><div style=\"display: table-cell;\"></div><div style=\"display: table-cell;\">width&nbsp;=&nbsp;None,</div></div><div class=\"2425\" style=\"display: none;\"><div style=\"display: table-cell;\"></div><div style=\"display: table-cell;\">width_policy&nbsp;=&nbsp;'auto')</div></div></div>\n",
       "<script>\n",
       "(function() {\n",
       "  let expanded = false;\n",
       "  const ellipsis = document.getElementById(\"2426\");\n",
       "  ellipsis.addEventListener(\"click\", function() {\n",
       "    const rows = document.getElementsByClassName(\"2425\");\n",
       "    for (let i = 0; i < rows.length; i++) {\n",
       "      const el = rows[i];\n",
       "      el.style.display = expanded ? \"none\" : \"table-row\";\n",
       "    }\n",
       "    ellipsis.innerHTML = expanded ? \"&hellip;)\" : \"&lsaquo;&lsaquo;&lsaquo;\";\n",
       "    expanded = !expanded;\n",
       "  });\n",
       "})();\n",
       "</script>\n"
      ],
      "text/plain": [
       "Row(id='1552', ...)"
      ]
     },
     "execution_count": 9,
     "metadata": {},
     "output_type": "execute_result"
    },
    {
     "name": "stderr",
     "output_type": "stream",
     "text": [
      "/usr/bin/sensible-browser: 8: /mnt/c/Program: not found\n",
      "[8085:8121:0319/115417.852930:ERROR:bus.cc(397)] Failed to connect to the bus: Failed to connect to socket /var/run/dbus/system_bus_socket: No such file or directory\n",
      "[8085:8121:0319/115417.854189:ERROR:bus.cc(397)] Failed to connect to the bus: Failed to connect to socket /var/run/dbus/system_bus_socket: No such file or directory\n",
      "[8085:8120:0319/115417.908667:ERROR:bus.cc(397)] Failed to connect to the bus: Could not parse server address: Unknown address type (examples of valid types are \"tcp\" and on UNIX \"unix\")\n",
      "[8085:8120:0319/115417.908743:ERROR:bus.cc(397)] Failed to connect to the bus: Could not parse server address: Unknown address type (examples of valid types are \"tcp\" and on UNIX \"unix\")\n",
      "[8085:8120:0319/115418.019714:ERROR:bus.cc(397)] Failed to connect to the bus: Could not parse server address: Unknown address type (examples of valid types are \"tcp\" and on UNIX \"unix\")\n",
      "[8085:8120:0319/115418.019793:ERROR:bus.cc(397)] Failed to connect to the bus: Could not parse server address: Unknown address type (examples of valid types are \"tcp\" and on UNIX \"unix\")\n",
      "[8085:8120:0319/115418.244890:ERROR:bus.cc(397)] Failed to connect to the bus: Could not parse server address: Unknown address type (examples of valid types are \"tcp\" and on UNIX \"unix\")\n",
      "[8085:8120:0319/115418.245539:ERROR:bus.cc(397)] Failed to connect to the bus: Could not parse server address: Unknown address type (examples of valid types are \"tcp\" and on UNIX \"unix\")\n",
      "[8085:8193:0319/115418.818704:ERROR:bus.cc(397)] Failed to connect to the bus: Failed to connect to socket /var/run/dbus/system_bus_socket: No such file or directory\n",
      "[8085:8193:0319/115418.818828:ERROR:bus.cc(397)] Failed to connect to the bus: Failed to connect to socket /var/run/dbus/system_bus_socket: No such file or directory\n",
      "[8085:8193:0319/115418.818888:ERROR:bus.cc(397)] Failed to connect to the bus: Failed to connect to socket /var/run/dbus/system_bus_socket: No such file or directory\n",
      "[8085:8193:0319/115418.819988:ERROR:bus.cc(397)] Failed to connect to the bus: Failed to connect to socket /var/run/dbus/system_bus_socket: No such file or directory\n",
      "[8085:8193:0319/115418.820070:ERROR:bus.cc(397)] Failed to connect to the bus: Failed to connect to socket /var/run/dbus/system_bus_socket: No such file or directory\n"
     ]
    }
   ],
   "source": [
    "bt = Backtest(df, MA_RSI, cash=10000, commission=0.04, exclusive_orders=True)\n",
    "stats = bt.run()\n",
    "print(stats)\n",
    "bt.plot(plot_volume=False)\n"
   ]
  },
  {
   "cell_type": "code",
   "execution_count": 10,
   "metadata": {},
   "outputs": [
    {
     "name": "stderr",
     "output_type": "stream",
     "text": [
      "/home/samueltg92/miniconda3/envs/TRADING/lib/python3.9/site-packages/backtesting/backtesting.py:1488: UserWarning: Searching for best of 160000 configurations.\n",
      "  output = _optimize_grid()\n"
     ]
    },
    {
     "data": {
      "application/vnd.jupyter.widget-view+json": {
       "model_id": "369adc327a364afb8c12d63083ce91e6",
       "version_major": 2,
       "version_minor": 0
      },
      "text/plain": [
       "Backtest.optimize:   0%|          | 0/534 [00:00<?, ?it/s]"
      ]
     },
     "metadata": {},
     "output_type": "display_data"
    },
    {
     "name": "stderr",
     "output_type": "stream",
     "text": [
      "[8085:8146:0319/115423.888784:ERROR:chrome_browser_main_extra_parts_metrics.cc(227)] START: ReportBluetoothAvailability(). If you don't see the END: message, this is crbug.com/1216328.\n",
      "[8085:8146:0319/115423.893433:ERROR:chrome_browser_main_extra_parts_metrics.cc(230)] END: ReportBluetoothAvailability()\n"
     ]
    },
    {
     "name": "stdout",
     "output_type": "stream",
     "text": [
      "Start                     2014-09-17 00:00:00\n",
      "End                       2022-03-19 00:00:00\n",
      "Duration                   2740 days 00:00:00\n",
      "Exposure Time [%]                   27.325794\n",
      "Equity Final [$]                219620.457495\n",
      "Equity Peak [$]                 468143.340308\n",
      "Return [%]                        2096.204575\n",
      "Buy & Hold Return [%]             9089.377363\n",
      "Return (Ann.) [%]                   50.890285\n",
      "Volatility (Ann.) [%]               63.973015\n",
      "Sharpe Ratio                         0.795496\n",
      "Sortino Ratio                        1.969602\n",
      "Calmar Ratio                         0.958622\n",
      "Max. Drawdown [%]                   -53.08692\n",
      "Avg. Drawdown [%]                   -8.781864\n",
      "Max. Drawdown Duration     1554 days 00:00:00\n",
      "Avg. Drawdown Duration       54 days 00:00:00\n",
      "# Trades                                    3\n",
      "Win Rate [%]                            100.0\n",
      "Best Trade [%]                     354.856833\n",
      "Worst Trade [%]                     44.506401\n",
      "Avg. Trade [%]                     181.314165\n",
      "Max. Trade Duration         348 days 00:00:00\n",
      "Avg. Trade Duration         250 days 00:00:00\n",
      "Profit Factor                             NaN\n",
      "Expectancy [%]                     212.687172\n",
      "SQN                                  1.360202\n",
      "_strategy                 MA_RSI(sma_windo...\n",
      "_equity_curve                             ...\n",
      "_trades                      Size  EntryBa...\n",
      "dtype: object\n",
      "****************************************************************************************************\n",
      "Stats Strategy: MA_RSI\n",
      "****************************************************************************************************\n"
     ]
    }
   ],
   "source": [
    "op = bt.optimize(\n",
    "    sma_window = range(100,500),\n",
    "    rsi_window = range(10,14),\n",
    "    atr_window = range(10,20),\n",
    "    stop_loss = range(5,15),\n",
    "    maximize = 'Equity Final [$]'\n",
    ")\n",
    "print(op)\n",
    "print('*'*100)\n",
    "print(f'Stats Strategy: {stats._strategy}')\n",
    "print('*'*100)"
   ]
  },
  {
   "cell_type": "code",
   "execution_count": null,
   "metadata": {},
   "outputs": [],
   "source": []
  }
 ],
 "metadata": {
  "interpreter": {
   "hash": "d5bf52178c2f6b385ff01200ba56c20879e9f5bf036653deba3ae3a93ee7aba2"
  },
  "kernelspec": {
   "display_name": "Python 3.9.7 ('TRADING')",
   "language": "python",
   "name": "python3"
  },
  "language_info": {
   "codemirror_mode": {
    "name": "ipython",
    "version": 3
   },
   "file_extension": ".py",
   "mimetype": "text/x-python",
   "name": "python",
   "nbconvert_exporter": "python",
   "pygments_lexer": "ipython3",
   "version": "3.9.7"
  },
  "orig_nbformat": 4
 },
 "nbformat": 4,
 "nbformat_minor": 2
}
