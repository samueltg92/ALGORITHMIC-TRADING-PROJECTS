{
 "cells": [
  {
   "cell_type": "code",
   "execution_count": 1,
   "metadata": {},
   "outputs": [],
   "source": [
    "import pandas as pd\n",
    "import yfinance as yf\n",
    "import numpy as np\n",
    "import talib as talib\n",
    "import matplotlib.pyplot as plt\n",
    "from datetime import datetime, timedelta\n",
    "from backtesting import Strategy, Backtest\n",
    "from backtesting.lib import crossover\n",
    "import seaborn as sns"
   ]
  },
  {
   "cell_type": "code",
   "execution_count": 2,
   "metadata": {},
   "outputs": [],
   "source": [
    "pd.options.mode.chained_assignment = None"
   ]
  },
  {
   "cell_type": "code",
   "execution_count": 3,
   "metadata": {},
   "outputs": [
    {
     "name": "stdout",
     "output_type": "stream",
     "text": [
      "[*********************100%***********************]  1 of 1 completed\n"
     ]
    }
   ],
   "source": [
    "# Creating DataFrame using Yahoo Finance\n",
    "asset = str(input('Look on Yahho Finance for ticker.'\n",
    "                  'Asset to backtest: '))\n",
    "df = yf.download(asset, start='1990-01-01')\n"
   ]
  },
  {
   "cell_type": "code",
   "execution_count": 4,
   "metadata": {},
   "outputs": [],
   "source": [
    "df = df.reset_index()"
   ]
  },
  {
   "cell_type": "code",
   "execution_count": 5,
   "metadata": {},
   "outputs": [],
   "source": [
    "df.set_index('Date', inplace=True)"
   ]
  },
  {
   "cell_type": "code",
   "execution_count": 6,
   "metadata": {},
   "outputs": [
    {
     "data": {
      "text/html": [
       "<div>\n",
       "<style scoped>\n",
       "    .dataframe tbody tr th:only-of-type {\n",
       "        vertical-align: middle;\n",
       "    }\n",
       "\n",
       "    .dataframe tbody tr th {\n",
       "        vertical-align: top;\n",
       "    }\n",
       "\n",
       "    .dataframe thead th {\n",
       "        text-align: right;\n",
       "    }\n",
       "</style>\n",
       "<table border=\"1\" class=\"dataframe\">\n",
       "  <thead>\n",
       "    <tr style=\"text-align: right;\">\n",
       "      <th></th>\n",
       "      <th>Open</th>\n",
       "      <th>High</th>\n",
       "      <th>Low</th>\n",
       "      <th>Close</th>\n",
       "      <th>Adj Close</th>\n",
       "      <th>Volume</th>\n",
       "    </tr>\n",
       "    <tr>\n",
       "      <th>Date</th>\n",
       "      <th></th>\n",
       "      <th></th>\n",
       "      <th></th>\n",
       "      <th></th>\n",
       "      <th></th>\n",
       "      <th></th>\n",
       "    </tr>\n",
       "  </thead>\n",
       "  <tbody>\n",
       "    <tr>\n",
       "      <th>2017-11-09</th>\n",
       "      <td>0.025160</td>\n",
       "      <td>0.035060</td>\n",
       "      <td>0.025006</td>\n",
       "      <td>0.032053</td>\n",
       "      <td>0.032053</td>\n",
       "      <td>18716200</td>\n",
       "    </tr>\n",
       "    <tr>\n",
       "      <th>2017-11-10</th>\n",
       "      <td>0.032219</td>\n",
       "      <td>0.033348</td>\n",
       "      <td>0.026451</td>\n",
       "      <td>0.027119</td>\n",
       "      <td>0.027119</td>\n",
       "      <td>6766780</td>\n",
       "    </tr>\n",
       "    <tr>\n",
       "      <th>2017-11-11</th>\n",
       "      <td>0.026891</td>\n",
       "      <td>0.029659</td>\n",
       "      <td>0.025684</td>\n",
       "      <td>0.027437</td>\n",
       "      <td>0.027437</td>\n",
       "      <td>5532220</td>\n",
       "    </tr>\n",
       "    <tr>\n",
       "      <th>2017-11-12</th>\n",
       "      <td>0.027480</td>\n",
       "      <td>0.027952</td>\n",
       "      <td>0.022591</td>\n",
       "      <td>0.023977</td>\n",
       "      <td>0.023977</td>\n",
       "      <td>7280250</td>\n",
       "    </tr>\n",
       "    <tr>\n",
       "      <th>2017-11-13</th>\n",
       "      <td>0.024364</td>\n",
       "      <td>0.026300</td>\n",
       "      <td>0.023495</td>\n",
       "      <td>0.025808</td>\n",
       "      <td>0.025808</td>\n",
       "      <td>4419440</td>\n",
       "    </tr>\n",
       "    <tr>\n",
       "      <th>...</th>\n",
       "      <td>...</td>\n",
       "      <td>...</td>\n",
       "      <td>...</td>\n",
       "      <td>...</td>\n",
       "      <td>...</td>\n",
       "      <td>...</td>\n",
       "    </tr>\n",
       "    <tr>\n",
       "      <th>2022-03-13</th>\n",
       "      <td>0.790567</td>\n",
       "      <td>0.819025</td>\n",
       "      <td>0.783251</td>\n",
       "      <td>0.790995</td>\n",
       "      <td>0.790995</td>\n",
       "      <td>772035954</td>\n",
       "    </tr>\n",
       "    <tr>\n",
       "      <th>2022-03-14</th>\n",
       "      <td>0.790412</td>\n",
       "      <td>0.812075</td>\n",
       "      <td>0.781908</td>\n",
       "      <td>0.803917</td>\n",
       "      <td>0.803917</td>\n",
       "      <td>924771999</td>\n",
       "    </tr>\n",
       "    <tr>\n",
       "      <th>2022-03-15</th>\n",
       "      <td>0.803841</td>\n",
       "      <td>0.815622</td>\n",
       "      <td>0.785917</td>\n",
       "      <td>0.800006</td>\n",
       "      <td>0.800006</td>\n",
       "      <td>832137304</td>\n",
       "    </tr>\n",
       "    <tr>\n",
       "      <th>2022-03-16</th>\n",
       "      <td>0.800024</td>\n",
       "      <td>0.838632</td>\n",
       "      <td>0.795396</td>\n",
       "      <td>0.838374</td>\n",
       "      <td>0.838374</td>\n",
       "      <td>1233395707</td>\n",
       "    </tr>\n",
       "    <tr>\n",
       "      <th>2022-03-17</th>\n",
       "      <td>0.840443</td>\n",
       "      <td>0.855481</td>\n",
       "      <td>0.832154</td>\n",
       "      <td>0.841578</td>\n",
       "      <td>0.841578</td>\n",
       "      <td>1106205312</td>\n",
       "    </tr>\n",
       "  </tbody>\n",
       "</table>\n",
       "<p>1590 rows × 6 columns</p>\n",
       "</div>"
      ],
      "text/plain": [
       "                Open      High       Low     Close  Adj Close      Volume\n",
       "Date                                                                     \n",
       "2017-11-09  0.025160  0.035060  0.025006  0.032053   0.032053    18716200\n",
       "2017-11-10  0.032219  0.033348  0.026451  0.027119   0.027119     6766780\n",
       "2017-11-11  0.026891  0.029659  0.025684  0.027437   0.027437     5532220\n",
       "2017-11-12  0.027480  0.027952  0.022591  0.023977   0.023977     7280250\n",
       "2017-11-13  0.024364  0.026300  0.023495  0.025808   0.025808     4419440\n",
       "...              ...       ...       ...       ...        ...         ...\n",
       "2022-03-13  0.790567  0.819025  0.783251  0.790995   0.790995   772035954\n",
       "2022-03-14  0.790412  0.812075  0.781908  0.803917   0.803917   924771999\n",
       "2022-03-15  0.803841  0.815622  0.785917  0.800006   0.800006   832137304\n",
       "2022-03-16  0.800024  0.838632  0.795396  0.838374   0.838374  1233395707\n",
       "2022-03-17  0.840443  0.855481  0.832154  0.841578   0.841578  1106205312\n",
       "\n",
       "[1590 rows x 6 columns]"
      ]
     },
     "execution_count": 6,
     "metadata": {},
     "output_type": "execute_result"
    }
   ],
   "source": [
    "df"
   ]
  },
  {
   "cell_type": "code",
   "execution_count": 7,
   "metadata": {},
   "outputs": [],
   "source": [
    "class SMACross(Strategy):\n",
    "    n1 = 10\n",
    "    n2 = 20\n",
    "    \n",
    "    def init(self):\n",
    "        self.sma1 = self.I(talib.SMA, self.data.Close, self.n1)\n",
    "        self.sma2 = self.I(talib.SMA, self.data.Close, self.n2)\n",
    "        \n",
    "    def next(self):\n",
    "        if crossover(self.sma1, self.sma2):\n",
    "            self.buy()\n",
    "        elif crossover(self.sma2, self.sma1):\n",
    "            self.position.close()"
   ]
  },
  {
   "cell_type": "code",
   "execution_count": 8,
   "metadata": {},
   "outputs": [
    {
     "name": "stdout",
     "output_type": "stream",
     "text": [
      "Start                     2017-11-09 00:00:00\n",
      "End                       2022-03-17 00:00:00\n",
      "Duration                   1589 days 00:00:00\n",
      "Exposure Time [%]                   48.867925\n",
      "Equity Final [$]                 70285.822706\n",
      "Equity Peak [$]                 227709.394587\n",
      "Return [%]                         602.858227\n",
      "Buy & Hold Return [%]             2525.583107\n",
      "Return (Ann.) [%]                   56.461231\n",
      "Volatility (Ann.) [%]              150.320628\n",
      "Sharpe Ratio                         0.375605\n",
      "Sortino Ratio                        1.141825\n",
      "Calmar Ratio                         0.664216\n",
      "Max. Drawdown [%]                  -85.004386\n",
      "Avg. Drawdown [%]                  -21.292718\n",
      "Max. Drawdown Duration      797 days 00:00:00\n",
      "Avg. Drawdown Duration       67 days 00:00:00\n",
      "# Trades                                   36\n",
      "Win Rate [%]                        33.333333\n",
      "Best Trade [%]                     567.613511\n",
      "Worst Trade [%]                    -29.757394\n",
      "Avg. Trade [%]                       5.565975\n",
      "Max. Trade Duration          81 days 00:00:00\n",
      "Avg. Trade Duration          21 days 00:00:00\n",
      "Profit Factor                        3.248532\n",
      "Expectancy [%]                      21.261099\n",
      "SQN                                  0.377738\n",
      "_strategy                            SMACross\n",
      "_equity_curve                             ...\n",
      "_trades                         Size  Entr...\n",
      "dtype: object\n"
     ]
    },
    {
     "data": {
      "text/html": [
       "<div style=\"display: table;\"><div style=\"display: table-row;\"><div style=\"display: table-cell;\"><b title=\"bokeh.models.layouts.Row\">Row</b>(</div><div style=\"display: table-cell;\">id&nbsp;=&nbsp;'1449', <span id=\"2063\" style=\"cursor: pointer;\">&hellip;)</span></div></div><div class=\"2062\" style=\"display: none;\"><div style=\"display: table-cell;\"></div><div style=\"display: table-cell;\">align&nbsp;=&nbsp;'start',</div></div><div class=\"2062\" style=\"display: none;\"><div style=\"display: table-cell;\"></div><div style=\"display: table-cell;\">aspect_ratio&nbsp;=&nbsp;None,</div></div><div class=\"2062\" style=\"display: none;\"><div style=\"display: table-cell;\"></div><div style=\"display: table-cell;\">background&nbsp;=&nbsp;None,</div></div><div class=\"2062\" style=\"display: none;\"><div style=\"display: table-cell;\"></div><div style=\"display: table-cell;\">children&nbsp;=&nbsp;[GridBox(id='1446', ...), ToolbarBox(id='1448', ...)],</div></div><div class=\"2062\" style=\"display: none;\"><div style=\"display: table-cell;\"></div><div style=\"display: table-cell;\">cols&nbsp;=&nbsp;'auto',</div></div><div class=\"2062\" style=\"display: none;\"><div style=\"display: table-cell;\"></div><div style=\"display: table-cell;\">css_classes&nbsp;=&nbsp;[],</div></div><div class=\"2062\" style=\"display: none;\"><div style=\"display: table-cell;\"></div><div style=\"display: table-cell;\">disabled&nbsp;=&nbsp;False,</div></div><div class=\"2062\" style=\"display: none;\"><div style=\"display: table-cell;\"></div><div style=\"display: table-cell;\">height&nbsp;=&nbsp;None,</div></div><div class=\"2062\" style=\"display: none;\"><div style=\"display: table-cell;\"></div><div style=\"display: table-cell;\">height_policy&nbsp;=&nbsp;'auto',</div></div><div class=\"2062\" style=\"display: none;\"><div style=\"display: table-cell;\"></div><div style=\"display: table-cell;\">js_event_callbacks&nbsp;=&nbsp;{},</div></div><div class=\"2062\" style=\"display: none;\"><div style=\"display: table-cell;\"></div><div style=\"display: table-cell;\">js_property_callbacks&nbsp;=&nbsp;{},</div></div><div class=\"2062\" style=\"display: none;\"><div style=\"display: table-cell;\"></div><div style=\"display: table-cell;\">margin&nbsp;=&nbsp;(0, 0, 0, 0),</div></div><div class=\"2062\" style=\"display: none;\"><div style=\"display: table-cell;\"></div><div style=\"display: table-cell;\">max_height&nbsp;=&nbsp;None,</div></div><div class=\"2062\" style=\"display: none;\"><div style=\"display: table-cell;\"></div><div style=\"display: table-cell;\">max_width&nbsp;=&nbsp;None,</div></div><div class=\"2062\" style=\"display: none;\"><div style=\"display: table-cell;\"></div><div style=\"display: table-cell;\">min_height&nbsp;=&nbsp;None,</div></div><div class=\"2062\" style=\"display: none;\"><div style=\"display: table-cell;\"></div><div style=\"display: table-cell;\">min_width&nbsp;=&nbsp;None,</div></div><div class=\"2062\" style=\"display: none;\"><div style=\"display: table-cell;\"></div><div style=\"display: table-cell;\">name&nbsp;=&nbsp;None,</div></div><div class=\"2062\" style=\"display: none;\"><div style=\"display: table-cell;\"></div><div style=\"display: table-cell;\">sizing_mode&nbsp;=&nbsp;'stretch_width',</div></div><div class=\"2062\" style=\"display: none;\"><div style=\"display: table-cell;\"></div><div style=\"display: table-cell;\">spacing&nbsp;=&nbsp;0,</div></div><div class=\"2062\" style=\"display: none;\"><div style=\"display: table-cell;\"></div><div style=\"display: table-cell;\">subscribed_events&nbsp;=&nbsp;[],</div></div><div class=\"2062\" style=\"display: none;\"><div style=\"display: table-cell;\"></div><div style=\"display: table-cell;\">syncable&nbsp;=&nbsp;True,</div></div><div class=\"2062\" style=\"display: none;\"><div style=\"display: table-cell;\"></div><div style=\"display: table-cell;\">tags&nbsp;=&nbsp;[],</div></div><div class=\"2062\" style=\"display: none;\"><div style=\"display: table-cell;\"></div><div style=\"display: table-cell;\">visible&nbsp;=&nbsp;True,</div></div><div class=\"2062\" style=\"display: none;\"><div style=\"display: table-cell;\"></div><div style=\"display: table-cell;\">width&nbsp;=&nbsp;None,</div></div><div class=\"2062\" style=\"display: none;\"><div style=\"display: table-cell;\"></div><div style=\"display: table-cell;\">width_policy&nbsp;=&nbsp;'auto')</div></div></div>\n",
       "<script>\n",
       "(function() {\n",
       "  let expanded = false;\n",
       "  const ellipsis = document.getElementById(\"2063\");\n",
       "  ellipsis.addEventListener(\"click\", function() {\n",
       "    const rows = document.getElementsByClassName(\"2062\");\n",
       "    for (let i = 0; i < rows.length; i++) {\n",
       "      const el = rows[i];\n",
       "      el.style.display = expanded ? \"none\" : \"table-row\";\n",
       "    }\n",
       "    ellipsis.innerHTML = expanded ? \"&hellip;)\" : \"&lsaquo;&lsaquo;&lsaquo;\";\n",
       "    expanded = !expanded;\n",
       "  });\n",
       "})();\n",
       "</script>\n"
      ],
      "text/plain": [
       "Row(id='1449', ...)"
      ]
     },
     "execution_count": 8,
     "metadata": {},
     "output_type": "execute_result"
    },
    {
     "name": "stderr",
     "output_type": "stream",
     "text": [
      "/usr/bin/sensible-browser: 8: /mnt/c/Program: not found\n",
      "[22651:22694:0317/125921.068196:ERROR:bus.cc(397)] Failed to connect to the bus: Failed to connect to socket /var/run/dbus/system_bus_socket: No such file or directory\n",
      "[22651:22694:0317/125921.068801:ERROR:bus.cc(397)] Failed to connect to the bus: Failed to connect to socket /var/run/dbus/system_bus_socket: No such file or directory\n",
      "[22651:22693:0317/125921.096997:ERROR:bus.cc(397)] Failed to connect to the bus: Could not parse server address: Unknown address type (examples of valid types are \"tcp\" and on UNIX \"unix\")\n",
      "[22651:22693:0317/125921.097063:ERROR:bus.cc(397)] Failed to connect to the bus: Could not parse server address: Unknown address type (examples of valid types are \"tcp\" and on UNIX \"unix\")\n",
      "[22651:22693:0317/125921.167516:ERROR:bus.cc(397)] Failed to connect to the bus: Could not parse server address: Unknown address type (examples of valid types are \"tcp\" and on UNIX \"unix\")\n",
      "[22651:22693:0317/125921.167566:ERROR:bus.cc(397)] Failed to connect to the bus: Could not parse server address: Unknown address type (examples of valid types are \"tcp\" and on UNIX \"unix\")\n",
      "[22651:22693:0317/125921.302783:ERROR:bus.cc(397)] Failed to connect to the bus: Could not parse server address: Unknown address type (examples of valid types are \"tcp\" and on UNIX \"unix\")\n",
      "[22651:22693:0317/125921.302869:ERROR:bus.cc(397)] Failed to connect to the bus: Could not parse server address: Unknown address type (examples of valid types are \"tcp\" and on UNIX \"unix\")\n",
      "[22651:22794:0317/125921.499482:ERROR:bus.cc(397)] Failed to connect to the bus: Failed to connect to socket /var/run/dbus/system_bus_socket: No such file or directory\n",
      "[22651:22794:0317/125921.499546:ERROR:bus.cc(397)] Failed to connect to the bus: Failed to connect to socket /var/run/dbus/system_bus_socket: No such file or directory\n",
      "[22651:22794:0317/125921.499575:ERROR:bus.cc(397)] Failed to connect to the bus: Failed to connect to socket /var/run/dbus/system_bus_socket: No such file or directory\n",
      "[22651:22794:0317/125921.499985:ERROR:bus.cc(397)] Failed to connect to the bus: Failed to connect to socket /var/run/dbus/system_bus_socket: No such file or directory\n",
      "[22651:22794:0317/125921.500050:ERROR:bus.cc(397)] Failed to connect to the bus: Failed to connect to socket /var/run/dbus/system_bus_socket: No such file or directory\n",
      "[22700:22700:0317/125924.129073:ERROR:sandbox_linux.cc(377)] InitializeSandbox() called with multiple threads in process gpu-process.\n",
      "[22700:22700:0317/125926.767858:ERROR:shared_image_manager.cc(226)] SharedImageManager::ProduceSkia: Trying to Produce a Skia representation from a non-existent mailbox.\n",
      "[22700:22700:0317/125926.772530:ERROR:shared_image_manager.cc(226)] SharedImageManager::ProduceSkia: Trying to Produce a Skia representation from a non-existent mailbox.\n",
      "[22700:22700:0317/125926.776729:ERROR:shared_image_manager.cc(226)] SharedImageManager::ProduceSkia: Trying to Produce a Skia representation from a non-existent mailbox.\n",
      "[22700:22700:0317/125926.789787:ERROR:shared_image_manager.cc(226)] SharedImageManager::ProduceSkia: Trying to Produce a Skia representation from a non-existent mailbox.\n"
     ]
    }
   ],
   "source": [
    "bt = Backtest(df, SMACross, cash=10000, commission=0.04, exclusive_orders=True)\n",
    "output= bt.run()\n",
    "print(output)\n",
    "bt.plot()"
   ]
  },
  {
   "cell_type": "code",
   "execution_count": 9,
   "metadata": {},
   "outputs": [
    {
     "name": "stderr",
     "output_type": "stream",
     "text": [
      "/home/samueltg92/miniconda3/envs/TRADING/lib/python3.9/site-packages/backtesting/backtesting.py:1488: UserWarning: Searching for best of 710 configurations.\n",
      "  output = _optimize_grid()\n"
     ]
    },
    {
     "data": {
      "application/vnd.jupyter.widget-view+json": {
       "model_id": "b720038eb7964329a7fb5dff2908ba23",
       "version_major": 2,
       "version_minor": 0
      },
      "text/plain": [
       "Backtest.optimize:   0%|          | 0/13 [00:00<?, ?it/s]"
      ]
     },
     "metadata": {},
     "output_type": "display_data"
    },
    {
     "name": "stdout",
     "output_type": "stream",
     "text": [
      "Start                     2017-11-09 00:00:00\n",
      "End                       2022-03-17 00:00:00\n",
      "Duration                   1589 days 00:00:00\n",
      "Exposure Time [%]                   41.509434\n",
      "Equity Final [$]                387522.864413\n",
      "Equity Peak [$]                 519175.010014\n",
      "Return [%]                        3775.228644\n",
      "Buy & Hold Return [%]             2525.583107\n",
      "Return (Ann.) [%]                  131.530994\n",
      "Volatility (Ann.) [%]              213.009275\n",
      "Sharpe Ratio                          0.61749\n",
      "Sortino Ratio                        2.949777\n",
      "Calmar Ratio                         2.720813\n",
      "Max. Drawdown [%]                  -48.342533\n",
      "Avg. Drawdown [%]                  -17.371076\n",
      "Max. Drawdown Duration      335 days 00:00:00\n",
      "Avg. Drawdown Duration       43 days 00:00:00\n",
      "# Trades                                    7\n",
      "Win Rate [%]                        57.142857\n",
      "Best Trade [%]                    1194.901342\n",
      "Worst Trade [%]                    -33.430873\n",
      "Avg. Trade [%]                      68.616405\n",
      "Max. Trade Duration         221 days 00:00:00\n",
      "Avg. Trade Duration          94 days 00:00:00\n",
      "Profit Factor                       26.511881\n",
      "Expectancy [%]                     198.778408\n",
      "SQN                                  1.360734\n",
      "_strategy                 SMACross(n1=10,n...\n",
      "_equity_curve                             ...\n",
      "_trades                        Size  Entry...\n",
      "dtype: object\n",
      "SMACross(n1=10,n2=80)\n",
      "n1  n2 \n",
      "10  80     387522.864413\n",
      "5   90     340316.943290\n",
      "    85     315667.218635\n",
      "15  40     286567.610803\n",
      "    35     280577.580406\n",
      "5   205    275225.279364\n",
      "20  50     269410.322267\n",
      "10  75     269069.166605\n",
      "15  55     267071.009347\n",
      "10  50     265740.563421\n",
      "Name: Equity Final [$], dtype: float64\n"
     ]
    },
    {
     "name": "stderr",
     "output_type": "stream",
     "text": [
      "/usr/bin/sensible-browser: 8: /mnt/c/Program: not found\n"
     ]
    },
    {
     "data": {
      "text/plain": [
       "<AxesSubplot:xlabel='n2', ylabel='n1'>"
      ]
     },
     "execution_count": 9,
     "metadata": {},
     "output_type": "execute_result"
    },
    {
     "name": "stderr",
     "output_type": "stream",
     "text": [
      "[23034:23071:0317/125939.115515:ERROR:bus.cc(397)] Failed to connect to the bus: Failed to connect to socket /var/run/dbus/system_bus_socket: No such file or directory\n",
      "[23034:23071:0317/125939.115667:ERROR:bus.cc(397)] Failed to connect to the bus: Failed to connect to socket /var/run/dbus/system_bus_socket: No such file or directory\n",
      "[23034:23070:0317/125939.121683:ERROR:bus.cc(397)] Failed to connect to the bus: Could not parse server address: Unknown address type (examples of valid types are \"tcp\" and on UNIX \"unix\")\n",
      "[23034:23070:0317/125939.121772:ERROR:bus.cc(397)] Failed to connect to the bus: Could not parse server address: Unknown address type (examples of valid types are \"tcp\" and on UNIX \"unix\")\n",
      "[23034:23070:0317/125939.136603:ERROR:bus.cc(397)] Failed to connect to the bus: Could not parse server address: Unknown address type (examples of valid types are \"tcp\" and on UNIX \"unix\")\n",
      "[23034:23070:0317/125939.136684:ERROR:bus.cc(397)] Failed to connect to the bus: Could not parse server address: Unknown address type (examples of valid types are \"tcp\" and on UNIX \"unix\")\n",
      "[23034:23070:0317/125939.205003:ERROR:bus.cc(397)] Failed to connect to the bus: Could not parse server address: Unknown address type (examples of valid types are \"tcp\" and on UNIX \"unix\")\n",
      "[23034:23070:0317/125939.205090:ERROR:bus.cc(397)] Failed to connect to the bus: Could not parse server address: Unknown address type (examples of valid types are \"tcp\" and on UNIX \"unix\")\n",
      "[23034:23139:0317/125939.321390:ERROR:bus.cc(397)] Failed to connect to the bus: Failed to connect to socket /var/run/dbus/system_bus_socket: No such file or directory\n",
      "[23034:23139:0317/125939.321485:ERROR:bus.cc(397)] Failed to connect to the bus: Failed to connect to socket /var/run/dbus/system_bus_socket: No such file or directory\n",
      "[23034:23139:0317/125939.321535:ERROR:bus.cc(397)] Failed to connect to the bus: Failed to connect to socket /var/run/dbus/system_bus_socket: No such file or directory\n",
      "[23034:23139:0317/125939.321615:ERROR:bus.cc(397)] Failed to connect to the bus: Failed to connect to socket /var/run/dbus/system_bus_socket: No such file or directory\n",
      "[23034:23139:0317/125939.321690:ERROR:bus.cc(397)] Failed to connect to the bus: Failed to connect to socket /var/run/dbus/system_bus_socket: No such file or directory\n"
     ]
    },
    {
     "data": {
      "image/png": "[encoded data removed]",
      "text/plain": [
       "<Figure size 864x720 with 2 Axes>"
      ]
     },
     "metadata": {
      "needs_background": "light"
     },
     "output_type": "display_data"
    },
    {
     "name": "stderr",
     "output_type": "stream",
     "text": [
      "[23077:23077:0317/125941.558512:ERROR:sandbox_linux.cc(377)] InitializeSandbox() called with multiple threads in process gpu-process.\n",
      "[23034:23063:0317/125945.516375:ERROR:chrome_browser_main_extra_parts_metrics.cc(227)] START: ReportBluetoothAvailability(). If you don't see the END: message, this is crbug.com/1216328.\n",
      "[23034:23063:0317/125945.516936:ERROR:chrome_browser_main_extra_parts_metrics.cc(230)] END: ReportBluetoothAvailability()\n",
      "[23077:23077:0317/130347.211054:ERROR:shared_image_manager.cc(226)] SharedImageManager::ProduceSkia: Trying to Produce a Skia representation from a non-existent mailbox.\n",
      "[23077:23077:0317/130347.658535:ERROR:shared_image_manager.cc(226)] SharedImageManager::ProduceSkia: Trying to Produce a Skia representation from a non-existent mailbox.\n",
      "[23077:23077:0317/130347.916534:ERROR:shared_image_manager.cc(226)] SharedImageManager::ProduceSkia: Trying to Produce a Skia representation from a non-existent mailbox.\n",
      "[23077:23077:0317/130347.922409:ERROR:shared_image_manager.cc(226)] SharedImageManager::ProduceSkia: Trying to Produce a Skia representation from a non-existent mailbox.\n",
      "[23077:23077:0317/130347.929203:ERROR:shared_image_manager.cc(226)] SharedImageManager::ProduceSkia: Trying to Produce a Skia representation from a non-existent mailbox.\n",
      "[23077:23077:0317/130347.935376:ERROR:shared_image_manager.cc(226)] SharedImageManager::ProduceSkia: Trying to Produce a Skia representation from a non-existent mailbox.\n",
      "[23077:23077:0317/130347.951928:ERROR:shared_image_manager.cc(226)] SharedImageManager::ProduceSkia: Trying to Produce a Skia representation from a non-existent mailbox.\n",
      "[23077:23077:0317/130347.966685:ERROR:shared_image_manager.cc(226)] SharedImageManager::ProduceSkia: Trying to Produce a Skia representation from a non-existent mailbox.\n",
      "[23077:23077:0317/130347.996174:ERROR:shared_image_manager.cc(226)] SharedImageManager::ProduceSkia: Trying to Produce a Skia representation from a non-existent mailbox.\n",
      "[23077:23077:0317/130348.001591:ERROR:shared_image_manager.cc(226)] SharedImageManager::ProduceSkia: Trying to Produce a Skia representation from a non-existent mailbox.\n"
     ]
    }
   ],
   "source": [
    "# Optimization process\n",
    "stats, heatmap = bt.optimize(\n",
    "    n1=range(5,120,5),\n",
    "    n2=range(20,220,5),\n",
    "    maximize='Equity Final [$]',\n",
    "    constraint=lambda x: x.n1 < x.n2,\n",
    "    return_heatmap=True\n",
    ")\n",
    "\n",
    "print(stats)\n",
    "print(stats._strategy)\n",
    "bt.plot()\n",
    "print(heatmap.sort_values(ascending=False).iloc[:10])\n",
    "hm = heatmap.groupby(['n1','n2']).mean().unstack()\n",
    "plt.figure(figsize=(12,10))\n",
    "sns.heatmap(hm[::-1], cmap='viridis')\n",
    "# plt.savefig('sma-crossover-heatmap.png')"
   ]
  },
  {
   "cell_type": "code",
   "execution_count": null,
   "metadata": {},
   "outputs": [],
   "source": []
  }
 ],
 "metadata": {
  "interpreter": {
   "hash": "7b519ee345cc34aa686dd8a83a3126bc662197bc20311eced2e734e0a9fb8acd"
  },
  "kernelspec": {
   "display_name": "Python 3.9.7 ('base')",
   "language": "python",
   "name": "python3"
  },
  "language_info": {
   "codemirror_mode": {
    "name": "ipython",
    "version": 3
   },
   "file_extension": ".py",
   "mimetype": "text/x-python",
   "name": "python",
   "nbconvert_exporter": "python",
   "pygments_lexer": "ipython3",
   "version": "3.9.7"
  },
  "orig_nbformat": 4
 },
 "nbformat": 4,
 "nbformat_minor": 2
}
