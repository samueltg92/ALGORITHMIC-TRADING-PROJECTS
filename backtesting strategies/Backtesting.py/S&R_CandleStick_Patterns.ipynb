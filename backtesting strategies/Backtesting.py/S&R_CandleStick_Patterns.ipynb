{
 "cells": [
  {
   "cell_type": "code",
   "execution_count": 30,
   "metadata": {},
   "outputs": [],
   "source": [
    "import pandas as pd\n",
    "import pandas_ta as ta\n",
    "import talib as TA\n",
    "from backtesting import Strategy, Backtest\n",
    "from datetime import datetime\n",
    "from mplfinance.original_flavor import candlestick_ohlc\n",
    "import matplotlib.dates as mpl_dates\n",
    "import matplotlib.pyplot as plt"
   ]
  },
  {
   "cell_type": "code",
   "execution_count": null,
   "metadata": {},
   "outputs": [],
   "source": [
    "'''\n",
    "This strategy is based on support and resistance levels mixed with candlestick patterns.\n",
    "Initially, the strategy will use 4H data of EURUSD, but I'll add more timeframes later.\n",
    "The backtest is done with backtesting.py and is intended to throw the results from it.\n",
    "'''"
   ]
  },
  {
   "cell_type": "markdown",
   "metadata": {},
   "source": [
    "LOAD AND CLEAN DATA"
   ]
  },
  {
   "cell_type": "code",
   "execution_count": 47,
   "metadata": {},
   "outputs": [
    {
     "data": {
      "text/html": [
       "<div>\n",
       "<style scoped>\n",
       "    .dataframe tbody tr th:only-of-type {\n",
       "        vertical-align: middle;\n",
       "    }\n",
       "\n",
       "    .dataframe tbody tr th {\n",
       "        vertical-align: top;\n",
       "    }\n",
       "\n",
       "    .dataframe thead th {\n",
       "        text-align: right;\n",
       "    }\n",
       "</style>\n",
       "<table border=\"1\" class=\"dataframe\">\n",
       "  <thead>\n",
       "    <tr style=\"text-align: right;\">\n",
       "      <th></th>\n",
       "      <th>Open</th>\n",
       "      <th>High</th>\n",
       "      <th>Low</th>\n",
       "      <th>Close</th>\n",
       "      <th>Volume</th>\n",
       "      <th>Date1</th>\n",
       "    </tr>\n",
       "    <tr>\n",
       "      <th>Date</th>\n",
       "      <th></th>\n",
       "      <th></th>\n",
       "      <th></th>\n",
       "      <th></th>\n",
       "      <th></th>\n",
       "      <th></th>\n",
       "    </tr>\n",
       "  </thead>\n",
       "  <tbody>\n",
       "    <tr>\n",
       "      <th>2022-03-31 20:00:00</th>\n",
       "      <td>1.10673</td>\n",
       "      <td>1.10730</td>\n",
       "      <td>1.10613</td>\n",
       "      <td>1.10637</td>\n",
       "      <td>21587.74</td>\n",
       "      <td>2022-03-31 20:00:00</td>\n",
       "    </tr>\n",
       "    <tr>\n",
       "      <th>2022-01-04 00:00:00</th>\n",
       "      <td>1.10638</td>\n",
       "      <td>1.10757</td>\n",
       "      <td>1.10428</td>\n",
       "      <td>1.10605</td>\n",
       "      <td>55565.31</td>\n",
       "      <td>2022-01-04 00:00:00</td>\n",
       "    </tr>\n",
       "    <tr>\n",
       "      <th>2022-01-04 04:00:00</th>\n",
       "      <td>1.10605</td>\n",
       "      <td>1.10677</td>\n",
       "      <td>1.10365</td>\n",
       "      <td>1.10438</td>\n",
       "      <td>53602.25</td>\n",
       "      <td>2022-01-04 04:00:00</td>\n",
       "    </tr>\n",
       "    <tr>\n",
       "      <th>2022-01-04 08:00:00</th>\n",
       "      <td>1.10438</td>\n",
       "      <td>1.10536</td>\n",
       "      <td>1.10279</td>\n",
       "      <td>1.10402</td>\n",
       "      <td>28882.14</td>\n",
       "      <td>2022-01-04 08:00:00</td>\n",
       "    </tr>\n",
       "    <tr>\n",
       "      <th>2022-01-04 12:00:00</th>\n",
       "      <td>1.10402</td>\n",
       "      <td>1.10524</td>\n",
       "      <td>1.10325</td>\n",
       "      <td>1.10427</td>\n",
       "      <td>15225.47</td>\n",
       "      <td>2022-01-04 12:00:00</td>\n",
       "    </tr>\n",
       "  </tbody>\n",
       "</table>\n",
       "</div>"
      ],
      "text/plain": [
       "                        Open     High      Low    Close    Volume  \\\n",
       "Date                                                                \n",
       "2022-03-31 20:00:00  1.10673  1.10730  1.10613  1.10637  21587.74   \n",
       "2022-01-04 00:00:00  1.10638  1.10757  1.10428  1.10605  55565.31   \n",
       "2022-01-04 04:00:00  1.10605  1.10677  1.10365  1.10438  53602.25   \n",
       "2022-01-04 08:00:00  1.10438  1.10536  1.10279  1.10402  28882.14   \n",
       "2022-01-04 12:00:00  1.10402  1.10524  1.10325  1.10427  15225.47   \n",
       "\n",
       "                                  Date1  \n",
       "Date                                     \n",
       "2022-03-31 20:00:00 2022-03-31 20:00:00  \n",
       "2022-01-04 00:00:00 2022-01-04 00:00:00  \n",
       "2022-01-04 04:00:00 2022-01-04 04:00:00  \n",
       "2022-01-04 08:00:00 2022-01-04 08:00:00  \n",
       "2022-01-04 12:00:00 2022-01-04 12:00:00  "
      ]
     },
     "execution_count": 47,
     "metadata": {},
     "output_type": "execute_result"
    }
   ],
   "source": [
    "df = pd.read_csv('../data_sets/EURUSD_Candlestick_4_Hour_BID_01.03.2014-02.04.2022.csv')\n",
    "df = df[df['Volume']!=0]\n",
    "df.reset_index(drop=True, inplace=True)\n",
    "df['Local time'] = df['Local time'].str.rstrip('GMT-0500')\n",
    "df['Date'] = pd.to_datetime(df['Local time'])\n",
    "df.drop(columns=['Local time'], inplace=True)\n",
    "df = df[['Date', 'Open', 'High', 'Low', 'Close', 'Volume']]\n",
    "df['Date1'] = df['Date']\n",
    "df.set_index('Date', inplace=True)\n",
    "df.tail()"
   ]
  },
  {
   "cell_type": "markdown",
   "metadata": {},
   "source": [
    "CALCULATION OF ATR FOR SL & TP"
   ]
  },
  {
   "cell_type": "code",
   "execution_count": 6,
   "metadata": {},
   "outputs": [
    {
     "data": {
      "text/html": [
       "<div>\n",
       "<style scoped>\n",
       "    .dataframe tbody tr th:only-of-type {\n",
       "        vertical-align: middle;\n",
       "    }\n",
       "\n",
       "    .dataframe tbody tr th {\n",
       "        vertical-align: top;\n",
       "    }\n",
       "\n",
       "    .dataframe thead th {\n",
       "        text-align: right;\n",
       "    }\n",
       "</style>\n",
       "<table border=\"1\" class=\"dataframe\">\n",
       "  <thead>\n",
       "    <tr style=\"text-align: right;\">\n",
       "      <th></th>\n",
       "      <th>Open</th>\n",
       "      <th>High</th>\n",
       "      <th>Low</th>\n",
       "      <th>Close</th>\n",
       "      <th>Volume</th>\n",
       "      <th>ATR</th>\n",
       "    </tr>\n",
       "    <tr>\n",
       "      <th>Date</th>\n",
       "      <th></th>\n",
       "      <th></th>\n",
       "      <th></th>\n",
       "      <th></th>\n",
       "      <th></th>\n",
       "      <th></th>\n",
       "    </tr>\n",
       "  </thead>\n",
       "  <tbody>\n",
       "    <tr>\n",
       "      <th>2022-03-31 20:00:00</th>\n",
       "      <td>1.10673</td>\n",
       "      <td>1.10730</td>\n",
       "      <td>1.10613</td>\n",
       "      <td>1.10637</td>\n",
       "      <td>21587.74</td>\n",
       "      <td>0.003656</td>\n",
       "    </tr>\n",
       "    <tr>\n",
       "      <th>2022-01-04 00:00:00</th>\n",
       "      <td>1.10638</td>\n",
       "      <td>1.10757</td>\n",
       "      <td>1.10428</td>\n",
       "      <td>1.10605</td>\n",
       "      <td>55565.31</td>\n",
       "      <td>0.003630</td>\n",
       "    </tr>\n",
       "    <tr>\n",
       "      <th>2022-01-04 04:00:00</th>\n",
       "      <td>1.10605</td>\n",
       "      <td>1.10677</td>\n",
       "      <td>1.10365</td>\n",
       "      <td>1.10438</td>\n",
       "      <td>53602.25</td>\n",
       "      <td>0.003593</td>\n",
       "    </tr>\n",
       "    <tr>\n",
       "      <th>2022-01-04 08:00:00</th>\n",
       "      <td>1.10438</td>\n",
       "      <td>1.10536</td>\n",
       "      <td>1.10279</td>\n",
       "      <td>1.10402</td>\n",
       "      <td>28882.14</td>\n",
       "      <td>0.003520</td>\n",
       "    </tr>\n",
       "    <tr>\n",
       "      <th>2022-01-04 12:00:00</th>\n",
       "      <td>1.10402</td>\n",
       "      <td>1.10524</td>\n",
       "      <td>1.10325</td>\n",
       "      <td>1.10427</td>\n",
       "      <td>15225.47</td>\n",
       "      <td>0.003411</td>\n",
       "    </tr>\n",
       "  </tbody>\n",
       "</table>\n",
       "</div>"
      ],
      "text/plain": [
       "                        Open     High      Low    Close    Volume       ATR\n",
       "Date                                                                       \n",
       "2022-03-31 20:00:00  1.10673  1.10730  1.10613  1.10637  21587.74  0.003656\n",
       "2022-01-04 00:00:00  1.10638  1.10757  1.10428  1.10605  55565.31  0.003630\n",
       "2022-01-04 04:00:00  1.10605  1.10677  1.10365  1.10438  53602.25  0.003593\n",
       "2022-01-04 08:00:00  1.10438  1.10536  1.10279  1.10402  28882.14  0.003520\n",
       "2022-01-04 12:00:00  1.10402  1.10524  1.10325  1.10427  15225.47  0.003411"
      ]
     },
     "execution_count": 6,
     "metadata": {},
     "output_type": "execute_result"
    }
   ],
   "source": [
    "df['ATR']= df.ta.atr()\n",
    "df.tail()"
   ]
  },
  {
   "cell_type": "markdown",
   "metadata": {},
   "source": [
    "CALCULATING SUPPORT & RESISTANCE"
   ]
  },
  {
   "cell_type": "code",
   "execution_count": 8,
   "metadata": {},
   "outputs": [],
   "source": [
    "def support(df, l, n1, n2):\n",
    "    # checking if the lows before \"l\" are decreasing\n",
    "    for i in range(l-n1+1, l+1):\n",
    "        if df.Low[i] > df.Low[i-1]:\n",
    "            return 0\n",
    "    # checking if the lows after \"l\" are increasing    \n",
    "    for i in range(l+1, l+n2+1):\n",
    "        if df.Low[i] < df.Low[i-1]:\n",
    "            return 0\n",
    "    \n",
    "    return 1\n",
    "        \n",
    "\n",
    "def resistance(df, l, n1, n2):\n",
    "    # checking if the highs before \"l\" are decreasing\n",
    "    for i in range(l-n1+1, l+1):\n",
    "        if df.High[i] < df.High[i-1]:\n",
    "            return 0\n",
    "    # checking if the highs after \"l\" are increasing    \n",
    "    for i in range(l+1, l+n2+1):\n",
    "        if df.High[i] > df.High[i-1]:\n",
    "            return 0\n",
    "    \n",
    "    return 1"
   ]
  },
  {
   "cell_type": "markdown",
   "metadata": {},
   "source": [
    "CHECK FOR SUPPORT & RESISTANCE LEVELS"
   ]
  },
  {
   "cell_type": "code",
   "execution_count": null,
   "metadata": {},
   "outputs": [],
   "source": [
    "sr = []\n",
    "n1 = 2\n",
    "n2 = 2\n",
    "\n",
    "for row in range(2, 12605):\n",
    "    if support(df, row, n1, n2):\n",
    "        sr.append((row, df.Low[row],1))\n",
    "    if resistance(df, row, n1, n2):\n",
    "        sr.append((row, df.High[row],2))\n",
    "        "
   ]
  },
  {
   "cell_type": "markdown",
   "metadata": {},
   "source": [
    "FILTER FOR VERY CLOSE LINES"
   ]
  },
  {
   "cell_type": "code",
   "execution_count": null,
   "metadata": {},
   "outputs": [],
   "source": [
    "plotlist1 = [x[1] for x in sr if x[2] == 1]\n",
    "plotlist2 = [x[1] for x in sr if x[2] == 2]\n",
    "plotlist1.sort()\n",
    "plotlist2.sort()\n",
    "\n",
    "for i in range(1, len(plotlist1)):\n",
    "    if(i>=len(plotlist1)):\n",
    "        break\n",
    "    if abs(plotlist1[i] - plotlist1[i-1]) <= 0.005:\n",
    "        plotlist1.pop(i)\n",
    "        \n",
    "for i in range(1, len(plotlist2)):\n",
    "    if(i>=len(plotlist2)):\n",
    "        break\n",
    "    if abs(plotlist2[i] - plotlist2[i-1]) <= 0.005:\n",
    "        plotlist2.pop(i)\n",
    "plotlist1"
   ]
  },
  {
   "cell_type": "markdown",
   "metadata": {},
   "source": [
    "BACKTEST USING ATR FOR SL & TP"
   ]
  },
  {
   "cell_type": "code",
   "execution_count": 11,
   "metadata": {},
   "outputs": [],
   "source": [
    "class SRCP(Strategy):\n",
    "    \n",
    "    def init(self):\n",
    "        super().init()\n",
    "        self.engulfing = self.I(TA.CDLENGULFING, self.data.Open, self.data.High, self.data.Low, self.data.Close, penetration=0)\n",
    "        self.sstar = self.I(TA.CDLSHOOTINGSTAR, self.data.Open, self.data.High, self.data.Low, self.data.Close)\n",
    "        self.hammer = self.I(TA.CDLHAMMER, self.data.Open, self.data.High, self.data.Low, self.data.Close)\n",
    "        self.sr = self.I(sr)\n",
    "    \n",
    "    def next(self):\n",
    "        super().next()\n",
    "        pass"
   ]
  },
  {
   "cell_type": "code",
   "execution_count": null,
   "metadata": {},
   "outputs": [],
   "source": []
  }
 ],
 "metadata": {
  "interpreter": {
   "hash": "d5bf52178c2f6b385ff01200ba56c20879e9f5bf036653deba3ae3a93ee7aba2"
  },
  "kernelspec": {
   "display_name": "Python 3.9.7 ('TRADING')",
   "language": "python",
   "name": "python3"
  },
  "language_info": {
   "codemirror_mode": {
    "name": "ipython",
    "version": 3
   },
   "file_extension": ".py",
   "mimetype": "text/x-python",
   "name": "python",
   "nbconvert_exporter": "python",
   "pygments_lexer": "ipython3",
   "version": "3.9.7"
  },
  "orig_nbformat": 4
 },
 "nbformat": 4,
 "nbformat_minor": 2
}
