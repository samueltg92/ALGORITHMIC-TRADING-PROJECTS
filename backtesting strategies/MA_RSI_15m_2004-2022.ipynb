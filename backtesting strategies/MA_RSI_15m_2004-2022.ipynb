{
 "cells": [
  {
   "cell_type": "code",
   "execution_count": 1,
   "metadata": {},
   "outputs": [],
   "source": [
    "import pandas as pd\n",
    "import talib as TA\n",
    "import pandas_ta as ta\n",
    "from backtesting import Strategy, Backtest"
   ]
  },
  {
   "cell_type": "code",
   "execution_count": 2,
   "metadata": {},
   "outputs": [
    {
     "data": {
      "text/plain": [
       "'\\nThis strategy takes into account RSI for entry signals and a exponential moving average for trend detection.\\nis intended to be used with a 15m timeframe, but can be used with any timeframe, just test it out.\\nThe backtest is done with backtesting.py and is intended to throw the results from it, the results are going to be optimized.\\n'"
      ]
     },
     "execution_count": 2,
     "metadata": {},
     "output_type": "execute_result"
    }
   ],
   "source": [
    "'''\n",
    "This strategy takes into account RSI for entry signals and a exponential moving average for trend detection.\n",
    "is intended to be used with a 15m timeframe, but can be used with any timeframe, just test it out.\n",
    "The backtest is done with backtesting.py and is intended to throw the results from it, the results are going to be optimized.\n",
    "'''"
   ]
  },
  {
   "cell_type": "markdown",
   "metadata": {},
   "source": [
    "READ & CLEAN THE DATA SET"
   ]
  },
  {
   "cell_type": "code",
   "execution_count": 2,
   "metadata": {},
   "outputs": [
    {
     "data": {
      "text/html": [
       "<div>\n",
       "<style scoped>\n",
       "    .dataframe tbody tr th:only-of-type {\n",
       "        vertical-align: middle;\n",
       "    }\n",
       "\n",
       "    .dataframe tbody tr th {\n",
       "        vertical-align: top;\n",
       "    }\n",
       "\n",
       "    .dataframe thead th {\n",
       "        text-align: right;\n",
       "    }\n",
       "</style>\n",
       "<table border=\"1\" class=\"dataframe\">\n",
       "  <thead>\n",
       "    <tr style=\"text-align: right;\">\n",
       "      <th></th>\n",
       "      <th>Local time</th>\n",
       "      <th>Open</th>\n",
       "      <th>High</th>\n",
       "      <th>Low</th>\n",
       "      <th>Close</th>\n",
       "      <th>Volume</th>\n",
       "    </tr>\n",
       "  </thead>\n",
       "  <tbody>\n",
       "    <tr>\n",
       "      <th>0</th>\n",
       "      <td>09.04.2004 00:00:00.000 GMT-0500</td>\n",
       "      <td>1.20722</td>\n",
       "      <td>1.20820</td>\n",
       "      <td>1.20689</td>\n",
       "      <td>1.20794</td>\n",
       "      <td>7953.20</td>\n",
       "    </tr>\n",
       "    <tr>\n",
       "      <th>1</th>\n",
       "      <td>09.04.2004 00:15:00.000 GMT-0500</td>\n",
       "      <td>1.20796</td>\n",
       "      <td>1.20855</td>\n",
       "      <td>1.20752</td>\n",
       "      <td>1.20824</td>\n",
       "      <td>7377.60</td>\n",
       "    </tr>\n",
       "    <tr>\n",
       "      <th>2</th>\n",
       "      <td>09.04.2004 00:30:00.000 GMT-0500</td>\n",
       "      <td>1.20817</td>\n",
       "      <td>1.20838</td>\n",
       "      <td>1.20767</td>\n",
       "      <td>1.20790</td>\n",
       "      <td>8624.70</td>\n",
       "    </tr>\n",
       "    <tr>\n",
       "      <th>3</th>\n",
       "      <td>09.04.2004 00:45:00.000 GMT-0500</td>\n",
       "      <td>1.20807</td>\n",
       "      <td>1.20834</td>\n",
       "      <td>1.20719</td>\n",
       "      <td>1.20820</td>\n",
       "      <td>6816.70</td>\n",
       "    </tr>\n",
       "    <tr>\n",
       "      <th>4</th>\n",
       "      <td>09.04.2004 01:00:00.000 GMT-0500</td>\n",
       "      <td>1.20780</td>\n",
       "      <td>1.20941</td>\n",
       "      <td>1.20773</td>\n",
       "      <td>1.20888</td>\n",
       "      <td>8339.30</td>\n",
       "    </tr>\n",
       "    <tr>\n",
       "      <th>...</th>\n",
       "      <td>...</td>\n",
       "      <td>...</td>\n",
       "      <td>...</td>\n",
       "      <td>...</td>\n",
       "      <td>...</td>\n",
       "      <td>...</td>\n",
       "    </tr>\n",
       "    <tr>\n",
       "      <th>449188</th>\n",
       "      <td>04.04.2022 17:45:00.000 GMT-0500</td>\n",
       "      <td>1.09742</td>\n",
       "      <td>1.09742</td>\n",
       "      <td>1.09717</td>\n",
       "      <td>1.09724</td>\n",
       "      <td>154.88</td>\n",
       "    </tr>\n",
       "    <tr>\n",
       "      <th>449189</th>\n",
       "      <td>04.04.2022 18:00:00.000 GMT-0500</td>\n",
       "      <td>1.09727</td>\n",
       "      <td>1.09735</td>\n",
       "      <td>1.09716</td>\n",
       "      <td>1.09722</td>\n",
       "      <td>148.93</td>\n",
       "    </tr>\n",
       "    <tr>\n",
       "      <th>449190</th>\n",
       "      <td>04.04.2022 18:15:00.000 GMT-0500</td>\n",
       "      <td>1.09722</td>\n",
       "      <td>1.09730</td>\n",
       "      <td>1.09710</td>\n",
       "      <td>1.09723</td>\n",
       "      <td>199.63</td>\n",
       "    </tr>\n",
       "    <tr>\n",
       "      <th>449191</th>\n",
       "      <td>04.04.2022 18:30:00.000 GMT-0500</td>\n",
       "      <td>1.09723</td>\n",
       "      <td>1.09761</td>\n",
       "      <td>1.09722</td>\n",
       "      <td>1.09745</td>\n",
       "      <td>184.76</td>\n",
       "    </tr>\n",
       "    <tr>\n",
       "      <th>449192</th>\n",
       "      <td>04.04.2022 18:45:00.000 GMT-0500</td>\n",
       "      <td>1.09746</td>\n",
       "      <td>1.09757</td>\n",
       "      <td>1.09726</td>\n",
       "      <td>1.09749</td>\n",
       "      <td>254.23</td>\n",
       "    </tr>\n",
       "  </tbody>\n",
       "</table>\n",
       "<p>449193 rows × 6 columns</p>\n",
       "</div>"
      ],
      "text/plain": [
       "                              Local time     Open     High      Low    Close  \\\n",
       "0       09.04.2004 00:00:00.000 GMT-0500  1.20722  1.20820  1.20689  1.20794   \n",
       "1       09.04.2004 00:15:00.000 GMT-0500  1.20796  1.20855  1.20752  1.20824   \n",
       "2       09.04.2004 00:30:00.000 GMT-0500  1.20817  1.20838  1.20767  1.20790   \n",
       "3       09.04.2004 00:45:00.000 GMT-0500  1.20807  1.20834  1.20719  1.20820   \n",
       "4       09.04.2004 01:00:00.000 GMT-0500  1.20780  1.20941  1.20773  1.20888   \n",
       "...                                  ...      ...      ...      ...      ...   \n",
       "449188  04.04.2022 17:45:00.000 GMT-0500  1.09742  1.09742  1.09717  1.09724   \n",
       "449189  04.04.2022 18:00:00.000 GMT-0500  1.09727  1.09735  1.09716  1.09722   \n",
       "449190  04.04.2022 18:15:00.000 GMT-0500  1.09722  1.09730  1.09710  1.09723   \n",
       "449191  04.04.2022 18:30:00.000 GMT-0500  1.09723  1.09761  1.09722  1.09745   \n",
       "449192  04.04.2022 18:45:00.000 GMT-0500  1.09746  1.09757  1.09726  1.09749   \n",
       "\n",
       "         Volume  \n",
       "0       7953.20  \n",
       "1       7377.60  \n",
       "2       8624.70  \n",
       "3       6816.70  \n",
       "4       8339.30  \n",
       "...         ...  \n",
       "449188   154.88  \n",
       "449189   148.93  \n",
       "449190   199.63  \n",
       "449191   184.76  \n",
       "449192   254.23  \n",
       "\n",
       "[449193 rows x 6 columns]"
      ]
     },
     "execution_count": 2,
     "metadata": {},
     "output_type": "execute_result"
    }
   ],
   "source": [
    "df = pd.read_csv('data_sets/EURUSD_Candlestick_15_M_BID_09.04.2004-04.04.2022.csv')\n",
    "df = df[df['Volume']!=0]\n",
    "df.drop(columns=['Unnamed: 0'], inplace=True)\n",
    "df.reset_index(drop=True, inplace=True)\n",
    "df"
   ]
  },
  {
   "cell_type": "markdown",
   "metadata": {},
   "source": [
    "CALCULATION OF ATR"
   ]
  },
  {
   "cell_type": "code",
   "execution_count": 3,
   "metadata": {},
   "outputs": [
    {
     "data": {
      "text/html": [
       "<div>\n",
       "<style scoped>\n",
       "    .dataframe tbody tr th:only-of-type {\n",
       "        vertical-align: middle;\n",
       "    }\n",
       "\n",
       "    .dataframe tbody tr th {\n",
       "        vertical-align: top;\n",
       "    }\n",
       "\n",
       "    .dataframe thead th {\n",
       "        text-align: right;\n",
       "    }\n",
       "</style>\n",
       "<table border=\"1\" class=\"dataframe\">\n",
       "  <thead>\n",
       "    <tr style=\"text-align: right;\">\n",
       "      <th></th>\n",
       "      <th>Local time</th>\n",
       "      <th>Open</th>\n",
       "      <th>High</th>\n",
       "      <th>Low</th>\n",
       "      <th>Close</th>\n",
       "      <th>Volume</th>\n",
       "      <th>ATR</th>\n",
       "    </tr>\n",
       "  </thead>\n",
       "  <tbody>\n",
       "    <tr>\n",
       "      <th>449188</th>\n",
       "      <td>04.04.2022 17:45:00.000 GMT-0500</td>\n",
       "      <td>1.09742</td>\n",
       "      <td>1.09742</td>\n",
       "      <td>1.09717</td>\n",
       "      <td>1.09724</td>\n",
       "      <td>154.88</td>\n",
       "      <td>0.000410</td>\n",
       "    </tr>\n",
       "    <tr>\n",
       "      <th>449189</th>\n",
       "      <td>04.04.2022 18:00:00.000 GMT-0500</td>\n",
       "      <td>1.09727</td>\n",
       "      <td>1.09735</td>\n",
       "      <td>1.09716</td>\n",
       "      <td>1.09722</td>\n",
       "      <td>148.93</td>\n",
       "      <td>0.000394</td>\n",
       "    </tr>\n",
       "    <tr>\n",
       "      <th>449190</th>\n",
       "      <td>04.04.2022 18:15:00.000 GMT-0500</td>\n",
       "      <td>1.09722</td>\n",
       "      <td>1.09730</td>\n",
       "      <td>1.09710</td>\n",
       "      <td>1.09723</td>\n",
       "      <td>199.63</td>\n",
       "      <td>0.000380</td>\n",
       "    </tr>\n",
       "    <tr>\n",
       "      <th>449191</th>\n",
       "      <td>04.04.2022 18:30:00.000 GMT-0500</td>\n",
       "      <td>1.09723</td>\n",
       "      <td>1.09761</td>\n",
       "      <td>1.09722</td>\n",
       "      <td>1.09745</td>\n",
       "      <td>184.76</td>\n",
       "      <td>0.000381</td>\n",
       "    </tr>\n",
       "    <tr>\n",
       "      <th>449192</th>\n",
       "      <td>04.04.2022 18:45:00.000 GMT-0500</td>\n",
       "      <td>1.09746</td>\n",
       "      <td>1.09757</td>\n",
       "      <td>1.09726</td>\n",
       "      <td>1.09749</td>\n",
       "      <td>254.23</td>\n",
       "      <td>0.000376</td>\n",
       "    </tr>\n",
       "  </tbody>\n",
       "</table>\n",
       "</div>"
      ],
      "text/plain": [
       "                              Local time     Open     High      Low    Close  \\\n",
       "449188  04.04.2022 17:45:00.000 GMT-0500  1.09742  1.09742  1.09717  1.09724   \n",
       "449189  04.04.2022 18:00:00.000 GMT-0500  1.09727  1.09735  1.09716  1.09722   \n",
       "449190  04.04.2022 18:15:00.000 GMT-0500  1.09722  1.09730  1.09710  1.09723   \n",
       "449191  04.04.2022 18:30:00.000 GMT-0500  1.09723  1.09761  1.09722  1.09745   \n",
       "449192  04.04.2022 18:45:00.000 GMT-0500  1.09746  1.09757  1.09726  1.09749   \n",
       "\n",
       "        Volume       ATR  \n",
       "449188  154.88  0.000410  \n",
       "449189  148.93  0.000394  \n",
       "449190  199.63  0.000380  \n",
       "449191  184.76  0.000381  \n",
       "449192  254.23  0.000376  "
      ]
     },
     "execution_count": 3,
     "metadata": {},
     "output_type": "execute_result"
    }
   ],
   "source": [
    "df['ATR']= df.ta.atr()\n",
    "df.tail()     "
   ]
  },
  {
   "cell_type": "markdown",
   "metadata": {},
   "source": [
    "BACKTEST ATR RELATED SL&TP"
   ]
  },
  {
   "cell_type": "code",
   "execution_count": 7,
   "metadata": {},
   "outputs": [
    {
     "name": "stderr",
     "output_type": "stream",
     "text": [
      "/tmp/ipykernel_5485/391708153.py:33: UserWarning: Data index is not datetime. Assuming simple periods, but `pd.DateTimeIndex` is advised.\n",
      "  bt = Backtest(df, MyStrat, cash=500, margin=1/50, commission=.00)\n"
     ]
    },
    {
     "name": "stdout",
     "output_type": "stream",
     "text": [
      "Start                                     0.0\n",
      "End                                  449192.0\n",
      "Duration                             449192.0\n",
      "Exposure Time [%]                    3.513634\n",
      "Equity Final [$]                  3537.437525\n",
      "Equity Peak [$]                   3560.728758\n",
      "Return [%]                         607.487505\n",
      "Buy & Hold Return [%]               -9.143666\n",
      "Return (Ann.) [%]                         0.0\n",
      "Volatility (Ann.) [%]                     NaN\n",
      "Sharpe Ratio                              NaN\n",
      "Sortino Ratio                             NaN\n",
      "Calmar Ratio                              0.0\n",
      "Max. Drawdown [%]                   -5.786527\n",
      "Avg. Drawdown [%]                   -0.330914\n",
      "Max. Drawdown Duration                16529.0\n",
      "Avg. Drawdown Duration              469.53163\n",
      "# Trades                              10115.0\n",
      "Win Rate [%]                        55.996045\n",
      "Best Trade [%]                        0.47816\n",
      "Worst Trade [%]                     -0.433835\n",
      "Avg. Trade [%]                        0.00488\n",
      "Max. Trade Duration                       1.0\n",
      "Avg. Trade Duration                  0.891646\n",
      "Profit Factor                        1.302171\n",
      "Expectancy [%]                       0.004895\n",
      "SQN                                  8.388667\n",
      "_strategy                             MyStrat\n",
      "_equity_curve                          Equ...\n",
      "_trades                           Size  En...\n",
      "dtype: object\n",
      "Row(id='4548', ...)\n"
     ]
    },
    {
     "name": "stderr",
     "output_type": "stream",
     "text": [
      "/usr/bin/sensible-browser: 8: /mnt/c/Program: not found\n",
      "[7344:7381:0404/223504.770298:ERROR:bus.cc(397)] Failed to connect to the bus: Failed to connect to socket /var/run/dbus/system_bus_socket: No such file or directory\n",
      "[7344:7381:0404/223504.770494:ERROR:bus.cc(397)] Failed to connect to the bus: Failed to connect to socket /var/run/dbus/system_bus_socket: No such file or directory\n",
      "[7344:7380:0404/223504.775912:ERROR:bus.cc(397)] Failed to connect to the bus: Could not parse server address: Unknown address type (examples of valid types are \"tcp\" and on UNIX \"unix\")\n",
      "[7344:7380:0404/223504.776030:ERROR:bus.cc(397)] Failed to connect to the bus: Could not parse server address: Unknown address type (examples of valid types are \"tcp\" and on UNIX \"unix\")\n",
      "[7344:7380:0404/223504.788471:ERROR:bus.cc(397)] Failed to connect to the bus: Could not parse server address: Unknown address type (examples of valid types are \"tcp\" and on UNIX \"unix\")\n",
      "[7344:7380:0404/223504.788549:ERROR:bus.cc(397)] Failed to connect to the bus: Could not parse server address: Unknown address type (examples of valid types are \"tcp\" and on UNIX \"unix\")\n",
      "[7344:7380:0404/223504.844119:ERROR:bus.cc(397)] Failed to connect to the bus: Could not parse server address: Unknown address type (examples of valid types are \"tcp\" and on UNIX \"unix\")\n",
      "[7344:7380:0404/223504.844209:ERROR:bus.cc(397)] Failed to connect to the bus: Could not parse server address: Unknown address type (examples of valid types are \"tcp\" and on UNIX \"unix\")\n",
      "[7344:7448:0404/223504.957114:ERROR:bus.cc(397)] Failed to connect to the bus: Failed to connect to socket /var/run/dbus/system_bus_socket: No such file or directory\n",
      "[7344:7448:0404/223504.957207:ERROR:bus.cc(397)] Failed to connect to the bus: Failed to connect to socket /var/run/dbus/system_bus_socket: No such file or directory\n",
      "[7344:7448:0404/223504.957258:ERROR:bus.cc(397)] Failed to connect to the bus: Failed to connect to socket /var/run/dbus/system_bus_socket: No such file or directory\n",
      "[7344:7448:0404/223504.957338:ERROR:bus.cc(397)] Failed to connect to the bus: Failed to connect to socket /var/run/dbus/system_bus_socket: No such file or directory\n",
      "[7344:7448:0404/223504.957401:ERROR:bus.cc(397)] Failed to connect to the bus: Failed to connect to socket /var/run/dbus/system_bus_socket: No such file or directory\n",
      "[7387:7387:0404/223506.798464:ERROR:sandbox_linux.cc(377)] InitializeSandbox() called with multiple threads in process gpu-process.\n"
     ]
    }
   ],
   "source": [
    "class MyStrat(Strategy):\n",
    "    initsize = 0.08\n",
    "    mysize = initsize\n",
    "    ema_window = 200\n",
    "    rsi_window = 3\n",
    "    \n",
    "    def init(self):\n",
    "        super().init()\n",
    "        self.ema = self.I(TA.EMA, self.data.Close, self.ema_window)\n",
    "        self.rsi = self.I(TA.RSI, self.data.Close, self.rsi_window)        \n",
    "\n",
    "    def next(self):\n",
    "        super().next()\n",
    "        slatr = 1.2*self.data.ATR[-1]\n",
    "        TPSLRatio = 1.5\n",
    "        price = self.data.Close[-1] \n",
    "        \n",
    "        if self.position:\n",
    "            self.position.close()\n",
    "            \n",
    "        if self.data.Close >= self.ema and self.rsi <= 10:\n",
    "            sl1 = price - slatr\n",
    "            tp1 = price + slatr*TPSLRatio\n",
    "            \n",
    "            self.buy(sl=sl1, tp=tp1, size = self.mysize)\n",
    "            \n",
    "        if self.data.Close <= self.ema and self.rsi >= 90:\n",
    "            sl2 = price + slatr\n",
    "            tp2 = price - slatr*TPSLRatio\n",
    "            \n",
    "            self.sell(sl=sl2, tp=tp2, size = self.mysize)\n",
    "\n",
    "bt = Backtest(df, MyStrat, cash=500, margin=1/50, commission=.00)\n",
    "stat = bt.run()\n",
    "print(stat)\n",
    "plot = bt.plot(plot_volume=False)\n",
    "print(plot)"
   ]
  },
  {
   "cell_type": "markdown",
   "metadata": {},
   "source": [
    "OPTIMIZATION"
   ]
  },
  {
   "cell_type": "code",
   "execution_count": 9,
   "metadata": {},
   "outputs": [
    {
     "name": "stderr",
     "output_type": "stream",
     "text": [
      "/usr/bin/sensible-browser: 8: /mnt/c/Program: not found\n"
     ]
    },
    {
     "data": {
      "application/vnd.jupyter.widget-view+json": {
       "model_id": "1e9af94db3254e07a08593978bf038d1",
       "version_major": 2,
       "version_minor": 0
      },
      "text/plain": [
       "Backtest.optimize:   0%|          | 0/6 [00:00<?, ?it/s]"
      ]
     },
     "metadata": {},
     "output_type": "display_data"
    },
    {
     "name": "stderr",
     "output_type": "stream",
     "text": [
      "[1827:1870:0404/202138.039130:ERROR:bus.cc(397)] Failed to connect to the bus: Failed to connect to socket /var/run/dbus/system_bus_socket: No such file or directory\n",
      "[1827:1870:0404/202138.039316:ERROR:bus.cc(397)] Failed to connect to the bus: Failed to connect to socket /var/run/dbus/system_bus_socket: No such file or directory\n",
      "[1827:1869:0404/202138.044233:ERROR:bus.cc(397)] Failed to connect to the bus: Could not parse server address: Unknown address type (examples of valid types are \"tcp\" and on UNIX \"unix\")\n",
      "[1827:1869:0404/202138.044314:ERROR:bus.cc(397)] Failed to connect to the bus: Could not parse server address: Unknown address type (examples of valid types are \"tcp\" and on UNIX \"unix\")\n",
      "[1827:1869:0404/202138.071298:ERROR:bus.cc(397)] Failed to connect to the bus: Could not parse server address: Unknown address type (examples of valid types are \"tcp\" and on UNIX \"unix\")\n",
      "[1827:1869:0404/202138.071356:ERROR:bus.cc(397)] Failed to connect to the bus: Could not parse server address: Unknown address type (examples of valid types are \"tcp\" and on UNIX \"unix\")\n",
      "[1827:1869:0404/202138.173100:ERROR:bus.cc(397)] Failed to connect to the bus: Could not parse server address: Unknown address type (examples of valid types are \"tcp\" and on UNIX \"unix\")\n",
      "[1827:1869:0404/202138.173162:ERROR:bus.cc(397)] Failed to connect to the bus: Could not parse server address: Unknown address type (examples of valid types are \"tcp\" and on UNIX \"unix\")\n",
      "[1827:1945:0404/202138.361889:ERROR:bus.cc(397)] Failed to connect to the bus: Failed to connect to socket /var/run/dbus/system_bus_socket: No such file or directory\n",
      "[1827:1945:0404/202138.362046:ERROR:bus.cc(397)] Failed to connect to the bus: Failed to connect to socket /var/run/dbus/system_bus_socket: No such file or directory\n",
      "[1827:1945:0404/202138.362149:ERROR:bus.cc(397)] Failed to connect to the bus: Failed to connect to socket /var/run/dbus/system_bus_socket: No such file or directory\n",
      "[1827:1945:0404/202138.362238:ERROR:bus.cc(397)] Failed to connect to the bus: Failed to connect to socket /var/run/dbus/system_bus_socket: No such file or directory\n",
      "[1827:1945:0404/202138.362300:ERROR:bus.cc(397)] Failed to connect to the bus: Failed to connect to socket /var/run/dbus/system_bus_socket: No such file or directory\n",
      "[1827:1865:0404/202143.336277:ERROR:chrome_browser_main_extra_parts_metrics.cc(227)] START: ReportBluetoothAvailability(). If you don't see the END: message, this is crbug.com/1216328.\n",
      "[1827:1865:0404/202143.336344:ERROR:chrome_browser_main_extra_parts_metrics.cc(230)] END: ReportBluetoothAvailability()\n",
      "[1876:1876:0404/202148.001172:ERROR:sandbox_linux.cc(377)] InitializeSandbox() called with multiple threads in process gpu-process.\n"
     ]
    },
    {
     "name": "stdout",
     "output_type": "stream",
     "text": [
      "Start                                     0.0\n",
      "End                                   74762.0\n",
      "Duration                              74762.0\n",
      "Exposure Time [%]                   13.148215\n",
      "Equity Final [$]                  5034.860812\n",
      "Equity Peak [$]                   5509.687085\n",
      "Return [%]                         906.972162\n",
      "Buy & Hold Return [%]               -2.978043\n",
      "Return (Ann.) [%]                         0.0\n",
      "Volatility (Ann.) [%]                     NaN\n",
      "Sharpe Ratio                              NaN\n",
      "Sortino Ratio                             NaN\n",
      "Calmar Ratio                              0.0\n",
      "Max. Drawdown [%]                  -20.370547\n",
      "Avg. Drawdown [%]                   -1.094701\n",
      "Max. Drawdown Duration                 4344.0\n",
      "Avg. Drawdown Duration             179.493261\n",
      "# Trades                               6467.0\n",
      "Win Rate [%]                        52.605536\n",
      "Best Trade [%]                        0.47816\n",
      "Worst Trade [%]                     -0.215474\n",
      "Avg. Trade [%]                       0.002477\n",
      "Max. Trade Duration                       1.0\n",
      "Avg. Trade Duration                  0.901655\n",
      "Profit Factor                        1.221711\n",
      "Expectancy [%]                       0.002484\n",
      "SQN                                  3.727264\n",
      "_strategy                 MyStrat(ema_wind...\n",
      "_equity_curve                         Equi...\n",
      "_trades                          Size  Ent...\n",
      "dtype: object\n",
      "MyStrat(ema_window=200,rsi_window=2)\n"
     ]
    },
    {
     "data": {
      "text/html": [
       "<div style=\"display: table;\"><div style=\"display: table-row;\"><div style=\"display: table-cell;\"><b title=\"bokeh.models.layouts.Row\">Row</b>(</div><div style=\"display: table-cell;\">id&nbsp;=&nbsp;'2396', <span id=\"2919\" style=\"cursor: pointer;\">&hellip;)</span></div></div><div class=\"2918\" style=\"display: none;\"><div style=\"display: table-cell;\"></div><div style=\"display: table-cell;\">align&nbsp;=&nbsp;'start',</div></div><div class=\"2918\" style=\"display: none;\"><div style=\"display: table-cell;\"></div><div style=\"display: table-cell;\">aspect_ratio&nbsp;=&nbsp;None,</div></div><div class=\"2918\" style=\"display: none;\"><div style=\"display: table-cell;\"></div><div style=\"display: table-cell;\">background&nbsp;=&nbsp;None,</div></div><div class=\"2918\" style=\"display: none;\"><div style=\"display: table-cell;\"></div><div style=\"display: table-cell;\">children&nbsp;=&nbsp;[GridBox(id='2393', ...), ToolbarBox(id='2395', ...)],</div></div><div class=\"2918\" style=\"display: none;\"><div style=\"display: table-cell;\"></div><div style=\"display: table-cell;\">cols&nbsp;=&nbsp;'auto',</div></div><div class=\"2918\" style=\"display: none;\"><div style=\"display: table-cell;\"></div><div style=\"display: table-cell;\">css_classes&nbsp;=&nbsp;[],</div></div><div class=\"2918\" style=\"display: none;\"><div style=\"display: table-cell;\"></div><div style=\"display: table-cell;\">disabled&nbsp;=&nbsp;False,</div></div><div class=\"2918\" style=\"display: none;\"><div style=\"display: table-cell;\"></div><div style=\"display: table-cell;\">height&nbsp;=&nbsp;None,</div></div><div class=\"2918\" style=\"display: none;\"><div style=\"display: table-cell;\"></div><div style=\"display: table-cell;\">height_policy&nbsp;=&nbsp;'auto',</div></div><div class=\"2918\" style=\"display: none;\"><div style=\"display: table-cell;\"></div><div style=\"display: table-cell;\">js_event_callbacks&nbsp;=&nbsp;{},</div></div><div class=\"2918\" style=\"display: none;\"><div style=\"display: table-cell;\"></div><div style=\"display: table-cell;\">js_property_callbacks&nbsp;=&nbsp;{},</div></div><div class=\"2918\" style=\"display: none;\"><div style=\"display: table-cell;\"></div><div style=\"display: table-cell;\">margin&nbsp;=&nbsp;(0, 0, 0, 0),</div></div><div class=\"2918\" style=\"display: none;\"><div style=\"display: table-cell;\"></div><div style=\"display: table-cell;\">max_height&nbsp;=&nbsp;None,</div></div><div class=\"2918\" style=\"display: none;\"><div style=\"display: table-cell;\"></div><div style=\"display: table-cell;\">max_width&nbsp;=&nbsp;None,</div></div><div class=\"2918\" style=\"display: none;\"><div style=\"display: table-cell;\"></div><div style=\"display: table-cell;\">min_height&nbsp;=&nbsp;None,</div></div><div class=\"2918\" style=\"display: none;\"><div style=\"display: table-cell;\"></div><div style=\"display: table-cell;\">min_width&nbsp;=&nbsp;None,</div></div><div class=\"2918\" style=\"display: none;\"><div style=\"display: table-cell;\"></div><div style=\"display: table-cell;\">name&nbsp;=&nbsp;None,</div></div><div class=\"2918\" style=\"display: none;\"><div style=\"display: table-cell;\"></div><div style=\"display: table-cell;\">sizing_mode&nbsp;=&nbsp;'stretch_width',</div></div><div class=\"2918\" style=\"display: none;\"><div style=\"display: table-cell;\"></div><div style=\"display: table-cell;\">spacing&nbsp;=&nbsp;0,</div></div><div class=\"2918\" style=\"display: none;\"><div style=\"display: table-cell;\"></div><div style=\"display: table-cell;\">subscribed_events&nbsp;=&nbsp;[],</div></div><div class=\"2918\" style=\"display: none;\"><div style=\"display: table-cell;\"></div><div style=\"display: table-cell;\">syncable&nbsp;=&nbsp;True,</div></div><div class=\"2918\" style=\"display: none;\"><div style=\"display: table-cell;\"></div><div style=\"display: table-cell;\">tags&nbsp;=&nbsp;[],</div></div><div class=\"2918\" style=\"display: none;\"><div style=\"display: table-cell;\"></div><div style=\"display: table-cell;\">visible&nbsp;=&nbsp;True,</div></div><div class=\"2918\" style=\"display: none;\"><div style=\"display: table-cell;\"></div><div style=\"display: table-cell;\">width&nbsp;=&nbsp;None,</div></div><div class=\"2918\" style=\"display: none;\"><div style=\"display: table-cell;\"></div><div style=\"display: table-cell;\">width_policy&nbsp;=&nbsp;'auto')</div></div></div>\n",
       "<script>\n",
       "(function() {\n",
       "  let expanded = false;\n",
       "  const ellipsis = document.getElementById(\"2919\");\n",
       "  ellipsis.addEventListener(\"click\", function() {\n",
       "    const rows = document.getElementsByClassName(\"2918\");\n",
       "    for (let i = 0; i < rows.length; i++) {\n",
       "      const el = rows[i];\n",
       "      el.style.display = expanded ? \"none\" : \"table-row\";\n",
       "    }\n",
       "    ellipsis.innerHTML = expanded ? \"&hellip;)\" : \"&lsaquo;&lsaquo;&lsaquo;\";\n",
       "    expanded = !expanded;\n",
       "  });\n",
       "})();\n",
       "</script>\n"
      ],
      "text/plain": [
       "Row(id='2396', ...)"
      ]
     },
     "execution_count": 9,
     "metadata": {},
     "output_type": "execute_result"
    },
    {
     "name": "stderr",
     "output_type": "stream",
     "text": [
      "/usr/bin/sensible-browser: 8: /mnt/c/Program: not found\n",
      "[2201:2238:0404/202203.415737:ERROR:bus.cc(397)] Failed to connect to the bus: Failed to connect to socket /var/run/dbus/system_bus_socket: No such file or directory\n",
      "[2201:2238:0404/202203.415976:ERROR:bus.cc(397)] Failed to connect to the bus: Failed to connect to socket /var/run/dbus/system_bus_socket: No such file or directory\n",
      "[2201:2237:0404/202203.421480:ERROR:bus.cc(397)] Failed to connect to the bus: Could not parse server address: Unknown address type (examples of valid types are \"tcp\" and on UNIX \"unix\")\n",
      "[2201:2237:0404/202203.421550:ERROR:bus.cc(397)] Failed to connect to the bus: Could not parse server address: Unknown address type (examples of valid types are \"tcp\" and on UNIX \"unix\")\n",
      "[2201:2237:0404/202203.435965:ERROR:bus.cc(397)] Failed to connect to the bus: Could not parse server address: Unknown address type (examples of valid types are \"tcp\" and on UNIX \"unix\")\n",
      "[2201:2237:0404/202203.436046:ERROR:bus.cc(397)] Failed to connect to the bus: Could not parse server address: Unknown address type (examples of valid types are \"tcp\" and on UNIX \"unix\")\n",
      "[2201:2237:0404/202203.483318:ERROR:bus.cc(397)] Failed to connect to the bus: Could not parse server address: Unknown address type (examples of valid types are \"tcp\" and on UNIX \"unix\")\n",
      "[2201:2237:0404/202203.483378:ERROR:bus.cc(397)] Failed to connect to the bus: Could not parse server address: Unknown address type (examples of valid types are \"tcp\" and on UNIX \"unix\")\n",
      "[2201:2313:0404/202203.607342:ERROR:bus.cc(397)] Failed to connect to the bus: Failed to connect to socket /var/run/dbus/system_bus_socket: No such file or directory\n",
      "[2201:2313:0404/202203.607462:ERROR:bus.cc(397)] Failed to connect to the bus: Failed to connect to socket /var/run/dbus/system_bus_socket: No such file or directory\n",
      "[2201:2313:0404/202203.607520:ERROR:bus.cc(397)] Failed to connect to the bus: Failed to connect to socket /var/run/dbus/system_bus_socket: No such file or directory\n",
      "[2201:2313:0404/202203.607601:ERROR:bus.cc(397)] Failed to connect to the bus: Failed to connect to socket /var/run/dbus/system_bus_socket: No such file or directory\n",
      "[2201:2313:0404/202203.607853:ERROR:bus.cc(397)] Failed to connect to the bus: Failed to connect to socket /var/run/dbus/system_bus_socket: No such file or directory\n",
      "[2244:2244:0404/202205.699925:ERROR:sandbox_linux.cc(377)] InitializeSandbox() called with multiple threads in process gpu-process.\n",
      "[2201:2263:0404/202212.578169:ERROR:chrome_browser_main_extra_parts_metrics.cc(227)] START: ReportBluetoothAvailability(). If you don't see the END: message, this is crbug.com/1216328.\n",
      "[2201:2263:0404/202212.578227:ERROR:chrome_browser_main_extra_parts_metrics.cc(230)] END: ReportBluetoothAvailability()\n"
     ]
    }
   ],
   "source": [
    "stats = bt.optimize(\n",
    "    ema_window = [50, 200],\n",
    "    rsi_window = range(2, 4),\n",
    "    maximize = 'Equity Final [$]',\n",
    ")\n",
    "print(stats)\n",
    "print(stats._strategy)\n",
    "bt.plot(plot_volume=False, plot_pl=False)"
   ]
  },
  {
   "cell_type": "code",
   "execution_count": null,
   "metadata": {},
   "outputs": [],
   "source": []
  }
 ],
 "metadata": {
  "interpreter": {
   "hash": "d5bf52178c2f6b385ff01200ba56c20879e9f5bf036653deba3ae3a93ee7aba2"
  },
  "kernelspec": {
   "display_name": "Python 3.9.7 ('TRADING')",
   "language": "python",
   "name": "python3"
  },
  "language_info": {
   "codemirror_mode": {
    "name": "ipython",
    "version": 3
   },
   "file_extension": ".py",
   "mimetype": "text/x-python",
   "name": "python",
   "nbconvert_exporter": "python",
   "pygments_lexer": "ipython3",
   "version": "3.9.7"
  },
  "orig_nbformat": 4
 },
 "nbformat": 4,
 "nbformat_minor": 2
}
