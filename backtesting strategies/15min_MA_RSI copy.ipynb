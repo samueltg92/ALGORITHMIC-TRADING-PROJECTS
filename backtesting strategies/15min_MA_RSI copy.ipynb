{
 "cells": [
  {
   "cell_type": "code",
   "execution_count": 3,
   "metadata": {},
   "outputs": [],
   "source": [
    "import pandas as pd\n",
    "import talib as TA\n",
    "import pandas_ta as ta\n",
    "from backtesting import Strategy, Backtest"
   ]
  },
  {
   "cell_type": "markdown",
   "metadata": {},
   "source": [
    "READ & CLEAN THE DATA SET"
   ]
  },
  {
   "cell_type": "code",
   "execution_count": 2,
   "metadata": {},
   "outputs": [
    {
     "data": {
      "text/html": [
       "<div>\n",
       "<style scoped>\n",
       "    .dataframe tbody tr th:only-of-type {\n",
       "        vertical-align: middle;\n",
       "    }\n",
       "\n",
       "    .dataframe tbody tr th {\n",
       "        vertical-align: top;\n",
       "    }\n",
       "\n",
       "    .dataframe thead th {\n",
       "        text-align: right;\n",
       "    }\n",
       "</style>\n",
       "<table border=\"1\" class=\"dataframe\">\n",
       "  <thead>\n",
       "    <tr style=\"text-align: right;\">\n",
       "      <th></th>\n",
       "      <th>Local time</th>\n",
       "      <th>Open</th>\n",
       "      <th>High</th>\n",
       "      <th>Low</th>\n",
       "      <th>Close</th>\n",
       "      <th>Volume</th>\n",
       "    </tr>\n",
       "  </thead>\n",
       "  <tbody>\n",
       "    <tr>\n",
       "      <th>74758</th>\n",
       "      <td>30.01.2022 22:45:00.000 GMT-0500</td>\n",
       "      <td>1.11619</td>\n",
       "      <td>1.11629</td>\n",
       "      <td>1.11607</td>\n",
       "      <td>1.11608</td>\n",
       "      <td>709.03</td>\n",
       "    </tr>\n",
       "    <tr>\n",
       "      <th>74759</th>\n",
       "      <td>30.01.2022 23:00:00.000 GMT-0500</td>\n",
       "      <td>1.11609</td>\n",
       "      <td>1.11634</td>\n",
       "      <td>1.11602</td>\n",
       "      <td>1.11607</td>\n",
       "      <td>377.49</td>\n",
       "    </tr>\n",
       "    <tr>\n",
       "      <th>74760</th>\n",
       "      <td>30.01.2022 23:15:00.000 GMT-0500</td>\n",
       "      <td>1.11606</td>\n",
       "      <td>1.11621</td>\n",
       "      <td>1.11603</td>\n",
       "      <td>1.11615</td>\n",
       "      <td>267.24</td>\n",
       "    </tr>\n",
       "    <tr>\n",
       "      <th>74761</th>\n",
       "      <td>30.01.2022 23:30:00.000 GMT-0500</td>\n",
       "      <td>1.11614</td>\n",
       "      <td>1.11636</td>\n",
       "      <td>1.11608</td>\n",
       "      <td>1.11633</td>\n",
       "      <td>261.17</td>\n",
       "    </tr>\n",
       "    <tr>\n",
       "      <th>74762</th>\n",
       "      <td>30.01.2022 23:45:00.000 GMT-0500</td>\n",
       "      <td>1.11632</td>\n",
       "      <td>1.11636</td>\n",
       "      <td>1.11616</td>\n",
       "      <td>1.11616</td>\n",
       "      <td>242.71</td>\n",
       "    </tr>\n",
       "  </tbody>\n",
       "</table>\n",
       "</div>"
      ],
      "text/plain": [
       "                             Local time     Open     High      Low    Close  \\\n",
       "74758  30.01.2022 22:45:00.000 GMT-0500  1.11619  1.11629  1.11607  1.11608   \n",
       "74759  30.01.2022 23:00:00.000 GMT-0500  1.11609  1.11634  1.11602  1.11607   \n",
       "74760  30.01.2022 23:15:00.000 GMT-0500  1.11606  1.11621  1.11603  1.11615   \n",
       "74761  30.01.2022 23:30:00.000 GMT-0500  1.11614  1.11636  1.11608  1.11633   \n",
       "74762  30.01.2022 23:45:00.000 GMT-0500  1.11632  1.11636  1.11616  1.11616   \n",
       "\n",
       "       Volume  \n",
       "74758  709.03  \n",
       "74759  377.49  \n",
       "74760  267.24  \n",
       "74761  261.17  \n",
       "74762  242.71  "
      ]
     },
     "execution_count": 2,
     "metadata": {},
     "output_type": "execute_result"
    }
   ],
   "source": [
    "df = pd.read_csv('data_sets/data_set_EURUSD_Candlestick_15_M_BID_31.01.2019-30.01.2022.csv')\n",
    "df = df[df['Volume']!=0]\n",
    "df.isna().sum()\n",
    "df.reset_index(drop=True, inplace=True)\n",
    "df.tail()"
   ]
  },
  {
   "cell_type": "markdown",
   "metadata": {},
   "source": [
    "CALCULATION OF ATR"
   ]
  },
  {
   "cell_type": "code",
   "execution_count": 4,
   "metadata": {},
   "outputs": [
    {
     "data": {
      "text/html": [
       "<div>\n",
       "<style scoped>\n",
       "    .dataframe tbody tr th:only-of-type {\n",
       "        vertical-align: middle;\n",
       "    }\n",
       "\n",
       "    .dataframe tbody tr th {\n",
       "        vertical-align: top;\n",
       "    }\n",
       "\n",
       "    .dataframe thead th {\n",
       "        text-align: right;\n",
       "    }\n",
       "</style>\n",
       "<table border=\"1\" class=\"dataframe\">\n",
       "  <thead>\n",
       "    <tr style=\"text-align: right;\">\n",
       "      <th></th>\n",
       "      <th>Local time</th>\n",
       "      <th>Open</th>\n",
       "      <th>High</th>\n",
       "      <th>Low</th>\n",
       "      <th>Close</th>\n",
       "      <th>Volume</th>\n",
       "      <th>ATR</th>\n",
       "    </tr>\n",
       "  </thead>\n",
       "  <tbody>\n",
       "    <tr>\n",
       "      <th>74758</th>\n",
       "      <td>30.01.2022 22:45:00.000 GMT-0500</td>\n",
       "      <td>1.11619</td>\n",
       "      <td>1.11629</td>\n",
       "      <td>1.11607</td>\n",
       "      <td>1.11608</td>\n",
       "      <td>709.03</td>\n",
       "      <td>0.000465</td>\n",
       "    </tr>\n",
       "    <tr>\n",
       "      <th>74759</th>\n",
       "      <td>30.01.2022 23:00:00.000 GMT-0500</td>\n",
       "      <td>1.11609</td>\n",
       "      <td>1.11634</td>\n",
       "      <td>1.11602</td>\n",
       "      <td>1.11607</td>\n",
       "      <td>377.49</td>\n",
       "      <td>0.000455</td>\n",
       "    </tr>\n",
       "    <tr>\n",
       "      <th>74760</th>\n",
       "      <td>30.01.2022 23:15:00.000 GMT-0500</td>\n",
       "      <td>1.11606</td>\n",
       "      <td>1.11621</td>\n",
       "      <td>1.11603</td>\n",
       "      <td>1.11615</td>\n",
       "      <td>267.24</td>\n",
       "      <td>0.000435</td>\n",
       "    </tr>\n",
       "    <tr>\n",
       "      <th>74761</th>\n",
       "      <td>30.01.2022 23:30:00.000 GMT-0500</td>\n",
       "      <td>1.11614</td>\n",
       "      <td>1.11636</td>\n",
       "      <td>1.11608</td>\n",
       "      <td>1.11633</td>\n",
       "      <td>261.17</td>\n",
       "      <td>0.000424</td>\n",
       "    </tr>\n",
       "    <tr>\n",
       "      <th>74762</th>\n",
       "      <td>30.01.2022 23:45:00.000 GMT-0500</td>\n",
       "      <td>1.11632</td>\n",
       "      <td>1.11636</td>\n",
       "      <td>1.11616</td>\n",
       "      <td>1.11616</td>\n",
       "      <td>242.71</td>\n",
       "      <td>0.000408</td>\n",
       "    </tr>\n",
       "  </tbody>\n",
       "</table>\n",
       "</div>"
      ],
      "text/plain": [
       "                             Local time     Open     High      Low    Close  \\\n",
       "74758  30.01.2022 22:45:00.000 GMT-0500  1.11619  1.11629  1.11607  1.11608   \n",
       "74759  30.01.2022 23:00:00.000 GMT-0500  1.11609  1.11634  1.11602  1.11607   \n",
       "74760  30.01.2022 23:15:00.000 GMT-0500  1.11606  1.11621  1.11603  1.11615   \n",
       "74761  30.01.2022 23:30:00.000 GMT-0500  1.11614  1.11636  1.11608  1.11633   \n",
       "74762  30.01.2022 23:45:00.000 GMT-0500  1.11632  1.11636  1.11616  1.11616   \n",
       "\n",
       "       Volume       ATR  \n",
       "74758  709.03  0.000465  \n",
       "74759  377.49  0.000455  \n",
       "74760  267.24  0.000435  \n",
       "74761  261.17  0.000424  \n",
       "74762  242.71  0.000408  "
      ]
     },
     "execution_count": 4,
     "metadata": {},
     "output_type": "execute_result"
    }
   ],
   "source": [
    "df['ATR']= df.ta.atr()\n",
    "df.tail()"
   ]
  },
  {
   "cell_type": "markdown",
   "metadata": {},
   "source": [
    "BACKTEST ATR RELATED SL&TP"
   ]
  },
  {
   "cell_type": "code",
   "execution_count": 5,
   "metadata": {},
   "outputs": [
    {
     "name": "stderr",
     "output_type": "stream",
     "text": [
      "/tmp/ipykernel_16775/3536457354.py:35: UserWarning: Data index is not datetime. Assuming simple periods, but `pd.DateTimeIndex` is advised.\n",
      "  bt = Backtest(df, MyStrat, cash=500, margin=1/50, commission=.00)\n"
     ]
    },
    {
     "data": {
      "text/plain": [
       "Start                                     0.0\n",
       "End                                   74762.0\n",
       "Duration                              74762.0\n",
       "Exposure Time [%]                    3.865548\n",
       "Equity Final [$]                   1275.11767\n",
       "Equity Peak [$]                   1310.613895\n",
       "Return [%]                         155.023534\n",
       "Buy & Hold Return [%]               -2.978043\n",
       "Return (Ann.) [%]                         0.0\n",
       "Volatility (Ann.) [%]                     NaN\n",
       "Sharpe Ratio                              NaN\n",
       "Sortino Ratio                             NaN\n",
       "Calmar Ratio                              0.0\n",
       "Max. Drawdown [%]                  -12.285725\n",
       "Avg. Drawdown [%]                   -0.903907\n",
       "Max. Drawdown Duration                13869.0\n",
       "Avg. Drawdown Duration             459.985612\n",
       "# Trades                               1888.0\n",
       "Win Rate [%]                         54.07839\n",
       "Best Trade [%]                        0.47816\n",
       "Worst Trade [%]                     -0.186084\n",
       "Avg. Trade [%]                       0.003401\n",
       "Max. Trade Duration                       1.0\n",
       "Avg. Trade Duration                  0.889831\n",
       "Profit Factor                        1.319199\n",
       "Expectancy [%]                       0.003408\n",
       "SQN                                  3.316199\n",
       "_strategy                             MyStrat\n",
       "_equity_curve                        Equit...\n",
       "_trades                          Size  Ent...\n",
       "dtype: object"
      ]
     },
     "execution_count": 5,
     "metadata": {},
     "output_type": "execute_result"
    }
   ],
   "source": [
    "class MyStrat(Strategy):\n",
    "    initsize = 0.3\n",
    "    mysize = initsize\n",
    "    ema_window = 200\n",
    "    rsi_window = 3\n",
    "    atr_window = 14\n",
    "    \n",
    "    def init(self):\n",
    "        super().init()\n",
    "        self.ema = self.I(TA.EMA, self.data.Close, self.ema_window)\n",
    "        self.rsi = self.I(TA.RSI, self.data.Close, self.rsi_window)\n",
    "        self.atr = self.I(TA.ATR, self.data.High, self.data.Low, self.data.Close, self.atr_window)        \n",
    "\n",
    "    def next(self):\n",
    "        super().next()\n",
    "        slatr = 1.2*self.data.ATR[-1]\n",
    "        TPSLRatio = 1.5\n",
    "        price = self.data.Close[-1] \n",
    "        \n",
    "        if self.position:\n",
    "            self.position.close()\n",
    "            \n",
    "        if self.data.Close >= self.ema and self.rsi <= 10:\n",
    "            sl1 = price - slatr\n",
    "            tp1 = price + slatr*TPSLRatio\n",
    "            \n",
    "            self.buy(sl=sl1, tp=tp1, size = self.mysize)\n",
    "            \n",
    "        if self.data.Close <= self.ema and self.rsi >= 90:\n",
    "            sl2 = price + slatr\n",
    "            tp2 = price - slatr*TPSLRatio\n",
    "            \n",
    "            self.sell(sl=sl2, tp=tp2, size = self.mysize)\n",
    "\n",
    "bt = Backtest(df, MyStrat, cash=500, margin=1/50, commission=.00)\n",
    "stat = bt.run()\n",
    "stat"
   ]
  },
  {
   "cell_type": "markdown",
   "metadata": {},
   "source": [
    "OPTIMIZATION"
   ]
  },
  {
   "cell_type": "code",
   "execution_count": 6,
   "metadata": {},
   "outputs": [
    {
     "name": "stderr",
     "output_type": "stream",
     "text": [
      "/home/samueltg92/miniconda3/envs/TRADING/lib/python3.9/site-packages/backtesting/backtesting.py:1488: UserWarning: Searching for best of 1200 configurations.\n",
      "  output = _optimize_grid()\n"
     ]
    },
    {
     "data": {
      "application/vnd.jupyter.widget-view+json": {
       "model_id": "484d71b82e7d4d96a89206772d63dd18",
       "version_major": 2,
       "version_minor": 0
      },
      "text/plain": [
       "Backtest.optimize:   0%|          | 0/12 [00:00<?, ?it/s]"
      ]
     },
     "metadata": {},
     "output_type": "display_data"
    }
   ],
   "source": [
    "stats = bt.optimize(\n",
    "    ema_window = range(50, 200),\n",
    "    rsi_window = range(2, 10),\n",
    "    maximize = 'Equity Final [$]',\n",
    ")\n",
    "print(stats)\n",
    "print(stats._MARSI)\n",
    "print(stats._strategy)"
   ]
  },
  {
   "cell_type": "code",
   "execution_count": null,
   "metadata": {},
   "outputs": [],
   "source": []
  }
 ],
 "metadata": {
  "interpreter": {
   "hash": "d5bf52178c2f6b385ff01200ba56c20879e9f5bf036653deba3ae3a93ee7aba2"
  },
  "kernelspec": {
   "display_name": "Python 3.9.7 ('TRADING')",
   "language": "python",
   "name": "python3"
  },
  "language_info": {
   "codemirror_mode": {
    "name": "ipython",
    "version": 3
   },
   "file_extension": ".py",
   "mimetype": "text/x-python",
   "name": "python",
   "nbconvert_exporter": "python",
   "pygments_lexer": "ipython3",
   "version": "3.9.7"
  },
  "orig_nbformat": 4
 },
 "nbformat": 4,
 "nbformat_minor": 2
}
