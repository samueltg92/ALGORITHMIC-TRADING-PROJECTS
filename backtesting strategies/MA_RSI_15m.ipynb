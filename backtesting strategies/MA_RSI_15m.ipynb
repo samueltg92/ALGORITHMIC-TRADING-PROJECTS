{
 "cells": [
  {
   "cell_type": "code",
   "execution_count": 8,
   "metadata": {},
   "outputs": [],
   "source": [
    "import pandas as pd\n",
    "import talib as TA\n",
    "import pandas_ta as ta\n",
    "from backtesting import Strategy, Backtest"
   ]
  },
  {
   "cell_type": "code",
   "execution_count": null,
   "metadata": {},
   "outputs": [],
   "source": [
    "'''\n",
    "This strategy takes into account RSI for entry signals and a exponential moving average for trend detection.\n",
    "is intended to be used with a 15m timeframe, but can be used with any timeframe, just test it out.\n",
    "The backtest is done with backtesting.py and is intended to throw the results from it, the results are going to be optimized.\n",
    "'''"
   ]
  },
  {
   "cell_type": "markdown",
   "metadata": {},
   "source": [
    "READ & CLEAN THE DATA SET"
   ]
  },
  {
   "cell_type": "code",
   "execution_count": 9,
   "metadata": {},
   "outputs": [
    {
     "data": {
      "text/html": [
       "<div>\n",
       "<style scoped>\n",
       "    .dataframe tbody tr th:only-of-type {\n",
       "        vertical-align: middle;\n",
       "    }\n",
       "\n",
       "    .dataframe tbody tr th {\n",
       "        vertical-align: top;\n",
       "    }\n",
       "\n",
       "    .dataframe thead th {\n",
       "        text-align: right;\n",
       "    }\n",
       "</style>\n",
       "<table border=\"1\" class=\"dataframe\">\n",
       "  <thead>\n",
       "    <tr style=\"text-align: right;\">\n",
       "      <th></th>\n",
       "      <th>Local time</th>\n",
       "      <th>Open</th>\n",
       "      <th>High</th>\n",
       "      <th>Low</th>\n",
       "      <th>Close</th>\n",
       "      <th>Volume</th>\n",
       "    </tr>\n",
       "  </thead>\n",
       "  <tbody>\n",
       "    <tr>\n",
       "      <th>74758</th>\n",
       "      <td>30.01.2022 22:45:00.000 GMT-0500</td>\n",
       "      <td>1.11619</td>\n",
       "      <td>1.11629</td>\n",
       "      <td>1.11607</td>\n",
       "      <td>1.11608</td>\n",
       "      <td>709.03</td>\n",
       "    </tr>\n",
       "    <tr>\n",
       "      <th>74759</th>\n",
       "      <td>30.01.2022 23:00:00.000 GMT-0500</td>\n",
       "      <td>1.11609</td>\n",
       "      <td>1.11634</td>\n",
       "      <td>1.11602</td>\n",
       "      <td>1.11607</td>\n",
       "      <td>377.49</td>\n",
       "    </tr>\n",
       "    <tr>\n",
       "      <th>74760</th>\n",
       "      <td>30.01.2022 23:15:00.000 GMT-0500</td>\n",
       "      <td>1.11606</td>\n",
       "      <td>1.11621</td>\n",
       "      <td>1.11603</td>\n",
       "      <td>1.11615</td>\n",
       "      <td>267.24</td>\n",
       "    </tr>\n",
       "    <tr>\n",
       "      <th>74761</th>\n",
       "      <td>30.01.2022 23:30:00.000 GMT-0500</td>\n",
       "      <td>1.11614</td>\n",
       "      <td>1.11636</td>\n",
       "      <td>1.11608</td>\n",
       "      <td>1.11633</td>\n",
       "      <td>261.17</td>\n",
       "    </tr>\n",
       "    <tr>\n",
       "      <th>74762</th>\n",
       "      <td>30.01.2022 23:45:00.000 GMT-0500</td>\n",
       "      <td>1.11632</td>\n",
       "      <td>1.11636</td>\n",
       "      <td>1.11616</td>\n",
       "      <td>1.11616</td>\n",
       "      <td>242.71</td>\n",
       "    </tr>\n",
       "  </tbody>\n",
       "</table>\n",
       "</div>"
      ],
      "text/plain": [
       "                             Local time     Open     High      Low    Close  \\\n",
       "74758  30.01.2022 22:45:00.000 GMT-0500  1.11619  1.11629  1.11607  1.11608   \n",
       "74759  30.01.2022 23:00:00.000 GMT-0500  1.11609  1.11634  1.11602  1.11607   \n",
       "74760  30.01.2022 23:15:00.000 GMT-0500  1.11606  1.11621  1.11603  1.11615   \n",
       "74761  30.01.2022 23:30:00.000 GMT-0500  1.11614  1.11636  1.11608  1.11633   \n",
       "74762  30.01.2022 23:45:00.000 GMT-0500  1.11632  1.11636  1.11616  1.11616   \n",
       "\n",
       "       Volume  \n",
       "74758  709.03  \n",
       "74759  377.49  \n",
       "74760  267.24  \n",
       "74761  261.17  \n",
       "74762  242.71  "
      ]
     },
     "execution_count": 9,
     "metadata": {},
     "output_type": "execute_result"
    }
   ],
   "source": [
    "df = pd.read_csv('data_sets/data_set_EURUSD_Candlestick_15_M_BID_31.01.2019-30.01.2022.csv')\n",
    "df = df[df['Volume']!=0]\n",
    "df.isna().sum()\n",
    "df.reset_index(drop=True, inplace=True)\n",
    "df.tail()"
   ]
  },
  {
   "cell_type": "markdown",
   "metadata": {},
   "source": [
    "CALCULATION OF ATR"
   ]
  },
  {
   "cell_type": "code",
   "execution_count": 10,
   "metadata": {},
   "outputs": [
    {
     "data": {
      "text/html": [
       "<div>\n",
       "<style scoped>\n",
       "    .dataframe tbody tr th:only-of-type {\n",
       "        vertical-align: middle;\n",
       "    }\n",
       "\n",
       "    .dataframe tbody tr th {\n",
       "        vertical-align: top;\n",
       "    }\n",
       "\n",
       "    .dataframe thead th {\n",
       "        text-align: right;\n",
       "    }\n",
       "</style>\n",
       "<table border=\"1\" class=\"dataframe\">\n",
       "  <thead>\n",
       "    <tr style=\"text-align: right;\">\n",
       "      <th></th>\n",
       "      <th>Local time</th>\n",
       "      <th>Open</th>\n",
       "      <th>High</th>\n",
       "      <th>Low</th>\n",
       "      <th>Close</th>\n",
       "      <th>Volume</th>\n",
       "      <th>ATR</th>\n",
       "    </tr>\n",
       "  </thead>\n",
       "  <tbody>\n",
       "    <tr>\n",
       "      <th>74758</th>\n",
       "      <td>30.01.2022 22:45:00.000 GMT-0500</td>\n",
       "      <td>1.11619</td>\n",
       "      <td>1.11629</td>\n",
       "      <td>1.11607</td>\n",
       "      <td>1.11608</td>\n",
       "      <td>709.03</td>\n",
       "      <td>0.000465</td>\n",
       "    </tr>\n",
       "    <tr>\n",
       "      <th>74759</th>\n",
       "      <td>30.01.2022 23:00:00.000 GMT-0500</td>\n",
       "      <td>1.11609</td>\n",
       "      <td>1.11634</td>\n",
       "      <td>1.11602</td>\n",
       "      <td>1.11607</td>\n",
       "      <td>377.49</td>\n",
       "      <td>0.000455</td>\n",
       "    </tr>\n",
       "    <tr>\n",
       "      <th>74760</th>\n",
       "      <td>30.01.2022 23:15:00.000 GMT-0500</td>\n",
       "      <td>1.11606</td>\n",
       "      <td>1.11621</td>\n",
       "      <td>1.11603</td>\n",
       "      <td>1.11615</td>\n",
       "      <td>267.24</td>\n",
       "      <td>0.000435</td>\n",
       "    </tr>\n",
       "    <tr>\n",
       "      <th>74761</th>\n",
       "      <td>30.01.2022 23:30:00.000 GMT-0500</td>\n",
       "      <td>1.11614</td>\n",
       "      <td>1.11636</td>\n",
       "      <td>1.11608</td>\n",
       "      <td>1.11633</td>\n",
       "      <td>261.17</td>\n",
       "      <td>0.000424</td>\n",
       "    </tr>\n",
       "    <tr>\n",
       "      <th>74762</th>\n",
       "      <td>30.01.2022 23:45:00.000 GMT-0500</td>\n",
       "      <td>1.11632</td>\n",
       "      <td>1.11636</td>\n",
       "      <td>1.11616</td>\n",
       "      <td>1.11616</td>\n",
       "      <td>242.71</td>\n",
       "      <td>0.000408</td>\n",
       "    </tr>\n",
       "  </tbody>\n",
       "</table>\n",
       "</div>"
      ],
      "text/plain": [
       "                             Local time     Open     High      Low    Close  \\\n",
       "74758  30.01.2022 22:45:00.000 GMT-0500  1.11619  1.11629  1.11607  1.11608   \n",
       "74759  30.01.2022 23:00:00.000 GMT-0500  1.11609  1.11634  1.11602  1.11607   \n",
       "74760  30.01.2022 23:15:00.000 GMT-0500  1.11606  1.11621  1.11603  1.11615   \n",
       "74761  30.01.2022 23:30:00.000 GMT-0500  1.11614  1.11636  1.11608  1.11633   \n",
       "74762  30.01.2022 23:45:00.000 GMT-0500  1.11632  1.11636  1.11616  1.11616   \n",
       "\n",
       "       Volume       ATR  \n",
       "74758  709.03  0.000465  \n",
       "74759  377.49  0.000455  \n",
       "74760  267.24  0.000435  \n",
       "74761  261.17  0.000424  \n",
       "74762  242.71  0.000408  "
      ]
     },
     "execution_count": 10,
     "metadata": {},
     "output_type": "execute_result"
    }
   ],
   "source": [
    "df['ATR']= df.ta.atr()\n",
    "df.tail()"
   ]
  },
  {
   "cell_type": "markdown",
   "metadata": {},
   "source": [
    "BACKTEST ATR RELATED SL&TP"
   ]
  },
  {
   "cell_type": "code",
   "execution_count": 11,
   "metadata": {},
   "outputs": [
    {
     "name": "stderr",
     "output_type": "stream",
     "text": [
      "/tmp/ipykernel_18003/848740784.py:33: UserWarning: Data index is not datetime. Assuming simple periods, but `pd.DateTimeIndex` is advised.\n",
      "  bt = Backtest(df, MyStrat, cash=500, margin=1/50, commission=.00)\n"
     ]
    },
    {
     "name": "stdout",
     "output_type": "stream",
     "text": [
      "Start                                     0.0\n",
      "End                                   74762.0\n",
      "Duration                              74762.0\n",
      "Exposure Time [%]                    3.865548\n",
      "Equity Final [$]                   1275.11767\n",
      "Equity Peak [$]                   1310.613895\n",
      "Return [%]                         155.023534\n",
      "Buy & Hold Return [%]               -2.978043\n",
      "Return (Ann.) [%]                         0.0\n",
      "Volatility (Ann.) [%]                     NaN\n",
      "Sharpe Ratio                              NaN\n",
      "Sortino Ratio                             NaN\n",
      "Calmar Ratio                              0.0\n",
      "Max. Drawdown [%]                  -12.285725\n",
      "Avg. Drawdown [%]                   -0.903907\n",
      "Max. Drawdown Duration                13869.0\n",
      "Avg. Drawdown Duration             459.985612\n",
      "# Trades                               1888.0\n",
      "Win Rate [%]                         54.07839\n",
      "Best Trade [%]                        0.47816\n",
      "Worst Trade [%]                     -0.186084\n",
      "Avg. Trade [%]                       0.003401\n",
      "Max. Trade Duration                       1.0\n",
      "Avg. Trade Duration                  0.889831\n",
      "Profit Factor                        1.319199\n",
      "Expectancy [%]                       0.003408\n",
      "SQN                                  3.316199\n",
      "_strategy                             MyStrat\n",
      "_equity_curve                        Equit...\n",
      "_trades                          Size  Ent...\n",
      "dtype: object\n",
      "Row(id='1419', ...)\n"
     ]
    }
   ],
   "source": [
    "class MyStrat(Strategy):\n",
    "    initsize = 0.3\n",
    "    mysize = initsize\n",
    "    ema_window = 200\n",
    "    rsi_window = 3\n",
    "    \n",
    "    def init(self):\n",
    "        super().init()\n",
    "        self.ema = self.I(TA.EMA, self.data.Close, self.ema_window)\n",
    "        self.rsi = self.I(TA.RSI, self.data.Close, self.rsi_window)        \n",
    "\n",
    "    def next(self):\n",
    "        super().next()\n",
    "        slatr = 1.2*self.data.ATR[-1]\n",
    "        TPSLRatio = 1.5\n",
    "        price = self.data.Close[-1] \n",
    "        \n",
    "        if self.position:\n",
    "            self.position.close()\n",
    "            \n",
    "        if self.data.Close >= self.ema and self.rsi <= 10:\n",
    "            sl1 = price - slatr\n",
    "            tp1 = price + slatr*TPSLRatio\n",
    "            \n",
    "            self.buy(sl=sl1, tp=tp1, size = self.mysize)\n",
    "            \n",
    "        if self.data.Close <= self.ema and self.rsi >= 90:\n",
    "            sl2 = price + slatr\n",
    "            tp2 = price - slatr*TPSLRatio\n",
    "            \n",
    "            self.sell(sl=sl2, tp=tp2, size = self.mysize)\n",
    "\n",
    "bt = Backtest(df, MyStrat, cash=500, margin=1/50, commission=.00)\n",
    "stat = bt.run()\n",
    "print(stat)\n",
    "plot = bt.plot(plot_volume=False)\n",
    "print(plot)"
   ]
  },
  {
   "cell_type": "markdown",
   "metadata": {},
   "source": [
    "OPTIMIZATION"
   ]
  },
  {
   "cell_type": "code",
   "execution_count": 12,
   "metadata": {},
   "outputs": [
    {
     "data": {
      "application/vnd.jupyter.widget-view+json": {
       "model_id": "bf5187d3d21c4cdda157bd681dc97faf",
       "version_major": 2,
       "version_minor": 0
      },
      "text/plain": [
       "Backtest.optimize:   0%|          | 0/6 [00:00<?, ?it/s]"
      ]
     },
     "metadata": {},
     "output_type": "display_data"
    },
    {
     "name": "stderr",
     "output_type": "stream",
     "text": [
      "/usr/bin/sensible-browser: 8: /mnt/c/Program: not found\n",
      "[18608:18659:0404/145125.955345:ERROR:bus.cc(397)] Failed to connect to the bus: Failed to connect to socket /var/run/dbus/system_bus_socket: No such file or directory\n",
      "[18608:18659:0404/145125.959705:ERROR:bus.cc(397)] Failed to connect to the bus: Failed to connect to socket /var/run/dbus/system_bus_socket: No such file or directory\n",
      "[18608:18658:0404/145126.120284:ERROR:bus.cc(397)] Failed to connect to the bus: Could not parse server address: Unknown address type (examples of valid types are \"tcp\" and on UNIX \"unix\")\n",
      "[18608:18658:0404/145126.120405:ERROR:bus.cc(397)] Failed to connect to the bus: Could not parse server address: Unknown address type (examples of valid types are \"tcp\" and on UNIX \"unix\")\n",
      "[18608:18658:0404/145126.503342:ERROR:bus.cc(397)] Failed to connect to the bus: Could not parse server address: Unknown address type (examples of valid types are \"tcp\" and on UNIX \"unix\")\n",
      "[18608:18658:0404/145126.503460:ERROR:bus.cc(397)] Failed to connect to the bus: Could not parse server address: Unknown address type (examples of valid types are \"tcp\" and on UNIX \"unix\")\n",
      "[18608:18658:0404/145127.712392:ERROR:bus.cc(397)] Failed to connect to the bus: Could not parse server address: Unknown address type (examples of valid types are \"tcp\" and on UNIX \"unix\")\n",
      "[18608:18658:0404/145127.719068:ERROR:bus.cc(397)] Failed to connect to the bus: Could not parse server address: Unknown address type (examples of valid types are \"tcp\" and on UNIX \"unix\")\n",
      "[18608:18740:0404/145129.036626:ERROR:bus.cc(397)] Failed to connect to the bus: Failed to connect to socket /var/run/dbus/system_bus_socket: No such file or directory\n",
      "[18608:18740:0404/145129.045475:ERROR:bus.cc(397)] Failed to connect to the bus: Failed to connect to socket /var/run/dbus/system_bus_socket: No such file or directory\n",
      "[18608:18740:0404/145129.048926:ERROR:bus.cc(397)] Failed to connect to the bus: Failed to connect to socket /var/run/dbus/system_bus_socket: No such file or directory\n",
      "[18608:18740:0404/145129.053233:ERROR:bus.cc(397)] Failed to connect to the bus: Failed to connect to socket /var/run/dbus/system_bus_socket: No such file or directory\n",
      "[18608:18740:0404/145129.055958:ERROR:bus.cc(397)] Failed to connect to the bus: Failed to connect to socket /var/run/dbus/system_bus_socket: No such file or directory\n",
      "[18666:18666:0404/145132.339342:ERROR:sandbox_linux.cc(377)] InitializeSandbox() called with multiple threads in process gpu-process.\n",
      "[18608:18690:0404/145133.767332:ERROR:chrome_browser_main_extra_parts_metrics.cc(227)] START: ReportBluetoothAvailability(). If you don't see the END: message, this is crbug.com/1216328.\n",
      "[18608:18690:0404/145133.769419:ERROR:chrome_browser_main_extra_parts_metrics.cc(230)] END: ReportBluetoothAvailability()\n"
     ]
    },
    {
     "name": "stdout",
     "output_type": "stream",
     "text": [
      "Start                                     0.0\n",
      "End                                   74762.0\n",
      "Duration                              74762.0\n",
      "Exposure Time [%]                   13.148215\n",
      "Equity Final [$]                  5034.860812\n",
      "Equity Peak [$]                   5509.687085\n",
      "Return [%]                         906.972162\n",
      "Buy & Hold Return [%]               -2.978043\n",
      "Return (Ann.) [%]                         0.0\n",
      "Volatility (Ann.) [%]                     NaN\n",
      "Sharpe Ratio                              NaN\n",
      "Sortino Ratio                             NaN\n",
      "Calmar Ratio                              0.0\n",
      "Max. Drawdown [%]                  -20.370547\n",
      "Avg. Drawdown [%]                   -1.094701\n",
      "Max. Drawdown Duration                 4344.0\n",
      "Avg. Drawdown Duration             179.493261\n",
      "# Trades                               6467.0\n",
      "Win Rate [%]                        52.605536\n",
      "Best Trade [%]                        0.47816\n",
      "Worst Trade [%]                     -0.215474\n",
      "Avg. Trade [%]                       0.002477\n",
      "Max. Trade Duration                       1.0\n",
      "Avg. Trade Duration                  0.901655\n",
      "Profit Factor                        1.221711\n",
      "Expectancy [%]                       0.002484\n",
      "SQN                                  3.727264\n",
      "_strategy                 MyStrat(ema_wind...\n",
      "_equity_curve                         Equi...\n",
      "_trades                          Size  Ent...\n",
      "dtype: object\n",
      "MyStrat(ema_window=200,rsi_window=2)\n"
     ]
    },
    {
     "data": {
      "text/html": [
       "<div style=\"display: table;\"><div style=\"display: table-row;\"><div style=\"display: table-cell;\"><b title=\"bokeh.models.layouts.Row\">Row</b>(</div><div style=\"display: table-cell;\">id&nbsp;=&nbsp;'2396', <span id=\"2919\" style=\"cursor: pointer;\">&hellip;)</span></div></div><div class=\"2918\" style=\"display: none;\"><div style=\"display: table-cell;\"></div><div style=\"display: table-cell;\">align&nbsp;=&nbsp;'start',</div></div><div class=\"2918\" style=\"display: none;\"><div style=\"display: table-cell;\"></div><div style=\"display: table-cell;\">aspect_ratio&nbsp;=&nbsp;None,</div></div><div class=\"2918\" style=\"display: none;\"><div style=\"display: table-cell;\"></div><div style=\"display: table-cell;\">background&nbsp;=&nbsp;None,</div></div><div class=\"2918\" style=\"display: none;\"><div style=\"display: table-cell;\"></div><div style=\"display: table-cell;\">children&nbsp;=&nbsp;[GridBox(id='2393', ...), ToolbarBox(id='2395', ...)],</div></div><div class=\"2918\" style=\"display: none;\"><div style=\"display: table-cell;\"></div><div style=\"display: table-cell;\">cols&nbsp;=&nbsp;'auto',</div></div><div class=\"2918\" style=\"display: none;\"><div style=\"display: table-cell;\"></div><div style=\"display: table-cell;\">css_classes&nbsp;=&nbsp;[],</div></div><div class=\"2918\" style=\"display: none;\"><div style=\"display: table-cell;\"></div><div style=\"display: table-cell;\">disabled&nbsp;=&nbsp;False,</div></div><div class=\"2918\" style=\"display: none;\"><div style=\"display: table-cell;\"></div><div style=\"display: table-cell;\">height&nbsp;=&nbsp;None,</div></div><div class=\"2918\" style=\"display: none;\"><div style=\"display: table-cell;\"></div><div style=\"display: table-cell;\">height_policy&nbsp;=&nbsp;'auto',</div></div><div class=\"2918\" style=\"display: none;\"><div style=\"display: table-cell;\"></div><div style=\"display: table-cell;\">js_event_callbacks&nbsp;=&nbsp;{},</div></div><div class=\"2918\" style=\"display: none;\"><div style=\"display: table-cell;\"></div><div style=\"display: table-cell;\">js_property_callbacks&nbsp;=&nbsp;{},</div></div><div class=\"2918\" style=\"display: none;\"><div style=\"display: table-cell;\"></div><div style=\"display: table-cell;\">margin&nbsp;=&nbsp;(0, 0, 0, 0),</div></div><div class=\"2918\" style=\"display: none;\"><div style=\"display: table-cell;\"></div><div style=\"display: table-cell;\">max_height&nbsp;=&nbsp;None,</div></div><div class=\"2918\" style=\"display: none;\"><div style=\"display: table-cell;\"></div><div style=\"display: table-cell;\">max_width&nbsp;=&nbsp;None,</div></div><div class=\"2918\" style=\"display: none;\"><div style=\"display: table-cell;\"></div><div style=\"display: table-cell;\">min_height&nbsp;=&nbsp;None,</div></div><div class=\"2918\" style=\"display: none;\"><div style=\"display: table-cell;\"></div><div style=\"display: table-cell;\">min_width&nbsp;=&nbsp;None,</div></div><div class=\"2918\" style=\"display: none;\"><div style=\"display: table-cell;\"></div><div style=\"display: table-cell;\">name&nbsp;=&nbsp;None,</div></div><div class=\"2918\" style=\"display: none;\"><div style=\"display: table-cell;\"></div><div style=\"display: table-cell;\">sizing_mode&nbsp;=&nbsp;'stretch_width',</div></div><div class=\"2918\" style=\"display: none;\"><div style=\"display: table-cell;\"></div><div style=\"display: table-cell;\">spacing&nbsp;=&nbsp;0,</div></div><div class=\"2918\" style=\"display: none;\"><div style=\"display: table-cell;\"></div><div style=\"display: table-cell;\">subscribed_events&nbsp;=&nbsp;[],</div></div><div class=\"2918\" style=\"display: none;\"><div style=\"display: table-cell;\"></div><div style=\"display: table-cell;\">syncable&nbsp;=&nbsp;True,</div></div><div class=\"2918\" style=\"display: none;\"><div style=\"display: table-cell;\"></div><div style=\"display: table-cell;\">tags&nbsp;=&nbsp;[],</div></div><div class=\"2918\" style=\"display: none;\"><div style=\"display: table-cell;\"></div><div style=\"display: table-cell;\">visible&nbsp;=&nbsp;True,</div></div><div class=\"2918\" style=\"display: none;\"><div style=\"display: table-cell;\"></div><div style=\"display: table-cell;\">width&nbsp;=&nbsp;None,</div></div><div class=\"2918\" style=\"display: none;\"><div style=\"display: table-cell;\"></div><div style=\"display: table-cell;\">width_policy&nbsp;=&nbsp;'auto')</div></div></div>\n",
       "<script>\n",
       "(function() {\n",
       "  let expanded = false;\n",
       "  const ellipsis = document.getElementById(\"2919\");\n",
       "  ellipsis.addEventListener(\"click\", function() {\n",
       "    const rows = document.getElementsByClassName(\"2918\");\n",
       "    for (let i = 0; i < rows.length; i++) {\n",
       "      const el = rows[i];\n",
       "      el.style.display = expanded ? \"none\" : \"table-row\";\n",
       "    }\n",
       "    ellipsis.innerHTML = expanded ? \"&hellip;)\" : \"&lsaquo;&lsaquo;&lsaquo;\";\n",
       "    expanded = !expanded;\n",
       "  });\n",
       "})();\n",
       "</script>\n"
      ],
      "text/plain": [
       "Row(id='2396', ...)"
      ]
     },
     "execution_count": 12,
     "metadata": {},
     "output_type": "execute_result"
    },
    {
     "name": "stderr",
     "output_type": "stream",
     "text": [
      "/usr/bin/sensible-browser: 8: /mnt/c/Program: not found\n",
      "[19128:19164:0404/145726.686461:ERROR:bus.cc(397)] Failed to connect to the bus: Failed to connect to socket /var/run/dbus/system_bus_socket: No such file or directory\n",
      "[19128:19164:0404/145726.695124:ERROR:bus.cc(397)] Failed to connect to the bus: Failed to connect to socket /var/run/dbus/system_bus_socket: No such file or directory\n",
      "[19128:19163:0404/145726.734751:ERROR:bus.cc(397)] Failed to connect to the bus: Could not parse server address: Unknown address type (examples of valid types are \"tcp\" and on UNIX \"unix\")\n",
      "[19128:19163:0404/145726.734903:ERROR:bus.cc(397)] Failed to connect to the bus: Could not parse server address: Unknown address type (examples of valid types are \"tcp\" and on UNIX \"unix\")\n",
      "[19128:19163:0404/145726.982628:ERROR:bus.cc(397)] Failed to connect to the bus: Could not parse server address: Unknown address type (examples of valid types are \"tcp\" and on UNIX \"unix\")\n",
      "[19128:19163:0404/145726.982723:ERROR:bus.cc(397)] Failed to connect to the bus: Could not parse server address: Unknown address type (examples of valid types are \"tcp\" and on UNIX \"unix\")\n",
      "[19128:19163:0404/145727.992169:ERROR:bus.cc(397)] Failed to connect to the bus: Could not parse server address: Unknown address type (examples of valid types are \"tcp\" and on UNIX \"unix\")\n",
      "[19128:19163:0404/145727.992234:ERROR:bus.cc(397)] Failed to connect to the bus: Could not parse server address: Unknown address type (examples of valid types are \"tcp\" and on UNIX \"unix\")\n",
      "[19128:19244:0404/145729.398646:ERROR:bus.cc(397)] Failed to connect to the bus: Failed to connect to socket /var/run/dbus/system_bus_socket: No such file or directory\n",
      "[19128:19244:0404/145729.400749:ERROR:bus.cc(397)] Failed to connect to the bus: Failed to connect to socket /var/run/dbus/system_bus_socket: No such file or directory\n",
      "[19128:19244:0404/145729.401255:ERROR:bus.cc(397)] Failed to connect to the bus: Failed to connect to socket /var/run/dbus/system_bus_socket: No such file or directory\n",
      "[19128:19244:0404/145729.402076:ERROR:bus.cc(397)] Failed to connect to the bus: Failed to connect to socket /var/run/dbus/system_bus_socket: No such file or directory\n",
      "[19128:19244:0404/145729.402151:ERROR:bus.cc(397)] Failed to connect to the bus: Failed to connect to socket /var/run/dbus/system_bus_socket: No such file or directory\n",
      "[19128:19158:0404/145734.315157:ERROR:chrome_browser_main_extra_parts_metrics.cc(227)] START: ReportBluetoothAvailability(). If you don't see the END: message, this is crbug.com/1216328.\n",
      "[19128:19158:0404/145734.318897:ERROR:chrome_browser_main_extra_parts_metrics.cc(230)] END: ReportBluetoothAvailability()\n",
      "[0404/145741.980622:ERROR:elf_dynamic_array_reader.h(64)] tag not found\n",
      "[0404/145741.981993:ERROR:elf_dynamic_array_reader.h(64)] tag not found\n",
      "[0404/145741.982121:ERROR:elf_dynamic_array_reader.h(64)] tag not found\n",
      "[0404/145741.982169:ERROR:elf_dynamic_array_reader.h(64)] tag not found\n",
      "[0404/145741.983951:WARNING:exception_snapshot_linux.cc(444)] Unhandled signal -1\n",
      "[0404/145742.002124:ERROR:file_io_posix.cc(144)] open /sys/devices/system/cpu/cpu0/cpufreq/scaling_cur_freq: No such file or directory (2)\n",
      "[0404/145742.002395:ERROR:file_io_posix.cc(144)] open /sys/devices/system/cpu/cpu0/cpufreq/scaling_max_freq: No such file or directory (2)\n",
      "[0404/145742.010822:ERROR:directory_reader_posix.cc(42)] opendir /home/samueltg92/.config/google-chrome/Crash Reports/attachments/90deaff2-39cf-45e4-8478-10111970519e: No such file or directory (2)\n",
      "[19128:19128:0404/145742.122326:ERROR:gpu_process_host.cc(978)] GPU process exited unexpectedly: exit_code=512\n",
      "[0404/145757.318188:ERROR:elf_dynamic_array_reader.h(64)] tag not found\n",
      "[0404/145757.332377:ERROR:elf_dynamic_array_reader.h(64)] tag not found\n",
      "[0404/145757.332908:ERROR:elf_dynamic_array_reader.h(64)] tag not found\n",
      "[0404/145757.333949:ERROR:elf_dynamic_array_reader.h(64)] tag not found\n",
      "[0404/145757.336007:WARNING:exception_snapshot_linux.cc(444)] Unhandled signal -1\n",
      "[0404/145757.340962:ERROR:file_io_posix.cc(144)] open /sys/devices/system/cpu/cpu0/cpufreq/scaling_cur_freq: No such file or directory (2)\n",
      "[0404/145757.341503:ERROR:file_io_posix.cc(144)] open /sys/devices/system/cpu/cpu0/cpufreq/scaling_max_freq: No such file or directory (2)\n",
      "[19128:19128:0404/145757.509279:ERROR:gpu_process_host.cc(978)] GPU process exited unexpectedly: exit_code=512\n"
     ]
    }
   ],
   "source": [
    "stats = bt.optimize(\n",
    "    ema_window = [50, 100, 200],\n",
    "    rsi_window = range(2, 4),\n",
    "    maximize = 'Equity Final [$]',\n",
    ")\n",
    "print(stats)\n",
    "print(stats._strategy)\n",
    "bt.plot(plot_volume=False, plot_pl=False)"
   ]
  },
  {
   "cell_type": "code",
   "execution_count": null,
   "metadata": {},
   "outputs": [],
   "source": []
  }
 ],
 "metadata": {
  "interpreter": {
   "hash": "d5bf52178c2f6b385ff01200ba56c20879e9f5bf036653deba3ae3a93ee7aba2"
  },
  "kernelspec": {
   "display_name": "Python 3.9.7 ('TRADING')",
   "language": "python",
   "name": "python3"
  },
  "language_info": {
   "codemirror_mode": {
    "name": "ipython",
    "version": 3
   },
   "file_extension": ".py",
   "mimetype": "text/x-python",
   "name": "python",
   "nbconvert_exporter": "python",
   "pygments_lexer": "ipython3",
   "version": "3.9.7"
  },
  "orig_nbformat": 4
 },
 "nbformat": 4,
 "nbformat_minor": 2
}
