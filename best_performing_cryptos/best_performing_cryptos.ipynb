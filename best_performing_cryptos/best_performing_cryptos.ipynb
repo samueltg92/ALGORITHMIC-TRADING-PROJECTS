{
 "cells": [
  {
   "cell_type": "code",
   "execution_count": 1,
   "metadata": {},
   "outputs": [],
   "source": [
    "import pandas as pd\n",
    "from tqdm import tqdm as tqdm\n",
    "from binance.client import Client"
   ]
  },
  {
   "cell_type": "code",
   "execution_count": 2,
   "metadata": {},
   "outputs": [],
   "source": [
    "client = Client() # Initialize the Client from binance"
   ]
  },
  {
   "cell_type": "code",
   "execution_count": 3,
   "metadata": {},
   "outputs": [],
   "source": [
    "info = client.get_exchange_info() # Here I obtain all data from binance exchange\n",
    "symbols = [x['symbol'] for x in info['symbols']] # here I filter only \"symbols\" (using List comprehension)"
   ]
  },
  {
   "cell_type": "code",
   "execution_count": 4,
   "metadata": {},
   "outputs": [],
   "source": [
    "exclude = ['UP', 'DOWN', 'BEAR', 'BULL'] # Here is to exclude all leveraged tokens\n",
    "non_lev = [symbol for symbol in symbols if all (excludes not in symbol for excludes in exclude)] # (using List comprehension)\n",
    "relevant = [symbol for symbol in non_lev if symbol.endswith('USDT')] # Here is to filter all pairs that ends with \"USDT\" (using List comprehension)"
   ]
  },
  {
   "cell_type": "code",
   "execution_count": 5,
   "metadata": {},
   "outputs": [
    {
     "name": "stderr",
     "output_type": "stream",
     "text": [
      "100%|██████████| 337/337 [03:15<00:00,  1.73it/s]\n"
     ]
    }
   ],
   "source": [
    "klines = {} # Empty dictionary where it will fill with the kline data\n",
    "for symbol in tqdm(relevant): # a for loop, looping throught the \"relevant\" data using \"tqdm\" to get a progress bar\n",
    "    klines[symbol] = client.get_historical_klines(symbol, '1m', '1 hour ago UTC') # creating the keys for all symbols using the info from binance. I provide the symbol, the interval and how much time i wanna go back"
   ]
  },
  {
   "cell_type": "code",
   "execution_count": 13,
   "metadata": {},
   "outputs": [],
   "source": [
    "returns, symbols = [], [] # Get returns for all symbols appending thats info into both dictionaries\n",
    "\n",
    "for symbol in relevant: # a loop through al the \"relevant\" symbols with USDT\n",
    "    \n",
    "    if len(klines[symbol]) > 0: # Going to check and exclude symbols with no entries (\"returns\")\n",
    "        \n",
    "        cumreturn = (pd.DataFrame(klines[symbol])[4].astype(float).pct_change() +1).prod() -1 # Here I define the cumulative return creating a data frame for each iteration, indexing for the 4th column, converting to a float value\n",
    "        returns.append(cumreturn) # append the \"cumreturn\" values to \"returns\" dictionary\n",
    "        symbols.append(symbol) # append the \"symbol\" values (symbols) to the symbols dictionary"
   ]
  },
  {
   "cell_type": "code",
   "execution_count": 14,
   "metadata": {},
   "outputs": [],
   "source": [
    "returndf = pd.DataFrame(returns, index=symbols, columns=['ret'])"
   ]
  },
  {
   "cell_type": "code",
   "execution_count": 16,
   "metadata": {},
   "outputs": [
    {
     "name": "stdout",
     "output_type": "stream",
     "text": [
      "               ret\n",
      "BTCUSDT   0.000494\n",
      "ETHUSDT  -0.001175\n",
      "BNBUSDT  -0.007639\n",
      "NEOUSDT  -0.000446\n",
      "LTCUSDT  -0.002308\n",
      "...            ...\n",
      "BTTCUSDT  0.004525\n",
      "ACAUSDT   0.001884\n",
      "ANCUSDT  -0.001351\n",
      "XNOUSDT   0.023820\n",
      "WOOUSDT  -0.006567\n",
      "\n",
      "[317 rows x 1 columns]\n"
     ]
    }
   ],
   "source": [
    "print(returndf)"
   ]
  },
  {
   "cell_type": "code",
   "execution_count": 17,
   "metadata": {},
   "outputs": [
    {
     "name": "stdout",
     "output_type": "stream",
     "text": [
      "FIOUSDT     0.042254\n",
      "QIUSDT      0.034346\n",
      "XNOUSDT     0.023820\n",
      "MIRUSDT     0.023372\n",
      "LTOUSDT     0.018090\n",
      "AGLDUSDT    0.018088\n",
      "RNDRUSDT    0.016553\n",
      "UMAUSDT     0.016150\n",
      "KNCUSDT     0.016121\n",
      "FTMUSDT     0.015764\n",
      "Name: ret, dtype: float64\n"
     ]
    }
   ],
   "source": [
    "print(returndf.ret.nlargest(10))"
   ]
  },
  {
   "cell_type": "code",
   "execution_count": null,
   "metadata": {},
   "outputs": [],
   "source": []
  }
 ],
 "metadata": {
  "interpreter": {
   "hash": "d5bf52178c2f6b385ff01200ba56c20879e9f5bf036653deba3ae3a93ee7aba2"
  },
  "kernelspec": {
   "display_name": "Python 3.9.7 ('TRADING')",
   "language": "python",
   "name": "python3"
  },
  "language_info": {
   "codemirror_mode": {
    "name": "ipython",
    "version": 3
   },
   "file_extension": ".py",
   "mimetype": "text/x-python",
   "name": "python",
   "nbconvert_exporter": "python",
   "pygments_lexer": "ipython3",
   "version": "3.9.7"
  },
  "orig_nbformat": 4
 },
 "nbformat": 4,
 "nbformat_minor": 2
}
