{
 "cells": [
  {
   "cell_type": "code",
   "execution_count": 1,
   "metadata": {},
   "outputs": [],
   "source": [
    "import quantstats as qs\n",
    "from binance.client import Client\n",
    "import ccxt\n",
    "import pandas as pd\n",
    "from datetime import datetime"
   ]
  },
  {
   "cell_type": "code",
   "execution_count": 2,
   "metadata": {},
   "outputs": [
    {
     "name": "stdout",
     "output_type": "stream",
     "text": [
      "           Paridad:      Balance  pct\n",
      "datetime                             \n",
      "2022-08-10     USDT  2586.181873  NaN\n"
     ]
    }
   ],
   "source": [
    "# from decouple import config\n",
    "# api_key = config('API_KEY', default='')\n",
    "# secret = config('PRIVATE_KEY', default='')\n",
    "\n",
    "API_KEY = 'AHbKj7FRvBvPn2ehE8RdsBvtvlF02pcs2I4I1XcS13J3fK1Mlk858rdAuHgxaOIp'\n",
    "PRIVATE_KEY = 'djrFpPabh5AS7397MwTgzE3gwKd0NvOg0Y5UEmx9ZW8jC5qh1ZUCcKRVQ7pSPdb0'\n",
    "\n",
    "def test():\n",
    "    \n",
    "    binance = ccxt.binanceusdm({\n",
    "        'apiKey': API_KEY,\n",
    "        'secret': PRIVATE_KEY,\n",
    "        'verbose': False,\n",
    "    })\n",
    "    balances = (binance.fetch_balance())\n",
    "    \n",
    "    for x,y in balances.items():\n",
    "        if x == 'total':\n",
    "            total = x,y\n",
    "            for pair,balance in total[1].items():\n",
    "                if pair == 'USDT':\n",
    "                    df = pd.DataFrame({\n",
    "                        'Paridad:': pair,\n",
    "                        'Balance': balance},index=[1])\n",
    "                    df['pct'] = df['Balance'].pct_change()\n",
    "                    df['datetime'] = datetime.today().strftime('%Y-%m-%d')\n",
    "                    df = df.set_index('datetime')\n",
    "                    print(df)\n",
    "                    \n",
    "                    \n",
    "if __name__ == '__main__':\n",
    "    test()"
   ]
  },
  {
   "cell_type": "code",
   "execution_count": null,
   "metadata": {},
   "outputs": [],
   "source": []
  }
 ],
 "metadata": {
  "kernelspec": {
   "display_name": "Python 3.9.7 ('TRADING')",
   "language": "python",
   "name": "python3"
  },
  "language_info": {
   "codemirror_mode": {
    "name": "ipython",
    "version": 3
   },
   "file_extension": ".py",
   "mimetype": "text/x-python",
   "name": "python",
   "nbconvert_exporter": "python",
   "pygments_lexer": "ipython3",
   "version": "3.9.7"
  },
  "orig_nbformat": 4,
  "vscode": {
   "interpreter": {
    "hash": "d5bf52178c2f6b385ff01200ba56c20879e9f5bf036653deba3ae3a93ee7aba2"
   }
  }
 },
 "nbformat": 4,
 "nbformat_minor": 2
}
