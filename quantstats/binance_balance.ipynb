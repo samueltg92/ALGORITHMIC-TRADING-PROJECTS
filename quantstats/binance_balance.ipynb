{
 "cells": [
  {
   "cell_type": "code",
   "execution_count": 33,
   "metadata": {},
   "outputs": [],
   "source": [
    "import quantstats as qs\n",
    "from binance.client import Client\n",
    "import ccxt\n",
    "import pandas as pd\n",
    "from datetime import datetime\n",
    "import openpyxl"
   ]
  },
  {
   "cell_type": "code",
   "execution_count": 65,
   "metadata": {},
   "outputs": [],
   "source": [
    "# from decouple import config\n",
    "# api_key = config('API_KEY', default='')\n",
    "# secret = config('PRIVATE_KEY', default='')\n",
    "\n",
    "def register_balance(API_KEY, PRIVATE_KEY, sheet_name):\n",
    "    \n",
    "    register = pd.read_excel('Registro_de_operaciones.xlsx',index_col='datetime')\n",
    "    \n",
    "    binance = ccxt.binanceusdm({\n",
    "        'apiKey': API_KEY,\n",
    "        'secret': PRIVATE_KEY,\n",
    "        'verbose': False,\n",
    "    })\n",
    "    balances = (binance.fetch_balance())\n",
    "    \n",
    "    for x,y in balances.items():\n",
    "        if x == 'total':\n",
    "            total = x,y\n",
    "            for pair,balance in total[1].items():\n",
    "                if pair == 'USDT':\n",
    "                    df = pd.DataFrame({\n",
    "                        'Paridad': pair,\n",
    "                        'Balance': balance},index=[1])\n",
    "                    df['pct'] = df['Balance'].pct_change()\n",
    "                    df['datetime'] = datetime.today().strftime('%Y-%m-%d')\n",
    "                    df = df.set_index('datetime')\n",
    "                    new_register = pd.concat([register,df])\n",
    "                    new_register.to_excel('Registro_de_operaciones.xlsx', sheet_name=sheet_name)\n",
    "                    \n",
    "if __name__ == '__main__':\n",
    "    register_balance('llaves samuel', \n",
    "                     'llaves privadas samuel',\n",
    "                     'SamuelTM'\n",
    "                     )\n",
    "    \n",
    "    register_balance('llaves thiago', \n",
    "                     'llaves privadas thiago',\n",
    "                     'ThiagoTM'\n",
    "                     )\n",
    "    register_balance('llaves beeto', \n",
    "                     'llaves privadas beeto',\n",
    "                     'BeetoTM'\n",
    "                     )"
   ]
  },
  {
   "cell_type": "markdown",
   "metadata": {},
   "source": []
  }
 ],
 "metadata": {
  "kernelspec": {
   "display_name": "Python 3.9.7 ('TRADING')",
   "language": "python",
   "name": "python3"
  },
  "language_info": {
   "codemirror_mode": {
    "name": "ipython",
    "version": 3
   },
   "file_extension": ".py",
   "mimetype": "text/x-python",
   "name": "python",
   "nbconvert_exporter": "python",
   "pygments_lexer": "ipython3",
   "version": "3.9.7"
  },
  "orig_nbformat": 4,
  "vscode": {
   "interpreter": {
    "hash": "d5bf52178c2f6b385ff01200ba56c20879e9f5bf036653deba3ae3a93ee7aba2"
   }
  }
 },
 "nbformat": 4,
 "nbformat_minor": 2
}
