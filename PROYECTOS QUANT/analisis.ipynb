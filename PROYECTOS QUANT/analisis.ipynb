{
 "cells": [
  {
   "attachments": {},
   "cell_type": "markdown",
   "metadata": {},
   "source": [
    "## Analisis de QuantStats"
   ]
  },
  {
   "cell_type": "code",
   "execution_count": null,
   "metadata": {},
   "outputs": [],
   "source": [
    "# import pandas as pd\n",
    "# import quantstats as qs\n",
    "\n",
    "# # Leer el archivo CSV en un DataFrame de pandas\n",
    "# df = pd.read_csv('listOfTrades_ApolloFx.csv', parse_dates=['Close time'], index_col='Close time')\n",
    "\n",
    "# # Ordenar el DataFrame por la fecha, ya que QuantStats requiere que los datos estén en orden cronológico\n",
    "# df.sort_index(inplace=True)\n",
    "\n",
    "# df = df[df['Profit/Loss'] != 0]\n",
    "\n",
    "# #Calculo de retorno mensual en $\n",
    "# monthly_returns = df['Profit/Loss'].resample('M').sum()\n",
    "\n",
    "# balance_inicial = 500\n",
    "# df['Balance'] = df['Profit/Loss'].cumsum() + balance_inicial\n",
    "\n",
    "# # # Convertir los beneficios en retornos, dividiendo por el balance acumulado\n",
    "# # df['returns'] = df['Balance'].pct_change()\n",
    "\n",
    "# # # Eliminar cualquier valor nulo que pueda haber resultado de la llamada a pct_change()\n",
    "# # returns = df['returns'].dropna()\n",
    "\n",
    "# # # Realizar un análisis completo de los retornos\n",
    "# # qs.reports.full(returns)\n"
   ]
  },
  {
   "attachments": {},
   "cell_type": "markdown",
   "metadata": {},
   "source": [
    "## Retornos con distribución normal?"
   ]
  },
  {
   "cell_type": "code",
   "execution_count": 20,
   "metadata": {},
   "outputs": [
    {
     "name": "stderr",
     "output_type": "stream",
     "text": [
      "/home/samueltg92/miniconda3/envs/TRADING/lib/python3.9/site-packages/scipy/stats/_morestats.py:1761: UserWarning: p-value may not be accurate for N > 5000.\n",
      "  warnings.warn(\"p-value may not be accurate for N > 5000.\")\n"
     ]
    },
    {
     "name": "stdout",
     "output_type": "stream",
     "text": [
      "Prueba de Shapiro-Wilk: W=0.19862300157546997, p=0.0\n",
      "Prueba de Kolmogorov-Smirnov: statistic=0.4950122540814107, p=0.0\n"
     ]
    },
    {
     "data": {
      "image/png": "[encoded data removed]",
      "text/plain": [
       "<Figure size 432x288 with 1 Axes>"
      ]
     },
     "metadata": {
      "needs_background": "light"
     },
     "output_type": "display_data"
    },
    {
     "data": {
      "image/png": "[encoded data removed]",
      "text/plain": [
       "<Figure size 432x288 with 1 Axes>"
      ]
     },
     "metadata": {
      "needs_background": "light"
     },
     "output_type": "display_data"
    }
   ],
   "source": [
    "%matplotlib inline\n",
    "import pandas as pd\n",
    "import numpy as np\n",
    "import scipy.stats as stats\n",
    "from scipy.stats import norm\n",
    "import matplotlib.pyplot as plt\n",
    "\n",
    "# Supongamos que los retornos están en un archivo CSV en la columna 'Retornos'\n",
    "data = pd.read_csv('listOfTrades_ApolloFx.csv', parse_dates=['Close time'], index_col='Close time')\n",
    "\n",
    "balance_inicial = 500\n",
    "df['Balance'] = df['Profit/Loss'].cumsum() + balance_inicial\n",
    "\n",
    "# Convertir los beneficios en retornos, dividiendo por el balance acumulado\n",
    "df['returns'] = df['Balance'].pct_change()\n",
    "\n",
    "# Eliminar cualquier valor nulo que pueda haber resultado de la llamada a pct_change()\n",
    "returns = df['returns'].dropna()\n",
    "\n",
    "\n",
    "'''Acá se revisa si los retornos tienen una distribución normal'''\n",
    "\n",
    "# Prueba de Shapiro-Wilk\n",
    "w, p = stats.shapiro(returns)\n",
    "print(f\"Prueba de Shapiro-Wilk: W={w}, p={p}\")\n",
    "\n",
    "# Prueba de Kolmogorov-Smirnov\n",
    "ks_stat, ks_p = stats.kstest(returns, 'norm')\n",
    "print(f\"Prueba de Kolmogorov-Smirnov: statistic={ks_stat}, p={ks_p}\")\n",
    "\n",
    "# Histograma\n",
    "plt.hist(returns, bins=100, density=True, alpha=0.5, color='steelblue', edgecolor='none')\n",
    "plt.show()\n",
    "\n",
    "# Gráfico QQ\n",
    "stats.probplot(returns, plot=plt)\n",
    "plt.show()\n"
   ]
  },
  {
   "attachments": {},
   "cell_type": "markdown",
   "metadata": {},
   "source": [
    "## Pruebas VaR y CVaR"
   ]
  },
  {
   "cell_type": "code",
   "execution_count": 19,
   "metadata": {},
   "outputs": [
    {
     "name": "stdout",
     "output_type": "stream",
     "text": [
      "VaR at 5.0 confidence level: -0.32372966782482776\n",
      "CVaR at 5.0 confidence level: -0.3032857421056463\n"
     ]
    }
   ],
   "source": [
    "'''medidas de riesgo que si asumen una distribución normal'''\n",
    "\n",
    "# Suponiendo que 'returns' es tu Serie de pandas de retornos\n",
    "mean = returns.mean()\n",
    "std_dev = returns.std()\n",
    "\n",
    "# Nivel de confianza\n",
    "confidence_level = 0.05\n",
    "\n",
    "VaR = norm.ppf(confidence_level, mean, std_dev)\n",
    "\n",
    "print('VaR at {} confidence level: {}'.format(100*confidence_level, VaR*100))\n",
    "\n",
    "\n",
    "'''medidas de riesgo que no asumen una distribución normal'''\n",
    "\n",
    "# Prueba CVaR\n",
    "alpha = 0.05  # Nivel de confianza\n",
    "VaR = np.percentile(returns, 100*alpha)\n",
    "CVaR = returns[returns <= VaR].mean()\n",
    "\n",
    "print('CVaR at {} confidence level: {}'.format(100*alpha, CVaR*100))\n",
    "\n",
    "\n",
    "'''Los resultados se leen: \n",
    "Un CVaR/VaR de X.x%, implica que, dado que ocurre un evento \n",
    "que se encuentra en el 5% de los peores casos, la pérdida esperada \n",
    "sería aproximadamente del X.x% del valor del portafolio.\n",
    "'''"
   ]
  },
  {
   "cell_type": "code",
   "execution_count": null,
   "metadata": {},
   "outputs": [],
   "source": []
  }
 ],
 "metadata": {
  "kernelspec": {
   "display_name": "TRADING",
   "language": "python",
   "name": "python3"
  },
  "language_info": {
   "codemirror_mode": {
    "name": "ipython",
    "version": 3
   },
   "file_extension": ".py",
   "mimetype": "text/x-python",
   "name": "python",
   "nbconvert_exporter": "python",
   "pygments_lexer": "ipython3",
   "version": "3.9.7"
  },
  "orig_nbformat": 4
 },
 "nbformat": 4,
 "nbformat_minor": 2
}
